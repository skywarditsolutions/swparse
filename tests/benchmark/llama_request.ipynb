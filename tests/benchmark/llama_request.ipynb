{
 "cells": [
  {
   "cell_type": "code",
   "execution_count": null,
   "metadata": {},
   "outputs": [
    {
     "name": "stdout",
     "output_type": "stream",
     "text": [
      "BASE_URL\n",
      "http://3.215.80.255:8000/\n",
      "File:CMS_AI_Playbook_3_Final.pdf uploaded\n",
      "Started parsing the file under job_id saq:job:swparse:e8f2b248-ce69-11ef-bf0d-0242ac130007\n",
      "..Time Taken: 1 min 9 sec 656 ms\n"
     ]
    }
   ],
   "source": [
    "from llama_parse import LlamaParse\n",
    "import os\n",
    "import nest_asyncio\n",
    "from dotenv import load_dotenv\n",
    "from datetime import datetime\n",
    "nest_asyncio.apply()\n",
    "load_dotenv()\n",
    " \n",
    "\n",
    "swparse_api_key = os.environ[\"SWPARSE_KEY\"]\n",
    "BASE_URL = os.environ[\"BASE_URL\"]\n",
    "\n",
    "files = [\n",
    "    # '2024SalesPresentationC6501-PPOs.pdf',\n",
    "    # 'My-Agreements-in-4i-Tip-Sheet_508-1.pdf',\n",
    "    'CMS_AI_Playbook_3_Final.pdf',\n",
    "]\n",
    "\n",
    "pdf_filename = files[0]\n",
    "\n",
    "with open(f\"pdf/{pdf_filename}\", mode=\"rb\") as f:\n",
    "    files = {\n",
    "        'file': (pdf_filename, f, 'application/pdf')\n",
    "    }\n",
    "\n",
    "    headers = {\n",
    "        'Authorization': f'Bearer {swparse_api_key}'\n",
    "    }\n",
    "    try:\n",
    "       \n",
    "        markdown_parser = LlamaParse(\n",
    "            api_key=swparse_api_key,\n",
    "            result_type=\"markdown\",\n",
    "            num_workers=1,\n",
    "            language=\"en\",\n",
    "            base_url=BASE_URL\n",
    "        )\n",
    "\n",
    "        with open( f\"pdf/{pdf_filename}\", \"rb\") as f:\n",
    "            print(f\"File:{pdf_filename} uploaded\")\n",
    "            start_time = datetime.now()\n",
    "            result = markdown_parser.load_data(\n",
    "            f, extra_info={\"file_name\": pdf_filename}\n",
    "            )\n",
    "            assert len(result) == 1\n",
    "            assert len(result[0].text) > 0\n",
    "\n",
    "        # Record the end time\n",
    "        end_time = datetime.now()\n",
    "\n",
    "        # Calculate the time taken\n",
    "        time_taken = end_time - start_time\n",
    "        minutes, seconds = divmod(time_taken.seconds, 60)\n",
    "        milliseconds = time_taken.microseconds // 1000\n",
    "\n",
    "        print(f\"Time Taken: {minutes} min {seconds} sec {milliseconds} ms\")\n",
    "        \n",
    "        md_filename = pdf_filename.replace(\"pdf\",\"md\")\n",
    "        with open(f\"output/{md_filename}\", \"w\") as f:\n",
    "            f.write(result[0].text)\n",
    "\n",
    "    except Exception as e:\n",
    "        print(f\"Error occurred: {str(e)}\")\n"
   ]
  }
 ],
 "metadata": {
  "kernelspec": {
   "display_name": ".venv",
   "language": "python",
   "name": "python3"
  },
  "language_info": {
   "codemirror_mode": {
    "name": "ipython",
    "version": 3
   },
   "file_extension": ".py",
   "mimetype": "text/x-python",
   "name": "python",
   "nbconvert_exporter": "python",
   "pygments_lexer": "ipython3",
   "version": "3.12.2"
  }
 },
 "nbformat": 4,
 "nbformat_minor": 2
}
