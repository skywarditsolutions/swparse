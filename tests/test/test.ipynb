{
 "cells": [
  {
   "cell_type": "code",
   "execution_count": 5,
   "metadata": {},
   "outputs": [
    {
     "name": "stdout",
     "output_type": "stream",
     "text": [
      "update_at\n"
     ]
    }
   ],
   "source": [
    "order_by = [(\"update_at\", \"desc\")]\n",
    "\n",
    "if not isinstance(order_by, list):\n",
    "    order_by = [order_by] \n",
    "for order_field, is_desc in order_by:\n",
    "    print(order_field)"
   ]
  }
 ],
 "metadata": {
  "kernelspec": {
   "display_name": "swparser",
   "language": "python",
   "name": "python3"
  },
  "language_info": {
   "codemirror_mode": {
    "name": "ipython",
    "version": 3
   },
   "file_extension": ".py",
   "mimetype": "text/x-python",
   "name": "python",
   "nbconvert_exporter": "python",
   "pygments_lexer": "ipython3",
   "version": "3.12.7"
  }
 },
 "nbformat": 4,
 "nbformat_minor": 2
}
