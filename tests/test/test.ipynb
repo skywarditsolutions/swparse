{
 "cells": [
  {
   "cell_type": "code",
   "execution_count": 3,
   "metadata": {},
   "outputs": [
    {
     "name": "stdout",
     "output_type": "stream",
     "text": [
      "pdf\n"
     ]
    }
   ],
   "source": []
  },
  {
   "cell_type": "code",
   "execution_count": 5,
   "metadata": {},
   "outputs": [
    {
     "name": "stdout",
     "output_type": "stream",
     "text": [
      "file.pdf\n",
      "file.html\n"
     ]
    }
   ],
   "source": [
    "s3_url = \"parent/child/testing/file.pdf\"  \n",
    "\n",
    "import os\n",
    "def get_file_name(s3_url:str) ->str:\n",
    "    return os.path.basename(s3_url).split('/')[-1]\n",
    "   \n",
    "def change_file_ext(file_name:str, extension:str) ->str:\n",
    "    file_path = file_name.split(\".\")\n",
    "    file_path[-1]=extension\n",
    "    \n",
    "    return \".\".join(file_path)\n",
    "\n",
    "file_name = get_file_name(s3_url) \n",
    "print(file_name)\n",
    "updated_file = change_file_ext(file_name, \"html\")\n",
    "print(updated_file)"
   ]
  }
 ],
 "metadata": {
  "kernelspec": {
   "display_name": "swparser",
   "language": "python",
   "name": "python3"
  },
  "language_info": {
   "codemirror_mode": {
    "name": "ipython",
    "version": 3
   },
   "file_extension": ".py",
   "mimetype": "text/x-python",
   "name": "python",
   "nbconvert_exporter": "python",
   "pygments_lexer": "ipython3",
   "version": "3.12.7"
  }
 },
 "nbformat": 4,
 "nbformat_minor": 2
}
