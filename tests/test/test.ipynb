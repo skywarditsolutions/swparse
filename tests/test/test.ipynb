{
 "cells": [
  {
   "cell_type": "code",
   "execution_count": 5,
   "metadata": {},
   "outputs": [
    {
     "name": "stdout",
     "output_type": "stream",
     "text": [
      "None\n",
      "<class 'NoneType'>\n"
     ]
    }
   ],
   "source": [
    "import base64\n",
    "import json\n",
    "res = \"bnVsbA==\"\n",
    "\n",
    "output =base64.b64decode(res).decode('utf-8')\n",
    "if output == \"null\":\n",
    "    output = None\n",
    "\n",
    "print(output)\n",
    "print(type(output))"
   ]
  },
  {
   "cell_type": "code",
   "execution_count": 31,
   "metadata": {},
   "outputs": [
    {
     "data": {
      "text/plain": [
       "'33:236'"
      ]
     },
     "execution_count": 31,
     "metadata": {},
     "output_type": "execute_result"
    }
   ],
   "source": [
    "import time \n",
    "from datetime import datetime\n",
    "\n",
    "timestamp = time.time()\n",
    "value = datetime.fromtimestamp(timestamp)\n",
    "value.strftime('%S:') + f\"{int(value.strftime('%f')) // 1000}\""
   ]
  },
  {
   "cell_type": "code",
   "execution_count": 7,
   "metadata": {},
   "outputs": [],
   "source": [
    "import pandas as pd\n",
    "from pandas import DataFrame\n",
    "from lxml import html\n",
    "\n",
    "def extract_tables_from_html(html_content: str) -> list[DataFrame] | None:\n",
    "    tree = html.fromstring(html_content)\n",
    "    tables = tree.xpath('//table')\n",
    "\n",
    "    if not tables:\n",
    "        return None\n",
    "\n",
    "    tables_html = [html.tostring(table, method=\"html\").decode() for table in tables]\n",
    "\n",
    "    print(tables_html)\n",
    "    dfs:list[DataFrame] = []\n",
    "    for table_html in tables_html:\n",
    "        try:\n",
    "            df = pd.read_html(table_html)[0]\n",
    "            dfs.append(df)\n",
    "        except ValueError:\n",
    "            continue\n",
    "\n",
    "    return dfs if dfs else None\n",
    " \n",
    "def save_tables_to_markdown(dfs: list[DataFrame], file_name: str) -> None:\n",
    "    with open(file_name, 'w') as md_file:\n",
    "        for i, df in enumerate(dfs):\n",
    "            md_file.write(f\"## Table {i + 1}\\n\\n\")\n",
    "            md_file.write(df.to_markdown())\n",
    "            md_file.write(\"\\n\\n\") \n",
    " \n",
    "with open('sample.html', 'r') as f:\n",
    "    html_content = f.read()\n",
    "\n",
    "dfs = extract_tables_from_html(html_content)\n",
    "\n",
    "if dfs is not None:\n",
    "    save_tables_to_markdown(dfs, 'tables.md')\n",
    "\n"
   ]
  },
  {
   "cell_type": "code",
   "execution_count": 26,
   "metadata": {},
   "outputs": [
    {
     "name": "stdout",
     "output_type": "stream",
     "text": [
      "yes\n"
     ]
    }
   ],
   "source": [
    "import pandas as pd\n",
    "from pandas import DataFrame\n",
    "from bs4 import BeautifulSoup\n",
    "import io\n",
    "\n",
    "def extract_tables_from_html(html_content: str) -> list[DataFrame] | None:\n",
    "    soup = BeautifulSoup(html_content, \"html.parser\")\n",
    "    tables = soup.find_all(\"table\")\n",
    "    if not tables:\n",
    "        print(\"There is no table\")\n",
    "        return None\n",
    "\n",
    "    tables_html = [str(table) for table in tables]\n",
    "\n",
    "    dfs:list[DataFrame] = []\n",
    "    for table_html in tables_html:\n",
    "        try:\n",
    "            str_buffer = io.StringIO(table_html)\n",
    "            df = pd.read_html(str_buffer)[0]\n",
    "            dfs.append(df)\n",
    "        except ValueError:\n",
    "            print(\"There is no table\")\n",
    "            continue\n",
    "    if dfs:\n",
    "        return dfs\n",
    "    return None\n",
    "\n",
    "def save_tables_to_markdown(dfs: list[DataFrame], file_name: str) -> None:\n",
    "    with open(file_name, \"w\") as md_file:\n",
    "        for i, df in enumerate(dfs):\n",
    "            md_file.write(f\"## Table {i + 1}\\n\\n\")\n",
    "            md_file.write(df.to_markdown())\n",
    "            md_file.write(\"\\n\\n\")\n",
    "\n",
    "with open(\"sample.html\") as f:\n",
    "    html_content = f.read()\n",
    "\n",
    "dfs = extract_tables_from_html(html_content)\n",
    "if dfs is not None:\n",
    "    save_tables_to_markdown(dfs, \"tables.md\")\n"
   ]
  },
  {
   "cell_type": "code",
   "execution_count": 3,
   "metadata": {},
   "outputs": [
    {
     "name": "stdout",
     "output_type": "stream",
     "text": [
      "29\n"
     ]
    }
   ],
   "source": [
    "images = {\n",
    "\"0_image_0.png\": \"swparse/220956ac-12be-48d0-b9d7-8ed18c3830c1_0_image_0.png\",\n",
    "\"0_image_1.png\": \"swparse/cd4b8dff-00db-4830-9ad6-1d876ab3ee26_0_image_1.png\",\n",
    "\"0_image_2.png\": \"swparse/2b6907a4-7467-4ca0-aae0-4f1b7f5adfac_0_image_2.png\",\n",
    "\"0_image_3.png\": \"swparse/f4ac9214-18cb-4fa2-8ef3-d3705b4de188_0_image_3.png\",\n",
    "\"1_image_0.png\": \"swparse/d38dffd1-8aed-4548-9537-0425824dee78_1_image_0.png\",\n",
    "\"1_image_1.png\": \"swparse/e3f44216-e590-47c1-8efb-8b811a510548_1_image_1.png\",\n",
    "\"1_image_2.png\": \"swparse/c7127768-6d84-4f2b-93d8-0bb89f9cebff_1_image_2.png\",\n",
    "\"2_image_0.png\": \"swparse/ad724076-ef2d-432f-9cd6-f680c72ea51a_2_image_0.png\",\n",
    "\"2_image_1.png\": \"swparse/f55d1286-9c2a-470e-b5fc-20ce0b1695a4_2_image_1.png\",\n",
    "\"2_image_2.png\": \"swparse/f5049ffd-2f00-4646-b46e-ed1c931819cf_2_image_2.png\",\n",
    "\"2_image_3.png\": \"swparse/b5d3680e-20fa-48af-8886-566ec6f174d7_2_image_3.png\",\n",
    "\"3_image_0.png\": \"swparse/ba218439-978e-4c5e-a8cc-4fa9fdb019a3_3_image_0.png\",\n",
    "\"3_image_1.png\": \"swparse/ef118f5d-7d61-4d4d-bf07-97d3fb2bfbd9_3_image_1.png\",\n",
    "\"4_image_0.png\": \"swparse/8d77db81-d48e-47f9-9775-d56c7599bb33_4_image_0.png\",\n",
    "\"4_image_1.png\": \"swparse/5e9b85d6-9645-4d10-95da-24d907e81a8e_4_image_1.png\",\n",
    "\"4_image_2.png\": \"swparse/9b4d7790-c590-41eb-9633-62f9412cd9b3_4_image_2.png\",\n",
    "\"5_image_0.png\": \"swparse/86946d69-53fc-4aab-b8c5-bc94684cc11c_5_image_0.png\",\n",
    "\"5_image_1.png\": \"swparse/fbd070a3-6f67-4755-9fb9-53fdbc3f381f_5_image_1.png\",\n",
    "\"6_image_0.png\": \"swparse/9a44c957-aa0f-4b87-9115-07c1c5185996_6_image_0.png\",\n",
    "\"6_image_1.png\": \"swparse/340bc8d7-d49c-497a-a21e-afa848044be7_6_image_1.png\",\n",
    "\"6_image_2.png\": \"swparse/e8b0b2a4-cfb2-4efd-9d1e-39eff51973da_6_image_2.png\",\n",
    "\"7_image_0.png\": \"swparse/c5dab1bb-5f6e-4845-bb1f-886b589c9de0_7_image_0.png\",\n",
    "\"7_image_1.png\": \"swparse/b4ccbaa0-602b-4177-af55-c971eca82212_7_image_1.png\",\n",
    "\"8_image_0.png\": \"swparse/4b8a3c22-8fdb-4928-bf8b-14afc31b8e92_8_image_0.png\",\n",
    "\"8_image_1.png\": \"swparse/53232fe0-ffb6-4b76-b66f-5d1f0c6a83ea_8_image_1.png\",\n",
    "\"9_image_0.png\": \"swparse/46199a5f-50e0-47a7-bc78-149e1496bb4b_9_image_0.png\",\n",
    "\"9_image_1.png\": \"swparse/c66cdcdf-a734-4d13-9c43-defd75c4c2f8_9_image_1.png\",\n",
    "\"10_image_0.png\": \"swparse/c6768eec-7d51-491d-b238-79b2f811cd6a_10_image_0.png\",\n",
    "\"10_image_1.png\": \"swparse/24985bb3-f7d0-4325-ba68-fe9848348d63_10_image_1.png\"\n",
    "}\n",
    "\n",
    "print(len(list(images.keys())))\n"
   ]
  },
  {
   "cell_type": "code",
   "execution_count": 37,
   "metadata": {},
   "outputs": [
    {
     "name": "stdout",
     "output_type": "stream",
     "text": [
      "Time differences (ms): [0.102]\n",
      "Total time taken (ms): 0.102\n"
     ]
    }
   ],
   "source": [
    "logs = [\n",
    "\n",
    "{\"event\":\"Model loading start: 19 min, 04 sec, 217 milliseconds\",\"level\":\"info\",\"timestamp\":\"2024-11-28T10:19:21.102582Z\"},\n",
    "{\"event\":\"Model loading end: 19 min, 04 sec, 217 milliseconds\",\"level\":\"info\",\"timestamp\":\"2024-11-28T10:19:21.102673Z\"},\n",
    "{\"event\":\"Model loading time taken 00 min, 00 sec, 0 milliseconds\\n\\n\",\"level\":\"info\",\"timestamp\":\"2024-11-28T10:19:21.102727Z\"},\n",
    "{\"event\":\"surya_detection_start: 19 min, 04 sec, 217 milliseconds\",\"level\":\"info\",\"timestamp\":\"2024-11-28T10:19:21.102775Z\"},\n",
    "{\"event\":\"surya_detection_start: 19 min, 07 sec, 844 milliseconds\",\"level\":\"info\",\"timestamp\":\"2024-11-28T10:19:21.102821Z\"},\n",
    "]\n",
    "\n",
    "total = [\n",
    "    {\"event\":\"api_end_time 19 min, 21 sec, 498 milliseconds\",\"level\":\"info\",\"timestamp\":\"2024-11-28T10:19:21.499200Z\"},\n",
    "]\n",
    "\n",
    "count = 0\n",
    "\n",
    "timestamps = []\n",
    "\n",
    "timestamps = [\n",
    "    datetime.fromisoformat(log[\"timestamp\"].rstrip(\"Z\"))\n",
    "    for idx, log in enumerate(logs)\n",
    "    if (idx + 1) % 2 == 0\n",
    "]\n",
    "\n",
    "# Ensure we have at least two timestamps to calculate differences\n",
    "if len(timestamps) > 1:\n",
    "    time_differences = [\n",
    "        (timestamps[i + 1] - timestamps[i]).total_seconds() * 1000\n",
    "        for i in range(len(timestamps) - 1)\n",
    "    ]\n",
    "    total_time = sum(time_differences)\n",
    "\n",
    "    print(f\"Time differences (ms): {time_differences}\")\n",
    "    print(f\"Total time taken (ms): {total_time}\")\n",
    "else:\n",
    "    print(\"Not enough timestamps to calculate time differences.\")\n"
   ]
  },
  {
   "cell_type": "code",
   "execution_count": null,
   "metadata": {},
   "outputs": [],
   "source": [
    "03 \n",
    "00 \n",
    "08 \n",
    "00 \n",
    "02 \n",
    "00 \n",
    "00 \n",
    "00 \n",
    "00 \n",
    "00 \n",
    "00 \n",
    "00 \n",
    "18 \n",
    "00 \n",
    "\n",
    " "
   ]
  }
 ],
 "metadata": {
  "kernelspec": {
   "display_name": "base",
   "language": "python",
   "name": "python3"
  },
  "language_info": {
   "codemirror_mode": {
    "name": "ipython",
    "version": 3
   },
   "file_extension": ".py",
   "mimetype": "text/x-python",
   "name": "python",
   "nbconvert_exporter": "python",
   "pygments_lexer": "ipython3",
   "version": "3.12.2"
  }
 },
 "nbformat": 4,
 "nbformat_minor": 2
}
