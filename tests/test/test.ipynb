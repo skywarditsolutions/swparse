{
 "cells": [
  {
   "cell_type": "code",
   "execution_count": 5,
   "metadata": {},
   "outputs": [
    {
     "name": "stdout",
     "output_type": "stream",
     "text": [
      "None\n",
      "<class 'NoneType'>\n"
     ]
    }
   ],
   "source": [
    "import base64\n",
    "import json\n",
    "res = \"bnVsbA==\"\n",
    "\n",
    "output =base64.b64decode(res).decode('utf-8')\n",
    "if output == \"null\":\n",
    "    output = None\n",
    "\n",
    "print(output)\n",
    "print(type(output))"
   ]
  },
  {
   "cell_type": "code",
   "execution_count": 5,
   "metadata": {},
   "outputs": [
    {
     "name": "stdout",
     "output_type": "stream",
     "text": [
      "file.pdf\n",
      "file.html\n"
     ]
    }
   ],
   "source": [
    "s3_url = \"parent/child/testing/file.pdf\"  \n",
    "\n",
    "import os\n",
    "def get_file_name(s3_url:str) ->str:\n",
    "    return os.path.basename(s3_url).split('/')[-1]\n",
    "   \n",
    "def change_file_ext(file_name:str, extension:str) ->str:\n",
    "    file_path = file_name.split(\".\")\n",
    "    file_path[-1]=extension\n",
    "    \n",
    "    return \".\".join(file_path)\n",
    "\n",
    "file_name = get_file_name(s3_url) \n",
    "print(file_name)\n",
    "updated_file = change_file_ext(file_name, \"html\")\n",
    "print(updated_file)"
   ]
  },
  {
   "cell_type": "code",
   "execution_count": 7,
   "metadata": {},
   "outputs": [],
   "source": [
    "import pandas as pd\n",
    "from pandas import DataFrame\n",
    "from lxml import html\n",
    "\n",
    "def extract_tables_from_html(html_content: str) -> list[DataFrame] | None:\n",
    "    tree = html.fromstring(html_content)\n",
    "    tables = tree.xpath('//table')\n",
    "\n",
    "    if not tables:\n",
    "        return None\n",
    "\n",
    "    tables_html = [html.tostring(table, method=\"html\").decode() for table in tables]\n",
    "\n",
    "    print(tables_html)\n",
    "    dfs:list[DataFrame] = []\n",
    "    for table_html in tables_html:\n",
    "        try:\n",
    "            df = pd.read_html(table_html)[0]\n",
    "            dfs.append(df)\n",
    "        except ValueError:\n",
    "            continue\n",
    "\n",
    "    return dfs if dfs else None\n",
    " \n",
    "def save_tables_to_markdown(dfs: list[DataFrame], file_name: str) -> None:\n",
    "    with open(file_name, 'w') as md_file:\n",
    "        for i, df in enumerate(dfs):\n",
    "            md_file.write(f\"## Table {i + 1}\\n\\n\")\n",
    "            md_file.write(df.to_markdown())\n",
    "            md_file.write(\"\\n\\n\") \n",
    " \n",
    "with open('sample.html', 'r') as f:\n",
    "    html_content = f.read()\n",
    "\n",
    "dfs = extract_tables_from_html(html_content)\n",
    "\n",
    "if dfs is not None:\n",
    "    save_tables_to_markdown(dfs, 'tables.md')\n",
    "\n"
   ]
  },
  {
   "cell_type": "code",
   "execution_count": 26,
   "metadata": {},
   "outputs": [
    {
     "name": "stdout",
     "output_type": "stream",
     "text": [
      "yes\n"
     ]
    }
   ],
   "source": [
    "import pandas as pd\n",
    "from pandas import DataFrame\n",
    "from bs4 import BeautifulSoup\n",
    "import io\n",
    "\n",
    "def extract_tables_from_html(html_content: str) -> list[DataFrame] | None:\n",
    "    soup = BeautifulSoup(html_content, \"html.parser\")\n",
    "    tables = soup.find_all(\"table\")\n",
    "    if not tables:\n",
    "        print(\"There is no table\")\n",
    "        return None\n",
    "\n",
    "    tables_html = [str(table) for table in tables]\n",
    "\n",
    "    dfs:list[DataFrame] = []\n",
    "    for table_html in tables_html:\n",
    "        try:\n",
    "            str_buffer = io.StringIO(table_html)\n",
    "            df = pd.read_html(str_buffer)[0]\n",
    "            dfs.append(df)\n",
    "        except ValueError:\n",
    "            print(\"There is no table\")\n",
    "            continue\n",
    "    if dfs:\n",
    "        return dfs\n",
    "    return None\n",
    "\n",
    "def save_tables_to_markdown(dfs: list[DataFrame], file_name: str) -> None:\n",
    "    with open(file_name, \"w\") as md_file:\n",
    "        for i, df in enumerate(dfs):\n",
    "            md_file.write(f\"## Table {i + 1}\\n\\n\")\n",
    "            md_file.write(df.to_markdown())\n",
    "            md_file.write(\"\\n\\n\")\n",
    "\n",
    "with open(\"sample.html\") as f:\n",
    "    html_content = f.read()\n",
    "\n",
    "dfs = extract_tables_from_html(html_content)\n",
    "if dfs is not None:\n",
    "    save_tables_to_markdown(dfs, \"tables.md\")\n"
   ]
  },
  {
   "cell_type": "code",
   "execution_count": 10,
   "metadata": {},
   "outputs": [
    {
     "ename": "XMLSyntaxError",
     "evalue": "XML declaration allowed only at the start of the document, line 2, column 6 (<string>, line 2)",
     "output_type": "error",
     "traceback": [
      "Traceback \u001b[0;36m(most recent call last)\u001b[0m:\n",
      "\u001b[0m  File \u001b[1;32m~/miniconda3/envs/analysis/lib/python3.12/site-packages/IPython/core/interactiveshell.py:3577\u001b[0m in \u001b[1;35mrun_code\u001b[0m\n    exec(code_obj, self.user_global_ns, self.user_ns)\u001b[0m\n",
      "\u001b[0m  Cell \u001b[1;32mIn[10], line 14\u001b[0m\n    root = etree.fromstring(text.encode('utf-8'), parser)\u001b[0m\n",
      "\u001b[0m  File \u001b[1;32msrc/lxml/etree.pyx:3306\u001b[0m in \u001b[1;35mlxml.etree.fromstring\u001b[0m\n",
      "\u001b[0m  File \u001b[1;32msrc/lxml/parser.pxi:1995\u001b[0m in \u001b[1;35mlxml.etree._parseMemoryDocument\u001b[0m\n",
      "\u001b[0m  File \u001b[1;32msrc/lxml/parser.pxi:1882\u001b[0m in \u001b[1;35mlxml.etree._parseDoc\u001b[0m\n",
      "\u001b[0m  File \u001b[1;32msrc/lxml/parser.pxi:1164\u001b[0m in \u001b[1;35mlxml.etree._BaseParser._parseDoc\u001b[0m\n",
      "\u001b[0m  File \u001b[1;32msrc/lxml/parser.pxi:633\u001b[0m in \u001b[1;35mlxml.etree._ParserContext._handleParseResultDoc\u001b[0m\n",
      "\u001b[0m  File \u001b[1;32msrc/lxml/parser.pxi:743\u001b[0m in \u001b[1;35mlxml.etree._handleParseResult\u001b[0m\n",
      "\u001b[0;36m  File \u001b[0;32msrc/lxml/parser.pxi:672\u001b[0;36m in \u001b[0;35mlxml.etree._raiseParseError\u001b[0;36m\n",
      "\u001b[0;36m  File \u001b[0;32m<string>:2\u001b[0;36m\u001b[0m\n\u001b[0;31mXMLSyntaxError\u001b[0m\u001b[0;31m:\u001b[0m XML declaration allowed only at the start of the document, line 2, column 6\n"
     ]
    }
   ],
   "source": [
    "import xml2html\n",
    "im\n",
    " \n",
    "text = \"\"\"\n",
    "<?xml version=\"1.0\" encoding=\"UTF-8\"?>\n",
    "<note>\n",
    "  <to>Tove</to>\n",
    "  <from>Jani</from>\n",
    "  <heading>Reminder</heading>\n",
    "  <body>Don't forget the meeting tomorrow!</body>\n",
    "</note>\n",
    "\n",
    "\"\"\"\n",
    " \n",
    " \n",
    "# Convert XML to HTML\n",
    "html = etree.tostring(root, method='html', pretty_print=True).decode()\n",
    "print(html)\n"
   ]
  }
 ],
 "metadata": {
  "kernelspec": {
   "display_name": "analysis",
   "language": "python",
   "name": "python3"
  },
  "language_info": {
   "codemirror_mode": {
    "name": "ipython",
    "version": 3
   },
   "file_extension": ".py",
   "mimetype": "text/x-python",
   "name": "python",
   "nbconvert_exporter": "python",
   "pygments_lexer": "ipython3",
   "version": "3.12.7"
  }
 },
 "nbformat": 4,
 "nbformat_minor": 2
}
