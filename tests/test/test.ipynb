{
 "cells": [
  {
   "cell_type": "code",
   "execution_count": 5,
   "metadata": {},
   "outputs": [
    {
     "name": "stdout",
     "output_type": "stream",
     "text": [
      "None\n",
      "<class 'NoneType'>\n"
     ]
    }
   ],
   "source": [
    "import base64\n",
    "import json\n",
    "res = \"bnVsbA==\"\n",
    "\n",
    "output =base64.b64decode(res).decode('utf-8')\n",
    "if output == \"null\":\n",
    "    output = None\n",
    "\n",
    "print(output)\n",
    "print(type(output))"
   ]
  },
  {
   "cell_type": "code",
   "execution_count": 5,
   "metadata": {},
   "outputs": [
    {
     "name": "stdout",
     "output_type": "stream",
     "text": [
      "file.pdf\n",
      "file.html\n"
     ]
    }
   ],
   "source": [
    "s3_url = \"parent/child/testing/file.pdf\"  \n",
    "\n",
    "import os\n",
    "def get_file_name(s3_url:str) ->str:\n",
    "    return os.path.basename(s3_url).split('/')[-1]\n",
    "   \n",
    "def change_file_ext(file_name:str, extension:str) ->str:\n",
    "    file_path = file_name.split(\".\")\n",
    "    file_path[-1]=extension\n",
    "    \n",
    "    return \".\".join(file_path)\n",
    "\n",
    "file_name = get_file_name(s3_url) \n",
    "print(file_name)\n",
    "updated_file = change_file_ext(file_name, \"html\")\n",
    "print(updated_file)"
   ]
  },
  {
   "cell_type": "code",
   "execution_count": 7,
   "metadata": {},
   "outputs": [],
   "source": [
    "import pandas as pd\n",
    "from pandas import DataFrame\n",
    "from lxml import html\n",
    "\n",
    "def extract_tables_from_html(html_content: str) -> list[DataFrame] | None:\n",
    "    tree = html.fromstring(html_content)\n",
    "    tables = tree.xpath('//table')\n",
    "\n",
    "    if not tables:\n",
    "        return None\n",
    "\n",
    "    tables_html = [html.tostring(table, method=\"html\").decode() for table in tables]\n",
    "\n",
    "    print(tables_html)\n",
    "    dfs:list[DataFrame] = []\n",
    "    for table_html in tables_html:\n",
    "        try:\n",
    "            df = pd.read_html(table_html)[0]\n",
    "            dfs.append(df)\n",
    "        except ValueError:\n",
    "            continue\n",
    "\n",
    "    return dfs if dfs else None\n",
    " \n",
    "def save_tables_to_markdown(dfs: list[DataFrame], file_name: str) -> None:\n",
    "    with open(file_name, 'w') as md_file:\n",
    "        for i, df in enumerate(dfs):\n",
    "            md_file.write(f\"## Table {i + 1}\\n\\n\")\n",
    "            md_file.write(df.to_markdown())\n",
    "            md_file.write(\"\\n\\n\") \n",
    " \n",
    "with open('sample.html', 'r') as f:\n",
    "    html_content = f.read()\n",
    "\n",
    "dfs = extract_tables_from_html(html_content)\n",
    "\n",
    "if dfs is not None:\n",
    "    save_tables_to_markdown(dfs, 'tables.md')\n",
    "\n"
   ]
  },
  {
   "cell_type": "code",
   "execution_count": 26,
   "metadata": {},
   "outputs": [
    {
     "name": "stdout",
     "output_type": "stream",
     "text": [
      "yes\n"
     ]
    }
   ],
   "source": [
    "import pandas as pd\n",
    "from pandas import DataFrame\n",
    "from bs4 import BeautifulSoup\n",
    "import io\n",
    "\n",
    "def extract_tables_from_html(html_content: str) -> list[DataFrame] | None:\n",
    "    soup = BeautifulSoup(html_content, \"html.parser\")\n",
    "    tables = soup.find_all(\"table\")\n",
    "    if not tables:\n",
    "        print(\"There is no table\")\n",
    "        return None\n",
    "\n",
    "    tables_html = [str(table) for table in tables]\n",
    "\n",
    "    dfs:list[DataFrame] = []\n",
    "    for table_html in tables_html:\n",
    "        try:\n",
    "            str_buffer = io.StringIO(table_html)\n",
    "            df = pd.read_html(str_buffer)[0]\n",
    "            dfs.append(df)\n",
    "        except ValueError:\n",
    "            print(\"There is no table\")\n",
    "            continue\n",
    "    if dfs:\n",
    "        return dfs\n",
    "    return None\n",
    "\n",
    "def save_tables_to_markdown(dfs: list[DataFrame], file_name: str) -> None:\n",
    "    with open(file_name, \"w\") as md_file:\n",
    "        for i, df in enumerate(dfs):\n",
    "            md_file.write(f\"## Table {i + 1}\\n\\n\")\n",
    "            md_file.write(df.to_markdown())\n",
    "            md_file.write(\"\\n\\n\")\n",
    "\n",
    "with open(\"sample.html\") as f:\n",
    "    html_content = f.read()\n",
    "\n",
    "dfs = extract_tables_from_html(html_content)\n",
    "if dfs is not None:\n",
    "    save_tables_to_markdown(dfs, \"tables.md\")\n"
   ]
  },
  {
   "cell_type": "code",
   "execution_count": 2,
   "metadata": {},
   "outputs": [
    {
     "name": "stdout",
     "output_type": "stream",
     "text": [
      "| A | B | C | F | G | H | I | K | L | M | N | O | P | Q | R | S | T | U | V | W | X  \n",
      "---|---|---|---|---|---|---|---|---|---|---|---|---|---|---|---|---|---|---|---|---|---  \n",
      "A |  | R' D R U:[U,R' D' R] | R' D R U':[R' D' R,U2] | R:[R D R',U2] td | D:[U,R' D' R] | D':[U,R' D R] |  | [U,R' D' R] | [R D R',U'] | R':[U',R' D' R] tu | R:[R D R',U] td | [R D' R',U'] | [U,R' D R] |  | R':[U2,R' D' R] tu | D':[R D R',U'] | D':[U,R' D' R] | [U,R' D R U' R D' R'] | R F':[D,R' U' R] | R' B:[R U R',D'] | [R D' R' U R' D R,U']  \n",
      "B | R' D R U:[R' D' R,U] |  | R' D R U':[R' D' R,U'] | R' F R U D:[R' D' R,U] | U D':[R D' R',U2] | U D:[R D R',U2] | R D R' U D':[R D R',U2] | [U2,R' D' R] ru2 | U:[R D R',U2] | R F R' D':[U2,R' D R] |  | U:[R D' R',U2] | [U2,R' D R] lu2 ru2 | R' D':[R' D R,U2] |  | U D':[R D R',U2] | U D:[R D' R',U2] | [U2,R' D R U' R D' R'] | R F' R' U:[R D R',U2] | R' D' R:[D, R U2 R'] | R D' R':[U2,R' D R]  \n",
      "C | R' D R U:[R' D' R,U2] | R' D R U':[U',R' D' R] |  |  | D:[U',R' D' R] | D':[U',R' D R] | R' F' R U:[R' D R,U2] | [U',R' D' R] | U':[U',R D R'] |  | U' R:[U2,R D R'] td | U':[U',R D' R'] | [U',R' D R] | R' D':[R' D R,U'] tu | U' R':[R' D' R,U'] tu | D:[U',R' D R] | D':[U',R' D' R] | [U',R' D R U' R D' R'] | U' R F':[R' U' R,D] | R' B:[R U' R',D'] | R D' R':[U',R' D R]  \n",
      "F | R:[U2,R D R'] td | R' F R U2 D:[R' D' R,U'] |  |  | R U':[R' D R,U2] td | R':[F2,R D' R' D] | R U R D' R':[U2,R' D R] td | D R U':[R' D' R,U2] td | R U' D':[R' D R,U2] td |  | R2 D R' U:[R D' R',U] td | R D':[U2,R D R'] td | U R U R':[R' D R,U2] | R D:[U2,R D' R'] td | R2 U' R U':[R' D' R,U2] tu | B R U':[R' D' R,U2] td | R U':[R' D' R,U2] | R U' R' D':[U2,R' D R] | R U' D:[R' D' R,U2] | R:[U2,R D' R'] td | D R:[U2,R D' R'] td  \n",
      "G | D:[R' D' R,U] | D:[R' D' R,U2] | D:[R' D' R,U'] | R U:[R' D R,U2] td |  | F:[D,R U' R'] td | U R U' D:[R' D' R,U2] | [R U R',D] td | R' F' R:[U', R D R'] | D R' U':[D',R U R'] | R U:[R' D R,U] | R' F' R:[U',R D' R'] |  | R' F:[D,R U' R'] | R B' R' D:[U,R' D' R] | R' F' R D':[U',R D R'] | R' F' R D':[R' D' R,U] | R U' R':[U2,R' D R] |  | F R U':[U',R D' R'] td | D R:[U',R D' R'] td  \n",
      "H | D':[R' D R,U] | U' D:[R D R',U2] | D':[R' D R,U'] | R':[R D' R' D,F2] | F:[R U' R',D] td |  | U' R' U':[R D R',U2] tu |  | U:[D',R U' R'] | D' R' U':[D,R U R'] | R U R':[R' D' R,U'] | U R U R' U:[U,R D' R'] | U:[D,R U' R'] | D' R' U:[D,R U' R'] | U' R' U':[R D R',U'] tu | D' R' U:[D,R U R'] | D R' U R:[R D' R',U'] |  | U' R2 U:[R U R',D] tu | R B R' U:[U,R' D' R] | R D' R' U:[D,R U' R']  \n",
      "I |  | R D R' U' D':[R D R',U2] | R' F' R U':[R' D R,U2] | R U R D' R':[R' D R,U2] td | U R U D:[R' D' R,U2] | U' R' U:[R D R',U2] tu |  | R' F' R U':[R' D' R,U2] | U R U:[R' D' R,U2] | R' D' R U' D:[R' D' R,U2] | R B R' U' D':[R D R',U2] | R' F' R:[U2,R D' R'] | U R U:[R' D R,U2] |  | R B R' U':[R D' R',U2] | U' R' U:[R D' R',U2] | D R' F' R:[U2,R D' R'] | D' R B R':[R' D R,U2] | U' R':[U2,R' D R] tu | U' R' U D':[R D R',U2] | R B R' U':[R D R',U2]  \n",
      "K | [R' D' R,U] | [R' D' R,U2] | [R' D' R,U'] | D R U:[R' D' R,U2] td | [D,R U R'] td |  | R' F' R U:[R' D' R,U2] |  | R D R':[R' D' R,U] | R' U':[D',R U R'] | D R U:[R' D' R,U] | [D2,R U R'] | U' R U' R':[R' D R,U] | R' U:[D',R U' R'] tu | R B' R':[U,R' D' R] | D' R' F' R:[U',R D R'] | [D',R U R'] |  | R D:[R' D' R,U] td | R:[U',R D' R'] td | D' R U' R':[U2,R' D R]  \n",
      "L | [U',R D R'] | U':[R D R',U2] | U':[R D R',U'] | R U D':[R' D R,U2] td | R' F' R:[R D R',U'] | U:[R U' R',D'] | U R U':[R' D' R,U2] | R D R':[U,R' D' R] |  | U' R U':[D,R' U R] | R U D':[R' D R,U] td | R' U R:[R D' R',U'] | R' U:[R U R',D] | U' R U:[D,R' U' R] | R' U R:[R D R',U'] | U':[D',R' U' R] |  | R U' D' R':[U2,R' D R] | U' R':[U,R' D R] tu | U' R' D':[R D R',U'] tu |   \n",
      "M | R':[R' D' R,U'] tu | R F R' D':[R' D R,U2] |  |  | D R' U':[R U R',D'] | D' R' U':[R U R',D] | R' D' R U D:[R' D' R,U2] | R' U':[R U R',D'] | U' R U':[R' U R,D] |  | R' F R U:[U,R' D R] | U' R U':[R' U R,D'] | R' U':[R U R',D] | R' F:[D,R U R'] | R' U':[U',R' D' R] tu | R' U' R D':[R D R',U'] | D R' U' R:[R D' R',U'] | R U' R':[U2,R' D' R] | U' R' U:[D,R U' R'] tu | F R:[R D' R',U'] td | R B R' U:[U,R D R']  \n",
      "N | R:[U,R D R'] td |  | U' R:[R D R',U2] td | R2 D R' U:[U,R D' R'] td | R U:[U,R' D R] | R U R':[U',R' D' R] | R B R' U D':[R D R',U2] | D R U:[U,R' D' R] td | R U2 D':[R' D R,U'] td | R' F R U:[R' D R,U] |  | R D':[U,R D R'] td | D R U R':[U',R' D' R] | U R':[R' D' R,U'] |  | D2 R U R':[U',R' D' R] | R U:[U,R' D' R] td | R U R2 U':[R U R',D'] | R U2 D:[R' D' R,U'] td | R:[U,R D' R'] td | D R:[U,R D' R']  \n",
      "O | [U',R D' R'] | U':[R D' R',U2] | U':[R D' R',U'] | R D':[R D R',U2] td | R' F' R:[R D' R',U'] | U R U R' U:[R D' R',U] | R' F' R:[R D' R',U2] | [R U R',D2] | R' U R:[U',R D' R'] tu | U' R U':[D',R' U R] | R D':[R D R',U] td |  | U' R' F R U':[R D' R',U'] | U' R U:[D',R' U' R] | U2 R U' R' U:[U,R D' R'] |  | U:[R' U2 R,D'] | R U' R' U D':[R D R',U2] | R D R' F:[R U' R',D'] td |  | R D' R':[U,R' D R]  \n",
      "P | [R' D R,U] | [R' D R,U2] ru2 | [R' D R,U'] | U R U R':[U2,R' D R] |  | U:[R U' R',D] | U R U':[R' D R,U2] | U' R U' R':[U,R' D R] | R' U:[D,R U R'] | R' U':[D,R U R'] | D R U R':[R' D' R,U'] | U' R' F R U':[U',R D' R'] ru2 |  | R' U:[D,R U' R'] | R B' R':[U,R' D R] | U' R B R':[R' D R,U] | R' U':[D,R U2 R'] tu | U' R' D R:[U',R D' R'] |  | R B R' U2 D:[R' D' R,U'] | F':[D',R U' R'] td  \n",
      "Q |  | R' D':[U2,R' D R] | R' D':[U',R' D R] tu | R D:[R D' R',U2] td | R' F:[R U' R',D] | D' R' U:[R U' R',D] |  | R' U:[R U' R',D'] tu | U' R U:[R' U' R,D] | R' F:[R U R',D] | U R':[U',R' D' R] tu | U' R U:[R' U' R,D'] | R' U:[R U' R',D] tu |  | R U R' D':[R' D R,U] | R' D' R' U:[D,R U R'] tu | R U':[D,R' U R] | U R' U':[D',R U R'] | U D R' U':[D',R U R'] | R U':[D',R' U R] | D R U':[D',R' U R]  \n",
      "R | R':[R' D' R,U2] tu |  | U' R':[U',R' D' R] tu | R2 U' R U:[R' D' R,U2] tu | R B' R' D:[R' D' R,U] | U' R' U':[U',R D R'] tu | R B R' U:[R D' R',U2] | R B' R':[R' D' R,U] | R' U R:[U',R D R'] | R' U':[R' D' R,U'] tu |  | U2 R U' R' U:[R D' R',U] | R B' R':[R' D R,U] | R U R' D':[U,R' D R] |  | U R' F R:[U',R D' R'] | U' R' U' R:[U,R D R'] | U2 R U R':[R' D' R,U'] | U' R':[U',R' D R] tu | R B:[R' U R,D'] | U R' F R:[U',R D R']  \n",
      "S | D':[U',R D R'] | U' D':[R D R',U2] | U' D':[R D R',U'] | B R U:[R' D' R,U2] td | R' F' R D':[R D R',U'] | D' R' U:[R U R',D] | U' R' U':[R D' R',U2] | D' R' F' R:[R D R',U'] | U':[R' U' R,D'] | R' U' R D':[U',R D R'] | D2 R U R':[R' D' R,U'] |  | U' R B R':[U,R' D R] | R' D' R' U:[R U R',D] tu | U R':[F,R2 D' R' D R'] |  | D' R D R':[U,R' D' R] | U2 R U R' U':[R D' R',U'] | U R' F R:[R D' R',U2] |  | U' R' U R:[U2,R D' R']  \n",
      "T | D:[U',R D' R'] | U' D:[R D' R',U2] | D':[R' D' R,U'] | R U:[R' D' R,U2] | R' F' R D':[U,R' D' R] | D R' U R:[U',R D' R'] | D R' F' R:[R D' R',U2] | [R U R',D'] td |  | D R' U' R:[U',R D' R'] | R U:[R' D' R,U] td | U:[D',R' U2 R] | R' U':[R U2 R',D] tu | R U':[R' U R,D] | U' R' U' R:[R D R',U] | D' R D R':[R' D' R,U] |  | R U' R' U:[R D R',U2] | R U:[D,R U R'] | R2 U':[R' U' R,D'] tb |   \n",
      "U | [R' D R U' R D' R',U] | [R' D R U' R D' R',U2] | [R' D R U' R D' R',U'] | R U' R' D':[R' D R,U2] | R U' R':[R' D R,U2] |  | D' R B R':[U2,R' D R] |  | R U' D' R':[R' D R,U2] | R U' R':[R' D' R,U2] | R U R2 U':[D',R U R'] | R U' R' U' D':[R D R',U2] | U' R' D R:[R D' R',U'] | U R' U':[R U R',D'] | U2 R U R':[U',R' D' R] | U2 R U R' U':[U',R D' R'] | R U' R' U':[R D R',U2] |  | U2 R U R':[U',R' D R] | R U' R' U':[R D' R',U2] | R U' R' U' D:[R D' R',U2]  \n",
      "V | R F':[R' U' R,D] | R F' R' U':[R D R',U2] | U' R F':[D,R' U' R] | R U D:[R' D' R,U2] |  | U' R2 U:[D,R U R'] tu | U' R':[R' D R,U2] tu | R D:[U,R' D' R] td | U' R':[R' D R,U] tu | U' R' U:[R U' R',D] tu | R U D:[R' D' R,U] td | R D R' F:[D',R U' R'] td |  | U D R' U':[R U R',D'] | U' R':[R' D R,U'] tu | U R' F R:[U2,R D' R'] | R U:[R U R',D] | U2 R U R':[R' D R,U'] |  | R B R' U:[U,R' D R] | U R' F R:[U2,R D R']  \n",
      "W | R' B:[D',R U R'] | R' D' R :[R U2 R',D] | R' B:[D',R U' R'] | R:[R D' R',U2] td | F R U':[R D' R',U'] td | R B R' U:[R' D' R,U] | U' R' U' D':[R D R',U2] | R:[R D' R',U'] td | U' R' D':[U',R D R'] tu | F R:[U',R D' R'] td | R:[R D' R',U] td |  | R B R' U D:[R' D' R,U] | R U':[R' U R,D'] | R B:[D',R' U R] |  | R2 U':[D',R' U' R] tb | R U' R' U:[R D' R',U2] | R B R' U:[R' D R,U] |  | R B:[D,R' U R]  \n",
      "X | [U',R D' R' U R' D R] | R D' R':[R' D R,U2] ru2 | R D' R':[R' D R,U'] | D R:[R D' R',U2] td | D R:[R D' R',U'] td | R D' R' U:[R U' R',D] | R B R' U:[R D R',U2] | D' R U' R':[R' D R,U2] |  | R B R' U:[R D R',U] | D R:[R D' R',U] td | R D' R':[R' D R,U] | F':[R U' R',D'] td | D R U':[R' U R,D'] | U R' F R:[R D R',U'] | R':[U R2 D' R2 U',R2] tu |  | R U' R' U D:[R D' R',U2] | U R' F R:[R D R',U2] | R B:[R' U R,D] |   \n",
      "|  |  |  |  |  |  |  |  |  |  |  |  |  |  |  |  |  |  |  |  |   \n",
      "|  |  |  |  |  |  |  |  |  |  |  |  |  |  |  |  |  |  |  |  |   \n",
      "|  |  |  |  |  |  |  |  |  |  |  |  |  |  |  |  |  |  |  |  |   \n",
      "| U-Top/D-Side |  |  |  |  |  |  |  |  |  |  |  |  |  |  |  |  |  |  |  |   \n",
      "| U-Top/D-Bottom |  |  |  |  |  |  |  |  |  |  |  |  |  |  |  |  |  |  |  |   \n",
      "| D-Side/D-Side |  |  |  |  |  |  |  |  |  |  |  |  |  |  |  |  |  |  |  |   \n",
      "| LUF/BUR/D-Any |  |  |  |  |  |  |  |  |  |  |  |  |  |  |  |  |  |  |  |   \n",
      "| D-Side/D-Bottom |  |  |  |  |  |  |  |  |  |  |  |  |  |  |  |  |  |  |  |   \n",
      "| U-Side/D-Any |  |  |  |  |  |  |  |  |  |  |  |  |  |  |  |  |  |  |  |   \n",
      "|  |  |  |  |  |  |  |  |  |  |  |  |  |  |  |  |  |  |  |  |   \n",
      "|  |  |  |  |  |  |  |  |  |  |  |  |  |  |  |  |  |  |  |  | \n",
      "\n",
      "\n"
     ]
    }
   ],
   "source": [
    "print(\"| A | B | C | F | G | H | I | K | L | M | N | O | P | Q | R | S | T | U | V | W | X  \\n---|---|---|---|---|---|---|---|---|---|---|---|---|---|---|---|---|---|---|---|---|---  \\nA |  | R' D R U:[U,R' D' R] | R' D R U':[R' D' R,U2] | R:[R D R',U2] td | D:[U,R' D' R] | D':[U,R' D R] |  | [U,R' D' R] | [R D R',U'] | R':[U',R' D' R] tu | R:[R D R',U] td | [R D' R',U'] | [U,R' D R] |  | R':[U2,R' D' R] tu | D':[R D R',U'] | D':[U,R' D' R] | [U,R' D R U' R D' R'] | R F':[D,R' U' R] | R' B:[R U R',D'] | [R D' R' U R' D R,U']  \\nB | R' D R U:[R' D' R,U] |  | R' D R U':[R' D' R,U'] | R' F R U D:[R' D' R,U] | U D':[R D' R',U2] | U D:[R D R',U2] | R D R' U D':[R D R',U2] | [U2,R' D' R] ru2 | U:[R D R',U2] | R F R' D':[U2,R' D R] |  | U:[R D' R',U2] | [U2,R' D R] lu2 ru2 | R' D':[R' D R,U2] |  | U D':[R D R',U2] | U D:[R D' R',U2] | [U2,R' D R U' R D' R'] | R F' R' U:[R D R',U2] | R' D' R:[D, R U2 R'] | R D' R':[U2,R' D R]  \\nC | R' D R U:[R' D' R,U2] | R' D R U':[U',R' D' R] |  |  | D:[U',R' D' R] | D':[U',R' D R] | R' F' R U:[R' D R,U2] | [U',R' D' R] | U':[U',R D R'] |  | U' R:[U2,R D R'] td | U':[U',R D' R'] | [U',R' D R] | R' D':[R' D R,U'] tu | U' R':[R' D' R,U'] tu | D:[U',R' D R] | D':[U',R' D' R] | [U',R' D R U' R D' R'] | U' R F':[R' U' R,D] | R' B:[R U' R',D'] | R D' R':[U',R' D R]  \\nF | R:[U2,R D R'] td | R' F R U2 D:[R' D' R,U'] |  |  | R U':[R' D R,U2] td | R':[F2,R D' R' D] | R U R D' R':[U2,R' D R] td | D R U':[R' D' R,U2] td | R U' D':[R' D R,U2] td |  | R2 D R' U:[R D' R',U] td | R D':[U2,R D R'] td | U R U R':[R' D R,U2] | R D:[U2,R D' R'] td | R2 U' R U':[R' D' R,U2] tu | B R U':[R' D' R,U2] td | R U':[R' D' R,U2] | R U' R' D':[U2,R' D R] | R U' D:[R' D' R,U2] | R:[U2,R D' R'] td | D R:[U2,R D' R'] td  \\nG | D:[R' D' R,U] | D:[R' D' R,U2] | D:[R' D' R,U'] | R U:[R' D R,U2] td |  | F:[D,R U' R'] td | U R U' D:[R' D' R,U2] | [R U R',D] td | R' F' R:[U', R D R'] | D R' U':[D',R U R'] | R U:[R' D R,U] | R' F' R:[U',R D' R'] |  | R' F:[D,R U' R'] | R B' R' D:[U,R' D' R] | R' F' R D':[U',R D R'] | R' F' R D':[R' D' R,U] | R U' R':[U2,R' D R] |  | F R U':[U',R D' R'] td | D R:[U',R D' R'] td  \\nH | D':[R' D R,U] | U' D:[R D R',U2] | D':[R' D R,U'] | R':[R D' R' D,F2] | F:[R U' R',D] td |  | U' R' U':[R D R',U2] tu |  | U:[D',R U' R'] | D' R' U':[D,R U R'] | R U R':[R' D' R,U'] | U R U R' U:[U,R D' R'] | U:[D,R U' R'] | D' R' U:[D,R U' R'] | U' R' U':[R D R',U'] tu | D' R' U:[D,R U R'] | D R' U R:[R D' R',U'] |  | U' R2 U:[R U R',D] tu | R B R' U:[U,R' D' R] | R D' R' U:[D,R U' R']  \\nI |  | R D R' U' D':[R D R',U2] | R' F' R U':[R' D R,U2] | R U R D' R':[R' D R,U2] td | U R U D:[R' D' R,U2] | U' R' U:[R D R',U2] tu |  | R' F' R U':[R' D' R,U2] | U R U:[R' D' R,U2] | R' D' R U' D:[R' D' R,U2] | R B R' U' D':[R D R',U2] | R' F' R:[U2,R D' R'] | U R U:[R' D R,U2] |  | R B R' U':[R D' R',U2] | U' R' U:[R D' R',U2] | D R' F' R:[U2,R D' R'] | D' R B R':[R' D R,U2] | U' R':[U2,R' D R] tu | U' R' U D':[R D R',U2] | R B R' U':[R D R',U2]  \\nK | [R' D' R,U] | [R' D' R,U2] | [R' D' R,U'] | D R U:[R' D' R,U2] td | [D,R U R'] td |  | R' F' R U:[R' D' R,U2] |  | R D R':[R' D' R,U] | R' U':[D',R U R'] | D R U:[R' D' R,U] | [D2,R U R'] | U' R U' R':[R' D R,U] | R' U:[D',R U' R'] tu | R B' R':[U,R' D' R] | D' R' F' R:[U',R D R'] | [D',R U R'] |  | R D:[R' D' R,U] td | R:[U',R D' R'] td | D' R U' R':[U2,R' D R]  \\nL | [U',R D R'] | U':[R D R',U2] | U':[R D R',U'] | R U D':[R' D R,U2] td | R' F' R:[R D R',U'] | U:[R U' R',D'] | U R U':[R' D' R,U2] | R D R':[U,R' D' R] |  | U' R U':[D,R' U R] | R U D':[R' D R,U] td | R' U R:[R D' R',U'] | R' U:[R U R',D] | U' R U:[D,R' U' R] | R' U R:[R D R',U'] | U':[D',R' U' R] |  | R U' D' R':[U2,R' D R] | U' R':[U,R' D R] tu | U' R' D':[R D R',U'] tu |   \\nM | R':[R' D' R,U'] tu | R F R' D':[R' D R,U2] |  |  | D R' U':[R U R',D'] | D' R' U':[R U R',D] | R' D' R U D:[R' D' R,U2] | R' U':[R U R',D'] | U' R U':[R' U R,D] |  | R' F R U:[U,R' D R] | U' R U':[R' U R,D'] | R' U':[R U R',D] | R' F:[D,R U R'] | R' U':[U',R' D' R] tu | R' U' R D':[R D R',U'] | D R' U' R:[R D' R',U'] | R U' R':[U2,R' D' R] | U' R' U:[D,R U' R'] tu | F R:[R D' R',U'] td | R B R' U:[U,R D R']  \\nN | R:[U,R D R'] td |  | U' R:[R D R',U2] td | R2 D R' U:[U,R D' R'] td | R U:[U,R' D R] | R U R':[U',R' D' R] | R B R' U D':[R D R',U2] | D R U:[U,R' D' R] td | R U2 D':[R' D R,U'] td | R' F R U:[R' D R,U] |  | R D':[U,R D R'] td | D R U R':[U',R' D' R] | U R':[R' D' R,U'] |  | D2 R U R':[U',R' D' R] | R U:[U,R' D' R] td | R U R2 U':[R U R',D'] | R U2 D:[R' D' R,U'] td | R:[U,R D' R'] td | D R:[U,R D' R']  \\nO | [U',R D' R'] | U':[R D' R',U2] | U':[R D' R',U'] | R D':[R D R',U2] td | R' F' R:[R D' R',U'] | U R U R' U:[R D' R',U] | R' F' R:[R D' R',U2] | [R U R',D2] | R' U R:[U',R D' R'] tu | U' R U':[D',R' U R] | R D':[R D R',U] td |  | U' R' F R U':[R D' R',U'] | U' R U:[D',R' U' R] | U2 R U' R' U:[U,R D' R'] |  | U:[R' U2 R,D'] | R U' R' U D':[R D R',U2] | R D R' F:[R U' R',D'] td |  | R D' R':[U,R' D R]  \\nP | [R' D R,U] | [R' D R,U2] ru2 | [R' D R,U'] | U R U R':[U2,R' D R] |  | U:[R U' R',D] | U R U':[R' D R,U2] | U' R U' R':[U,R' D R] | R' U:[D,R U R'] | R' U':[D,R U R'] | D R U R':[R' D' R,U'] | U' R' F R U':[U',R D' R'] ru2 |  | R' U:[D,R U' R'] | R B' R':[U,R' D R] | U' R B R':[R' D R,U] | R' U':[D,R U2 R'] tu | U' R' D R:[U',R D' R'] |  | R B R' U2 D:[R' D' R,U'] | F':[D',R U' R'] td  \\nQ |  | R' D':[U2,R' D R] | R' D':[U',R' D R] tu | R D:[R D' R',U2] td | R' F:[R U' R',D] | D' R' U:[R U' R',D] |  | R' U:[R U' R',D'] tu | U' R U:[R' U' R,D] | R' F:[R U R',D] | U R':[U',R' D' R] tu | U' R U:[R' U' R,D'] | R' U:[R U' R',D] tu |  | R U R' D':[R' D R,U] | R' D' R' U:[D,R U R'] tu | R U':[D,R' U R] | U R' U':[D',R U R'] | U D R' U':[D',R U R'] | R U':[D',R' U R] | D R U':[D',R' U R]  \\nR | R':[R' D' R,U2] tu |  | U' R':[U',R' D' R] tu | R2 U' R U:[R' D' R,U2] tu | R B' R' D:[R' D' R,U] | U' R' U':[U',R D R'] tu | R B R' U:[R D' R',U2] | R B' R':[R' D' R,U] | R' U R:[U',R D R'] | R' U':[R' D' R,U'] tu |  | U2 R U' R' U:[R D' R',U] | R B' R':[R' D R,U] | R U R' D':[U,R' D R] |  | U R' F R:[U',R D' R'] | U' R' U' R:[U,R D R'] | U2 R U R':[R' D' R,U'] | U' R':[U',R' D R] tu | R B:[R' U R,D'] | U R' F R:[U',R D R']  \\nS | D':[U',R D R'] | U' D':[R D R',U2] | U' D':[R D R',U'] | B R U:[R' D' R,U2] td | R' F' R D':[R D R',U'] | D' R' U:[R U R',D] | U' R' U':[R D' R',U2] | D' R' F' R:[R D R',U'] | U':[R' U' R,D'] | R' U' R D':[U',R D R'] | D2 R U R':[R' D' R,U'] |  | U' R B R':[U,R' D R] | R' D' R' U:[R U R',D] tu | U R':[F,R2 D' R' D R'] |  | D' R D R':[U,R' D' R] | U2 R U R' U':[R D' R',U'] | U R' F R:[R D' R',U2] |  | U' R' U R:[U2,R D' R']  \\nT | D:[U',R D' R'] | U' D:[R D' R',U2] | D':[R' D' R,U'] | R U:[R' D' R,U2] | R' F' R D':[U,R' D' R] | D R' U R:[U',R D' R'] | D R' F' R:[R D' R',U2] | [R U R',D'] td |  | D R' U' R:[U',R D' R'] | R U:[R' D' R,U] td | U:[D',R' U2 R] | R' U':[R U2 R',D] tu | R U':[R' U R,D] | U' R' U' R:[R D R',U] | D' R D R':[R' D' R,U] |  | R U' R' U:[R D R',U2] | R U:[D,R U R'] | R2 U':[R' U' R,D'] tb |   \\nU | [R' D R U' R D' R',U] | [R' D R U' R D' R',U2] | [R' D R U' R D' R',U'] | R U' R' D':[R' D R,U2] | R U' R':[R' D R,U2] |  | D' R B R':[U2,R' D R] |  | R U' D' R':[R' D R,U2] | R U' R':[R' D' R,U2] | R U R2 U':[D',R U R'] | R U' R' U' D':[R D R',U2] | U' R' D R:[R D' R',U'] | U R' U':[R U R',D'] | U2 R U R':[U',R' D' R] | U2 R U R' U':[U',R D' R'] | R U' R' U':[R D R',U2] |  | U2 R U R':[U',R' D R] | R U' R' U':[R D' R',U2] | R U' R' U' D:[R D' R',U2]  \\nV | R F':[R' U' R,D] | R F' R' U':[R D R',U2] | U' R F':[D,R' U' R] | R U D:[R' D' R,U2] |  | U' R2 U:[D,R U R'] tu | U' R':[R' D R,U2] tu | R D:[U,R' D' R] td | U' R':[R' D R,U] tu | U' R' U:[R U' R',D] tu | R U D:[R' D' R,U] td | R D R' F:[D',R U' R'] td |  | U D R' U':[R U R',D'] | U' R':[R' D R,U'] tu | U R' F R:[U2,R D' R'] | R U:[R U R',D] | U2 R U R':[R' D R,U'] |  | R B R' U:[U,R' D R] | U R' F R:[U2,R D R']  \\nW | R' B:[D',R U R'] | R' D' R :[R U2 R',D] | R' B:[D',R U' R'] | R:[R D' R',U2] td | F R U':[R D' R',U'] td | R B R' U:[R' D' R,U] | U' R' U' D':[R D R',U2] | R:[R D' R',U'] td | U' R' D':[U',R D R'] tu | F R:[U',R D' R'] td | R:[R D' R',U] td |  | R B R' U D:[R' D' R,U] | R U':[R' U R,D'] | R B:[D',R' U R] |  | R2 U':[D',R' U' R] tb | R U' R' U:[R D' R',U2] | R B R' U:[R' D R,U] |  | R B:[D,R' U R]  \\nX | [U',R D' R' U R' D R] | R D' R':[R' D R,U2] ru2 | R D' R':[R' D R,U'] | D R:[R D' R',U2] td | D R:[R D' R',U'] td | R D' R' U:[R U' R',D] | R B R' U:[R D R',U2] | D' R U' R':[R' D R,U2] |  | R B R' U:[R D R',U] | D R:[R D' R',U] td | R D' R':[R' D R,U] | F':[R U' R',D'] td | D R U':[R' U R,D'] | U R' F R:[R D R',U'] | R':[U R2 D' R2 U',R2] tu |  | R U' R' U D:[R D' R',U2] | U R' F R:[R D R',U2] | R B:[R' U R,D] |   \\n|  |  |  |  |  |  |  |  |  |  |  |  |  |  |  |  |  |  |  |  |   \\n|  |  |  |  |  |  |  |  |  |  |  |  |  |  |  |  |  |  |  |  |   \\n|  |  |  |  |  |  |  |  |  |  |  |  |  |  |  |  |  |  |  |  |   \\n| U-Top/D-Side |  |  |  |  |  |  |  |  |  |  |  |  |  |  |  |  |  |  |  |   \\n| U-Top/D-Bottom |  |  |  |  |  |  |  |  |  |  |  |  |  |  |  |  |  |  |  |   \\n| D-Side/D-Side |  |  |  |  |  |  |  |  |  |  |  |  |  |  |  |  |  |  |  |   \\n| LUF/BUR/D-Any |  |  |  |  |  |  |  |  |  |  |  |  |  |  |  |  |  |  |  |   \\n| D-Side/D-Bottom |  |  |  |  |  |  |  |  |  |  |  |  |  |  |  |  |  |  |  |   \\n| U-Side/D-Any |  |  |  |  |  |  |  |  |  |  |  |  |  |  |  |  |  |  |  |   \\n|  |  |  |  |  |  |  |  |  |  |  |  |  |  |  |  |  |  |  |  |   \\n|  |  |  |  |  |  |  |  |  |  |  |  |  |  |  |  |  |  |  |  | \\n\\n\")"
   ]
  }
 ],
 "metadata": {
  "kernelspec": {
   "display_name": "analysis",
   "language": "python",
   "name": "python3"
  },
  "language_info": {
   "codemirror_mode": {
    "name": "ipython",
    "version": 3
   },
   "file_extension": ".py",
   "mimetype": "text/x-python",
   "name": "python",
   "nbconvert_exporter": "python",
   "pygments_lexer": "ipython3",
   "version": "3.12.7"
  }
 },
 "nbformat": 4,
 "nbformat_minor": 2
}
