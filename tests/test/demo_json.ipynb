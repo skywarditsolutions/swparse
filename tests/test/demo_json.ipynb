{
 "cells": [
  {
   "cell_type": "markdown",
   "id": "d27f1082-cd10-405e-9570-6f0e934bba8b",
   "metadata": {},
   "source": [
    "# LlamaParse JSON Mode + Multimodal RAG\n",
    "\n",
    "<a href=\"https://colab.research.google.com/github/run-llama/llama_parse/blob/main/examples/demo_json.ipynb\" target=\"_parent\"><img src=\"https://colab.research.google.com/assets/colab-badge.svg\" alt=\"Open In Colab\"/></a>\n",
    "\n",
    "This notebook shows you how to use LlamaParse JSON mode with LlamaIndex to build a simple multimodal RAG pipeline.\n",
    "\n",
    "Using JSON mode gives you back a list of json dictionaries, which contains both text and images. You can then download these images and use a multimodal model to extract information and index them."
   ]
  },
  {
   "cell_type": "markdown",
   "id": "a004db48-8d3f-421c-915a-477692f71b90",
   "metadata": {},
   "source": [
    "## Setup\n",
    "\n",
    "Define imports, env variables, global LLM/embedding models."
   ]
  },
  {
   "cell_type": "code",
   "execution_count": 1,
   "id": "bc6a7a4b-b568-4db5-bcba-62f5c517ff3a",
   "metadata": {},
   "outputs": [
    {
     "name": "stdout",
     "output_type": "stream",
     "text": [
      "Collecting llama-index\n",
      "  Downloading llama_index-0.12.3-py3-none-any.whl.metadata (11 kB)\n",
      "Collecting llama-index-agent-openai<0.5.0,>=0.4.0 (from llama-index)\n",
      "  Using cached llama_index_agent_openai-0.4.0-py3-none-any.whl.metadata (726 bytes)\n",
      "Collecting llama-index-cli<0.5.0,>=0.4.0 (from llama-index)\n",
      "  Using cached llama_index_cli-0.4.0-py3-none-any.whl.metadata (1.5 kB)\n",
      "Collecting llama-index-core<0.13.0,>=0.12.3 (from llama-index)\n",
      "  Downloading llama_index_core-0.12.3-py3-none-any.whl.metadata (2.5 kB)\n",
      "Collecting llama-index-embeddings-openai<0.4.0,>=0.3.0 (from llama-index)\n",
      "  Using cached llama_index_embeddings_openai-0.3.1-py3-none-any.whl.metadata (684 bytes)\n",
      "Collecting llama-index-indices-managed-llama-cloud>=0.4.0 (from llama-index)\n",
      "  Using cached llama_index_indices_managed_llama_cloud-0.6.3-py3-none-any.whl.metadata (3.8 kB)\n",
      "Collecting llama-index-legacy<0.10.0,>=0.9.48 (from llama-index)\n",
      "  Using cached llama_index_legacy-0.9.48.post4-py3-none-any.whl.metadata (8.5 kB)\n",
      "Collecting llama-index-llms-openai<0.4.0,>=0.3.0 (from llama-index)\n",
      "  Using cached llama_index_llms_openai-0.3.2-py3-none-any.whl.metadata (3.3 kB)\n",
      "Collecting llama-index-multi-modal-llms-openai<0.4.0,>=0.3.0 (from llama-index)\n",
      "  Using cached llama_index_multi_modal_llms_openai-0.3.0-py3-none-any.whl.metadata (726 bytes)\n",
      "Collecting llama-index-program-openai<0.4.0,>=0.3.0 (from llama-index)\n",
      "  Using cached llama_index_program_openai-0.3.1-py3-none-any.whl.metadata (764 bytes)\n",
      "Collecting llama-index-question-gen-openai<0.4.0,>=0.3.0 (from llama-index)\n",
      "  Using cached llama_index_question_gen_openai-0.3.0-py3-none-any.whl.metadata (783 bytes)\n",
      "Collecting llama-index-readers-file<0.5.0,>=0.4.0 (from llama-index)\n",
      "  Downloading llama_index_readers_file-0.4.1-py3-none-any.whl.metadata (5.4 kB)\n",
      "Collecting llama-index-readers-llama-parse>=0.4.0 (from llama-index)\n",
      "  Using cached llama_index_readers_llama_parse-0.4.0-py3-none-any.whl.metadata (3.6 kB)\n",
      "Collecting nltk>3.8.1 (from llama-index)\n",
      "  Using cached nltk-3.9.1-py3-none-any.whl.metadata (2.9 kB)\n",
      "Collecting openai>=1.14.0 (from llama-index-agent-openai<0.5.0,>=0.4.0->llama-index)\n",
      "  Downloading openai-1.57.0-py3-none-any.whl.metadata (24 kB)\n",
      "Requirement already satisfied: PyYAML>=6.0.1 in /home/hm3/miniconda3/envs/marker-analysis/lib/python3.12/site-packages (from llama-index-core<0.13.0,>=0.12.3->llama-index) (6.0.2)\n",
      "Collecting SQLAlchemy>=1.4.49 (from SQLAlchemy[asyncio]>=1.4.49->llama-index-core<0.13.0,>=0.12.3->llama-index)\n",
      "  Using cached SQLAlchemy-2.0.36-cp312-cp312-manylinux_2_17_x86_64.manylinux2014_x86_64.whl.metadata (9.7 kB)\n",
      "Collecting aiohttp<4.0.0,>=3.8.6 (from llama-index-core<0.13.0,>=0.12.3->llama-index)\n",
      "  Downloading aiohttp-3.11.10-cp312-cp312-manylinux_2_17_x86_64.manylinux2014_x86_64.whl.metadata (7.7 kB)\n",
      "Collecting dataclasses-json (from llama-index-core<0.13.0,>=0.12.3->llama-index)\n",
      "  Using cached dataclasses_json-0.6.7-py3-none-any.whl.metadata (25 kB)\n",
      "Collecting deprecated>=1.2.9.3 (from llama-index-core<0.13.0,>=0.12.3->llama-index)\n",
      "  Using cached Deprecated-1.2.15-py2.py3-none-any.whl.metadata (5.5 kB)\n",
      "Collecting dirtyjson<2.0.0,>=1.0.8 (from llama-index-core<0.13.0,>=0.12.3->llama-index)\n",
      "  Using cached dirtyjson-1.0.8-py3-none-any.whl.metadata (11 kB)\n",
      "Requirement already satisfied: filetype<2.0.0,>=1.2.0 in /home/hm3/miniconda3/envs/marker-analysis/lib/python3.12/site-packages (from llama-index-core<0.13.0,>=0.12.3->llama-index) (1.2.0)\n",
      "Requirement already satisfied: fsspec>=2023.5.0 in /home/hm3/miniconda3/envs/marker-analysis/lib/python3.12/site-packages (from llama-index-core<0.13.0,>=0.12.3->llama-index) (2024.10.0)\n",
      "Requirement already satisfied: httpx in /home/hm3/miniconda3/envs/marker-analysis/lib/python3.12/site-packages (from llama-index-core<0.13.0,>=0.12.3->llama-index) (0.28.0)\n",
      "Requirement already satisfied: nest-asyncio<2.0.0,>=1.5.8 in /home/hm3/miniconda3/envs/marker-analysis/lib/python3.12/site-packages (from llama-index-core<0.13.0,>=0.12.3->llama-index) (1.6.0)\n",
      "Requirement already satisfied: networkx>=3.0 in /home/hm3/miniconda3/envs/marker-analysis/lib/python3.12/site-packages (from llama-index-core<0.13.0,>=0.12.3->llama-index) (3.4.2)\n",
      "Requirement already satisfied: numpy in /home/hm3/miniconda3/envs/marker-analysis/lib/python3.12/site-packages (from llama-index-core<0.13.0,>=0.12.3->llama-index) (2.1.3)\n",
      "Requirement already satisfied: pillow>=9.0.0 in /home/hm3/miniconda3/envs/marker-analysis/lib/python3.12/site-packages (from llama-index-core<0.13.0,>=0.12.3->llama-index) (10.4.0)\n",
      "Collecting pydantic<2.10.0,>=2.7.0 (from llama-index-core<0.13.0,>=0.12.3->llama-index)\n",
      "  Using cached pydantic-2.9.2-py3-none-any.whl.metadata (149 kB)\n",
      "Requirement already satisfied: requests>=2.31.0 in /home/hm3/miniconda3/envs/marker-analysis/lib/python3.12/site-packages (from llama-index-core<0.13.0,>=0.12.3->llama-index) (2.32.3)\n",
      "Collecting tenacity!=8.4.0,<9.0.0,>=8.2.0 (from llama-index-core<0.13.0,>=0.12.3->llama-index)\n",
      "  Using cached tenacity-8.5.0-py3-none-any.whl.metadata (1.2 kB)\n",
      "Collecting tiktoken>=0.3.3 (from llama-index-core<0.13.0,>=0.12.3->llama-index)\n",
      "  Using cached tiktoken-0.8.0-cp312-cp312-manylinux_2_17_x86_64.manylinux2014_x86_64.whl.metadata (6.6 kB)\n",
      "Requirement already satisfied: tqdm<5.0.0,>=4.66.1 in /home/hm3/miniconda3/envs/marker-analysis/lib/python3.12/site-packages (from llama-index-core<0.13.0,>=0.12.3->llama-index) (4.67.1)\n",
      "Requirement already satisfied: typing-extensions>=4.5.0 in /home/hm3/miniconda3/envs/marker-analysis/lib/python3.12/site-packages (from llama-index-core<0.13.0,>=0.12.3->llama-index) (4.12.2)\n",
      "Collecting typing-inspect>=0.8.0 (from llama-index-core<0.13.0,>=0.12.3->llama-index)\n",
      "  Using cached typing_inspect-0.9.0-py3-none-any.whl.metadata (1.5 kB)\n",
      "Collecting wrapt (from llama-index-core<0.13.0,>=0.12.3->llama-index)\n",
      "  Using cached wrapt-1.17.0-cp312-cp312-manylinux_2_5_x86_64.manylinux1_x86_64.manylinux_2_17_x86_64.manylinux2014_x86_64.whl.metadata (6.4 kB)\n",
      "Collecting llama-cloud>=0.1.5 (from llama-index-indices-managed-llama-cloud>=0.4.0->llama-index)\n",
      "  Using cached llama_cloud-0.1.6-py3-none-any.whl.metadata (814 bytes)\n",
      "Collecting pandas (from llama-index-legacy<0.10.0,>=0.9.48->llama-index)\n",
      "  Using cached pandas-2.2.3-cp312-cp312-manylinux_2_17_x86_64.manylinux2014_x86_64.whl.metadata (89 kB)\n",
      "Requirement already satisfied: beautifulsoup4<5.0.0,>=4.12.3 in /home/hm3/miniconda3/envs/marker-analysis/lib/python3.12/site-packages (from llama-index-readers-file<0.5.0,>=0.4.0->llama-index) (4.12.3)\n",
      "Collecting pypdf<6.0.0,>=5.1.0 (from llama-index-readers-file<0.5.0,>=0.4.0->llama-index)\n",
      "  Using cached pypdf-5.1.0-py3-none-any.whl.metadata (7.2 kB)\n",
      "Collecting striprtf<0.0.27,>=0.0.26 (from llama-index-readers-file<0.5.0,>=0.4.0->llama-index)\n",
      "  Using cached striprtf-0.0.26-py3-none-any.whl.metadata (2.1 kB)\n",
      "Collecting llama-parse>=0.5.0 (from llama-index-readers-llama-parse>=0.4.0->llama-index)\n",
      "  Downloading llama_parse-0.5.17-py3-none-any.whl.metadata (7.0 kB)\n",
      "Requirement already satisfied: click in /home/hm3/miniconda3/envs/marker-analysis/lib/python3.12/site-packages (from nltk>3.8.1->llama-index) (8.1.7)\n",
      "Requirement already satisfied: joblib in /home/hm3/miniconda3/envs/marker-analysis/lib/python3.12/site-packages (from nltk>3.8.1->llama-index) (1.4.2)\n",
      "Requirement already satisfied: regex>=2021.8.3 in /home/hm3/miniconda3/envs/marker-analysis/lib/python3.12/site-packages (from nltk>3.8.1->llama-index) (2024.11.6)\n",
      "Collecting aiohappyeyeballs>=2.3.0 (from aiohttp<4.0.0,>=3.8.6->llama-index-core<0.13.0,>=0.12.3->llama-index)\n",
      "  Using cached aiohappyeyeballs-2.4.4-py3-none-any.whl.metadata (6.1 kB)\n",
      "Collecting aiosignal>=1.1.2 (from aiohttp<4.0.0,>=3.8.6->llama-index-core<0.13.0,>=0.12.3->llama-index)\n",
      "  Using cached aiosignal-1.3.1-py3-none-any.whl.metadata (4.0 kB)\n",
      "Requirement already satisfied: attrs>=17.3.0 in /home/hm3/miniconda3/envs/marker-analysis/lib/python3.12/site-packages (from aiohttp<4.0.0,>=3.8.6->llama-index-core<0.13.0,>=0.12.3->llama-index) (24.2.0)\n",
      "Collecting frozenlist>=1.1.1 (from aiohttp<4.0.0,>=3.8.6->llama-index-core<0.13.0,>=0.12.3->llama-index)\n",
      "  Using cached frozenlist-1.5.0-cp312-cp312-manylinux_2_5_x86_64.manylinux1_x86_64.manylinux_2_17_x86_64.manylinux2014_x86_64.whl.metadata (13 kB)\n",
      "Requirement already satisfied: multidict<7.0,>=4.5 in /home/hm3/miniconda3/envs/marker-analysis/lib/python3.12/site-packages (from aiohttp<4.0.0,>=3.8.6->llama-index-core<0.13.0,>=0.12.3->llama-index) (6.1.0)\n",
      "Collecting propcache>=0.2.0 (from aiohttp<4.0.0,>=3.8.6->llama-index-core<0.13.0,>=0.12.3->llama-index)\n",
      "  Using cached propcache-0.2.1-cp312-cp312-manylinux_2_17_x86_64.manylinux2014_x86_64.whl.metadata (9.2 kB)\n",
      "Collecting yarl<2.0,>=1.17.0 (from aiohttp<4.0.0,>=3.8.6->llama-index-core<0.13.0,>=0.12.3->llama-index)\n",
      "  Using cached yarl-1.18.3-cp312-cp312-manylinux_2_17_x86_64.manylinux2014_x86_64.whl.metadata (69 kB)\n",
      "Requirement already satisfied: soupsieve>1.2 in /home/hm3/miniconda3/envs/marker-analysis/lib/python3.12/site-packages (from beautifulsoup4<5.0.0,>=4.12.3->llama-index-readers-file<0.5.0,>=0.4.0->llama-index) (2.6)\n",
      "Requirement already satisfied: anyio in /home/hm3/miniconda3/envs/marker-analysis/lib/python3.12/site-packages (from httpx->llama-index-core<0.13.0,>=0.12.3->llama-index) (4.6.2.post1)\n",
      "Requirement already satisfied: certifi in /home/hm3/miniconda3/envs/marker-analysis/lib/python3.12/site-packages (from httpx->llama-index-core<0.13.0,>=0.12.3->llama-index) (2024.8.30)\n",
      "Requirement already satisfied: httpcore==1.* in /home/hm3/miniconda3/envs/marker-analysis/lib/python3.12/site-packages (from httpx->llama-index-core<0.13.0,>=0.12.3->llama-index) (1.0.7)\n",
      "Requirement already satisfied: idna in /home/hm3/miniconda3/envs/marker-analysis/lib/python3.12/site-packages (from httpx->llama-index-core<0.13.0,>=0.12.3->llama-index) (3.10)\n",
      "Requirement already satisfied: h11<0.15,>=0.13 in /home/hm3/miniconda3/envs/marker-analysis/lib/python3.12/site-packages (from httpcore==1.*->httpx->llama-index-core<0.13.0,>=0.12.3->llama-index) (0.14.0)\n",
      "Collecting distro<2,>=1.7.0 (from openai>=1.14.0->llama-index-agent-openai<0.5.0,>=0.4.0->llama-index)\n",
      "  Using cached distro-1.9.0-py3-none-any.whl.metadata (6.8 kB)\n",
      "Collecting jiter<1,>=0.4.0 (from openai>=1.14.0->llama-index-agent-openai<0.5.0,>=0.4.0->llama-index)\n",
      "  Using cached jiter-0.8.0-cp312-cp312-manylinux_2_17_x86_64.manylinux2014_x86_64.whl.metadata (5.2 kB)\n",
      "Requirement already satisfied: sniffio in /home/hm3/miniconda3/envs/marker-analysis/lib/python3.12/site-packages (from openai>=1.14.0->llama-index-agent-openai<0.5.0,>=0.4.0->llama-index) (1.3.1)\n",
      "Requirement already satisfied: annotated-types>=0.6.0 in /home/hm3/miniconda3/envs/marker-analysis/lib/python3.12/site-packages (from pydantic<2.10.0,>=2.7.0->llama-index-core<0.13.0,>=0.12.3->llama-index) (0.7.0)\n",
      "Collecting pydantic-core==2.23.4 (from pydantic<2.10.0,>=2.7.0->llama-index-core<0.13.0,>=0.12.3->llama-index)\n",
      "  Using cached pydantic_core-2.23.4-cp312-cp312-manylinux_2_17_x86_64.manylinux2014_x86_64.whl.metadata (6.6 kB)\n",
      "Requirement already satisfied: charset-normalizer<4,>=2 in /home/hm3/miniconda3/envs/marker-analysis/lib/python3.12/site-packages (from requests>=2.31.0->llama-index-core<0.13.0,>=0.12.3->llama-index) (3.4.0)\n",
      "Requirement already satisfied: urllib3<3,>=1.21.1 in /home/hm3/miniconda3/envs/marker-analysis/lib/python3.12/site-packages (from requests>=2.31.0->llama-index-core<0.13.0,>=0.12.3->llama-index) (2.2.3)\n",
      "Collecting greenlet!=0.4.17 (from SQLAlchemy>=1.4.49->SQLAlchemy[asyncio]>=1.4.49->llama-index-core<0.13.0,>=0.12.3->llama-index)\n",
      "  Using cached greenlet-3.1.1-cp312-cp312-manylinux_2_24_x86_64.manylinux_2_28_x86_64.whl.metadata (3.8 kB)\n",
      "Collecting mypy-extensions>=0.3.0 (from typing-inspect>=0.8.0->llama-index-core<0.13.0,>=0.12.3->llama-index)\n",
      "  Using cached mypy_extensions-1.0.0-py3-none-any.whl.metadata (1.1 kB)\n",
      "Collecting marshmallow<4.0.0,>=3.18.0 (from dataclasses-json->llama-index-core<0.13.0,>=0.12.3->llama-index)\n",
      "  Using cached marshmallow-3.23.1-py3-none-any.whl.metadata (7.5 kB)\n",
      "Requirement already satisfied: python-dateutil>=2.8.2 in /home/hm3/miniconda3/envs/marker-analysis/lib/python3.12/site-packages (from pandas->llama-index-legacy<0.10.0,>=0.9.48->llama-index) (2.9.0.post0)\n",
      "Collecting pytz>=2020.1 (from pandas->llama-index-legacy<0.10.0,>=0.9.48->llama-index)\n",
      "  Using cached pytz-2024.2-py2.py3-none-any.whl.metadata (22 kB)\n",
      "Collecting tzdata>=2022.7 (from pandas->llama-index-legacy<0.10.0,>=0.9.48->llama-index)\n",
      "  Using cached tzdata-2024.2-py2.py3-none-any.whl.metadata (1.4 kB)\n",
      "Requirement already satisfied: packaging>=17.0 in /home/hm3/miniconda3/envs/marker-analysis/lib/python3.12/site-packages (from marshmallow<4.0.0,>=3.18.0->dataclasses-json->llama-index-core<0.13.0,>=0.12.3->llama-index) (24.2)\n",
      "Requirement already satisfied: six>=1.5 in /home/hm3/miniconda3/envs/marker-analysis/lib/python3.12/site-packages (from python-dateutil>=2.8.2->pandas->llama-index-legacy<0.10.0,>=0.9.48->llama-index) (1.16.0)\n",
      "Downloading llama_index-0.12.3-py3-none-any.whl (6.8 kB)\n",
      "Using cached llama_index_agent_openai-0.4.0-py3-none-any.whl (13 kB)\n",
      "Using cached llama_index_cli-0.4.0-py3-none-any.whl (27 kB)\n",
      "Downloading llama_index_core-0.12.3-py3-none-any.whl (1.6 MB)\n",
      "\u001b[2K   \u001b[38;2;114;156;31m━━━━━━━━━━━━━━━━━━━━━━━━━━━━━━━━━━━━━━━━\u001b[0m \u001b[32m1.6/1.6 MB\u001b[0m \u001b[31m48.6 MB/s\u001b[0m eta \u001b[36m0:00:00\u001b[0m\n",
      "\u001b[?25hUsing cached llama_index_embeddings_openai-0.3.1-py3-none-any.whl (6.2 kB)\n",
      "Using cached llama_index_indices_managed_llama_cloud-0.6.3-py3-none-any.whl (11 kB)\n",
      "Using cached llama_index_legacy-0.9.48.post4-py3-none-any.whl (1.2 MB)\n",
      "Using cached llama_index_llms_openai-0.3.2-py3-none-any.whl (13 kB)\n",
      "Using cached llama_index_multi_modal_llms_openai-0.3.0-py3-none-any.whl (5.9 kB)\n",
      "Using cached llama_index_program_openai-0.3.1-py3-none-any.whl (5.3 kB)\n",
      "Using cached llama_index_question_gen_openai-0.3.0-py3-none-any.whl (2.9 kB)\n",
      "Downloading llama_index_readers_file-0.4.1-py3-none-any.whl (38 kB)\n",
      "Using cached llama_index_readers_llama_parse-0.4.0-py3-none-any.whl (2.5 kB)\n",
      "Using cached nltk-3.9.1-py3-none-any.whl (1.5 MB)\n",
      "Downloading aiohttp-3.11.10-cp312-cp312-manylinux_2_17_x86_64.manylinux2014_x86_64.whl (1.7 MB)\n",
      "\u001b[2K   \u001b[38;2;114;156;31m━━━━━━━━━━━━━━━━━━━━━━━━━━━━━━━━━━━━━━━━\u001b[0m \u001b[32m1.7/1.7 MB\u001b[0m \u001b[31m56.6 MB/s\u001b[0m eta \u001b[36m0:00:00\u001b[0m\n",
      "\u001b[?25hUsing cached Deprecated-1.2.15-py2.py3-none-any.whl (9.9 kB)\n",
      "Using cached dirtyjson-1.0.8-py3-none-any.whl (25 kB)\n",
      "Using cached llama_cloud-0.1.6-py3-none-any.whl (195 kB)\n",
      "Downloading llama_parse-0.5.17-py3-none-any.whl (14 kB)\n",
      "Downloading openai-1.57.0-py3-none-any.whl (389 kB)\n",
      "Using cached pydantic-2.9.2-py3-none-any.whl (434 kB)\n",
      "Using cached pydantic_core-2.23.4-cp312-cp312-manylinux_2_17_x86_64.manylinux2014_x86_64.whl (2.1 MB)\n",
      "Using cached pypdf-5.1.0-py3-none-any.whl (297 kB)\n",
      "Using cached SQLAlchemy-2.0.36-cp312-cp312-manylinux_2_17_x86_64.manylinux2014_x86_64.whl (3.2 MB)\n",
      "Using cached striprtf-0.0.26-py3-none-any.whl (6.9 kB)\n",
      "Using cached tenacity-8.5.0-py3-none-any.whl (28 kB)\n",
      "Using cached tiktoken-0.8.0-cp312-cp312-manylinux_2_17_x86_64.manylinux2014_x86_64.whl (1.2 MB)\n",
      "Using cached typing_inspect-0.9.0-py3-none-any.whl (8.8 kB)\n",
      "Using cached wrapt-1.17.0-cp312-cp312-manylinux_2_5_x86_64.manylinux1_x86_64.manylinux_2_17_x86_64.manylinux2014_x86_64.whl (89 kB)\n",
      "Using cached dataclasses_json-0.6.7-py3-none-any.whl (28 kB)\n",
      "Using cached pandas-2.2.3-cp312-cp312-manylinux_2_17_x86_64.manylinux2014_x86_64.whl (12.7 MB)\n",
      "Using cached aiohappyeyeballs-2.4.4-py3-none-any.whl (14 kB)\n",
      "Using cached aiosignal-1.3.1-py3-none-any.whl (7.6 kB)\n",
      "Using cached distro-1.9.0-py3-none-any.whl (20 kB)\n",
      "Using cached frozenlist-1.5.0-cp312-cp312-manylinux_2_5_x86_64.manylinux1_x86_64.manylinux_2_17_x86_64.manylinux2014_x86_64.whl (283 kB)\n",
      "Using cached greenlet-3.1.1-cp312-cp312-manylinux_2_24_x86_64.manylinux_2_28_x86_64.whl (613 kB)\n",
      "Using cached jiter-0.8.0-cp312-cp312-manylinux_2_17_x86_64.manylinux2014_x86_64.whl (341 kB)\n",
      "Using cached marshmallow-3.23.1-py3-none-any.whl (49 kB)\n",
      "Using cached mypy_extensions-1.0.0-py3-none-any.whl (4.7 kB)\n",
      "Using cached propcache-0.2.1-cp312-cp312-manylinux_2_17_x86_64.manylinux2014_x86_64.whl (243 kB)\n",
      "Using cached pytz-2024.2-py2.py3-none-any.whl (508 kB)\n",
      "Using cached tzdata-2024.2-py2.py3-none-any.whl (346 kB)\n",
      "Using cached yarl-1.18.3-cp312-cp312-manylinux_2_17_x86_64.manylinux2014_x86_64.whl (336 kB)\n",
      "Installing collected packages: striprtf, pytz, dirtyjson, wrapt, tzdata, tenacity, pypdf, pydantic-core, propcache, nltk, mypy-extensions, marshmallow, jiter, greenlet, frozenlist, distro, aiohappyeyeballs, yarl, typing-inspect, tiktoken, SQLAlchemy, pydantic, pandas, deprecated, aiosignal, openai, llama-cloud, dataclasses-json, aiohttp, llama-index-legacy, llama-index-core, llama-parse, llama-index-readers-file, llama-index-llms-openai, llama-index-indices-managed-llama-cloud, llama-index-embeddings-openai, llama-index-readers-llama-parse, llama-index-multi-modal-llms-openai, llama-index-cli, llama-index-agent-openai, llama-index-program-openai, llama-index-question-gen-openai, llama-index\n",
      "  Attempting uninstall: pydantic-core\n",
      "    Found existing installation: pydantic_core 2.27.1\n",
      "    Uninstalling pydantic_core-2.27.1:\n",
      "      Successfully uninstalled pydantic_core-2.27.1\n",
      "  Attempting uninstall: pydantic\n",
      "    Found existing installation: pydantic 2.10.2\n",
      "    Uninstalling pydantic-2.10.2:\n",
      "      Successfully uninstalled pydantic-2.10.2\n",
      "Successfully installed SQLAlchemy-2.0.36 aiohappyeyeballs-2.4.4 aiohttp-3.11.10 aiosignal-1.3.1 dataclasses-json-0.6.7 deprecated-1.2.15 dirtyjson-1.0.8 distro-1.9.0 frozenlist-1.5.0 greenlet-3.1.1 jiter-0.8.0 llama-cloud-0.1.6 llama-index-0.12.3 llama-index-agent-openai-0.4.0 llama-index-cli-0.4.0 llama-index-core-0.12.3 llama-index-embeddings-openai-0.3.1 llama-index-indices-managed-llama-cloud-0.6.3 llama-index-legacy-0.9.48.post4 llama-index-llms-openai-0.3.2 llama-index-multi-modal-llms-openai-0.3.0 llama-index-program-openai-0.3.1 llama-index-question-gen-openai-0.3.0 llama-index-readers-file-0.4.1 llama-index-readers-llama-parse-0.4.0 llama-parse-0.5.17 marshmallow-3.23.1 mypy-extensions-1.0.0 nltk-3.9.1 openai-1.57.0 pandas-2.2.3 propcache-0.2.1 pydantic-2.9.2 pydantic-core-2.23.4 pypdf-5.1.0 pytz-2024.2 striprtf-0.0.26 tenacity-8.5.0 tiktoken-0.8.0 typing-inspect-0.9.0 tzdata-2024.2 wrapt-1.17.0 yarl-1.18.3\n",
      "Requirement already satisfied: llama-index-core in /home/hm3/miniconda3/envs/marker-analysis/lib/python3.12/site-packages (0.12.3)\n",
      "Requirement already satisfied: PyYAML>=6.0.1 in /home/hm3/miniconda3/envs/marker-analysis/lib/python3.12/site-packages (from llama-index-core) (6.0.2)\n",
      "Requirement already satisfied: SQLAlchemy>=1.4.49 in /home/hm3/miniconda3/envs/marker-analysis/lib/python3.12/site-packages (from SQLAlchemy[asyncio]>=1.4.49->llama-index-core) (2.0.36)\n",
      "Requirement already satisfied: aiohttp<4.0.0,>=3.8.6 in /home/hm3/miniconda3/envs/marker-analysis/lib/python3.12/site-packages (from llama-index-core) (3.11.10)\n",
      "Requirement already satisfied: dataclasses-json in /home/hm3/miniconda3/envs/marker-analysis/lib/python3.12/site-packages (from llama-index-core) (0.6.7)\n",
      "Requirement already satisfied: deprecated>=1.2.9.3 in /home/hm3/miniconda3/envs/marker-analysis/lib/python3.12/site-packages (from llama-index-core) (1.2.15)\n",
      "Requirement already satisfied: dirtyjson<2.0.0,>=1.0.8 in /home/hm3/miniconda3/envs/marker-analysis/lib/python3.12/site-packages (from llama-index-core) (1.0.8)\n",
      "Requirement already satisfied: filetype<2.0.0,>=1.2.0 in /home/hm3/miniconda3/envs/marker-analysis/lib/python3.12/site-packages (from llama-index-core) (1.2.0)\n",
      "Requirement already satisfied: fsspec>=2023.5.0 in /home/hm3/miniconda3/envs/marker-analysis/lib/python3.12/site-packages (from llama-index-core) (2024.10.0)\n",
      "Requirement already satisfied: httpx in /home/hm3/miniconda3/envs/marker-analysis/lib/python3.12/site-packages (from llama-index-core) (0.28.0)\n",
      "Requirement already satisfied: nest-asyncio<2.0.0,>=1.5.8 in /home/hm3/miniconda3/envs/marker-analysis/lib/python3.12/site-packages (from llama-index-core) (1.6.0)\n",
      "Requirement already satisfied: networkx>=3.0 in /home/hm3/miniconda3/envs/marker-analysis/lib/python3.12/site-packages (from llama-index-core) (3.4.2)\n",
      "Requirement already satisfied: nltk>3.8.1 in /home/hm3/miniconda3/envs/marker-analysis/lib/python3.12/site-packages (from llama-index-core) (3.9.1)\n",
      "Requirement already satisfied: numpy in /home/hm3/miniconda3/envs/marker-analysis/lib/python3.12/site-packages (from llama-index-core) (2.1.3)\n",
      "Requirement already satisfied: pillow>=9.0.0 in /home/hm3/miniconda3/envs/marker-analysis/lib/python3.12/site-packages (from llama-index-core) (10.4.0)\n",
      "Requirement already satisfied: pydantic<2.10.0,>=2.7.0 in /home/hm3/miniconda3/envs/marker-analysis/lib/python3.12/site-packages (from llama-index-core) (2.9.2)\n",
      "Requirement already satisfied: requests>=2.31.0 in /home/hm3/miniconda3/envs/marker-analysis/lib/python3.12/site-packages (from llama-index-core) (2.32.3)\n",
      "Requirement already satisfied: tenacity!=8.4.0,<9.0.0,>=8.2.0 in /home/hm3/miniconda3/envs/marker-analysis/lib/python3.12/site-packages (from llama-index-core) (8.5.0)\n",
      "Requirement already satisfied: tiktoken>=0.3.3 in /home/hm3/miniconda3/envs/marker-analysis/lib/python3.12/site-packages (from llama-index-core) (0.8.0)\n",
      "Requirement already satisfied: tqdm<5.0.0,>=4.66.1 in /home/hm3/miniconda3/envs/marker-analysis/lib/python3.12/site-packages (from llama-index-core) (4.67.1)\n",
      "Requirement already satisfied: typing-extensions>=4.5.0 in /home/hm3/miniconda3/envs/marker-analysis/lib/python3.12/site-packages (from llama-index-core) (4.12.2)\n",
      "Requirement already satisfied: typing-inspect>=0.8.0 in /home/hm3/miniconda3/envs/marker-analysis/lib/python3.12/site-packages (from llama-index-core) (0.9.0)\n",
      "Requirement already satisfied: wrapt in /home/hm3/miniconda3/envs/marker-analysis/lib/python3.12/site-packages (from llama-index-core) (1.17.0)\n",
      "Requirement already satisfied: aiohappyeyeballs>=2.3.0 in /home/hm3/miniconda3/envs/marker-analysis/lib/python3.12/site-packages (from aiohttp<4.0.0,>=3.8.6->llama-index-core) (2.4.4)\n",
      "Requirement already satisfied: aiosignal>=1.1.2 in /home/hm3/miniconda3/envs/marker-analysis/lib/python3.12/site-packages (from aiohttp<4.0.0,>=3.8.6->llama-index-core) (1.3.1)\n",
      "Requirement already satisfied: attrs>=17.3.0 in /home/hm3/miniconda3/envs/marker-analysis/lib/python3.12/site-packages (from aiohttp<4.0.0,>=3.8.6->llama-index-core) (24.2.0)\n",
      "Requirement already satisfied: frozenlist>=1.1.1 in /home/hm3/miniconda3/envs/marker-analysis/lib/python3.12/site-packages (from aiohttp<4.0.0,>=3.8.6->llama-index-core) (1.5.0)\n",
      "Requirement already satisfied: multidict<7.0,>=4.5 in /home/hm3/miniconda3/envs/marker-analysis/lib/python3.12/site-packages (from aiohttp<4.0.0,>=3.8.6->llama-index-core) (6.1.0)\n",
      "Requirement already satisfied: propcache>=0.2.0 in /home/hm3/miniconda3/envs/marker-analysis/lib/python3.12/site-packages (from aiohttp<4.0.0,>=3.8.6->llama-index-core) (0.2.1)\n",
      "Requirement already satisfied: yarl<2.0,>=1.17.0 in /home/hm3/miniconda3/envs/marker-analysis/lib/python3.12/site-packages (from aiohttp<4.0.0,>=3.8.6->llama-index-core) (1.18.3)\n",
      "Requirement already satisfied: click in /home/hm3/miniconda3/envs/marker-analysis/lib/python3.12/site-packages (from nltk>3.8.1->llama-index-core) (8.1.7)\n",
      "Requirement already satisfied: joblib in /home/hm3/miniconda3/envs/marker-analysis/lib/python3.12/site-packages (from nltk>3.8.1->llama-index-core) (1.4.2)\n",
      "Requirement already satisfied: regex>=2021.8.3 in /home/hm3/miniconda3/envs/marker-analysis/lib/python3.12/site-packages (from nltk>3.8.1->llama-index-core) (2024.11.6)\n",
      "Requirement already satisfied: annotated-types>=0.6.0 in /home/hm3/miniconda3/envs/marker-analysis/lib/python3.12/site-packages (from pydantic<2.10.0,>=2.7.0->llama-index-core) (0.7.0)\n",
      "Requirement already satisfied: pydantic-core==2.23.4 in /home/hm3/miniconda3/envs/marker-analysis/lib/python3.12/site-packages (from pydantic<2.10.0,>=2.7.0->llama-index-core) (2.23.4)\n",
      "Requirement already satisfied: charset-normalizer<4,>=2 in /home/hm3/miniconda3/envs/marker-analysis/lib/python3.12/site-packages (from requests>=2.31.0->llama-index-core) (3.4.0)\n",
      "Requirement already satisfied: idna<4,>=2.5 in /home/hm3/miniconda3/envs/marker-analysis/lib/python3.12/site-packages (from requests>=2.31.0->llama-index-core) (3.10)\n",
      "Requirement already satisfied: urllib3<3,>=1.21.1 in /home/hm3/miniconda3/envs/marker-analysis/lib/python3.12/site-packages (from requests>=2.31.0->llama-index-core) (2.2.3)\n",
      "Requirement already satisfied: certifi>=2017.4.17 in /home/hm3/miniconda3/envs/marker-analysis/lib/python3.12/site-packages (from requests>=2.31.0->llama-index-core) (2024.8.30)\n",
      "Requirement already satisfied: greenlet!=0.4.17 in /home/hm3/miniconda3/envs/marker-analysis/lib/python3.12/site-packages (from SQLAlchemy>=1.4.49->SQLAlchemy[asyncio]>=1.4.49->llama-index-core) (3.1.1)\n",
      "Requirement already satisfied: mypy-extensions>=0.3.0 in /home/hm3/miniconda3/envs/marker-analysis/lib/python3.12/site-packages (from typing-inspect>=0.8.0->llama-index-core) (1.0.0)\n",
      "Requirement already satisfied: marshmallow<4.0.0,>=3.18.0 in /home/hm3/miniconda3/envs/marker-analysis/lib/python3.12/site-packages (from dataclasses-json->llama-index-core) (3.23.1)\n",
      "Requirement already satisfied: anyio in /home/hm3/miniconda3/envs/marker-analysis/lib/python3.12/site-packages (from httpx->llama-index-core) (4.6.2.post1)\n",
      "Requirement already satisfied: httpcore==1.* in /home/hm3/miniconda3/envs/marker-analysis/lib/python3.12/site-packages (from httpx->llama-index-core) (1.0.7)\n",
      "Requirement already satisfied: h11<0.15,>=0.13 in /home/hm3/miniconda3/envs/marker-analysis/lib/python3.12/site-packages (from httpcore==1.*->httpx->llama-index-core) (0.14.0)\n",
      "Requirement already satisfied: packaging>=17.0 in /home/hm3/miniconda3/envs/marker-analysis/lib/python3.12/site-packages (from marshmallow<4.0.0,>=3.18.0->dataclasses-json->llama-index-core) (24.2)\n",
      "Requirement already satisfied: sniffio>=1.1 in /home/hm3/miniconda3/envs/marker-analysis/lib/python3.12/site-packages (from anyio->httpx->llama-index-core) (1.3.1)\n",
      "Collecting llama-index-llms-anthropic\n",
      "  Using cached llama_index_llms_anthropic-0.5.0-py3-none-any.whl.metadata (5.8 kB)\n",
      "Collecting llama-index-multi-modal-llms-anthropic\n",
      "  Using cached llama_index_multi_modal_llms_anthropic-0.3.0-py3-none-any.whl.metadata (756 bytes)\n",
      "Collecting anthropic>=0.39.0 (from anthropic[bedrock,vertex]>=0.39.0->llama-index-llms-anthropic)\n",
      "  Using cached anthropic-0.40.0-py3-none-any.whl.metadata (23 kB)\n",
      "Requirement already satisfied: llama-index-core<0.13.0,>=0.12.0 in /home/hm3/miniconda3/envs/marker-analysis/lib/python3.12/site-packages (from llama-index-llms-anthropic) (0.12.3)\n",
      "Requirement already satisfied: filetype<2.0.0,>=1.2.0 in /home/hm3/miniconda3/envs/marker-analysis/lib/python3.12/site-packages (from llama-index-multi-modal-llms-anthropic) (1.2.0)\n",
      "Requirement already satisfied: anyio<5,>=3.5.0 in /home/hm3/miniconda3/envs/marker-analysis/lib/python3.12/site-packages (from anthropic>=0.39.0->anthropic[bedrock,vertex]>=0.39.0->llama-index-llms-anthropic) (4.6.2.post1)\n",
      "Requirement already satisfied: distro<2,>=1.7.0 in /home/hm3/miniconda3/envs/marker-analysis/lib/python3.12/site-packages (from anthropic>=0.39.0->anthropic[bedrock,vertex]>=0.39.0->llama-index-llms-anthropic) (1.9.0)\n",
      "Requirement already satisfied: httpx<1,>=0.23.0 in /home/hm3/miniconda3/envs/marker-analysis/lib/python3.12/site-packages (from anthropic>=0.39.0->anthropic[bedrock,vertex]>=0.39.0->llama-index-llms-anthropic) (0.28.0)\n",
      "Requirement already satisfied: jiter<1,>=0.4.0 in /home/hm3/miniconda3/envs/marker-analysis/lib/python3.12/site-packages (from anthropic>=0.39.0->anthropic[bedrock,vertex]>=0.39.0->llama-index-llms-anthropic) (0.8.0)\n",
      "Requirement already satisfied: pydantic<3,>=1.9.0 in /home/hm3/miniconda3/envs/marker-analysis/lib/python3.12/site-packages (from anthropic>=0.39.0->anthropic[bedrock,vertex]>=0.39.0->llama-index-llms-anthropic) (2.9.2)\n",
      "Requirement already satisfied: sniffio in /home/hm3/miniconda3/envs/marker-analysis/lib/python3.12/site-packages (from anthropic>=0.39.0->anthropic[bedrock,vertex]>=0.39.0->llama-index-llms-anthropic) (1.3.1)\n",
      "Requirement already satisfied: typing-extensions<5,>=4.7 in /home/hm3/miniconda3/envs/marker-analysis/lib/python3.12/site-packages (from anthropic>=0.39.0->anthropic[bedrock,vertex]>=0.39.0->llama-index-llms-anthropic) (4.12.2)\n",
      "Collecting boto3>=1.28.57 (from anthropic[bedrock,vertex]>=0.39.0->llama-index-llms-anthropic)\n",
      "  Downloading boto3-1.35.76-py3-none-any.whl.metadata (6.7 kB)\n",
      "Collecting botocore>=1.31.57 (from anthropic[bedrock,vertex]>=0.39.0->llama-index-llms-anthropic)\n",
      "  Downloading botocore-1.35.76-py3-none-any.whl.metadata (5.7 kB)\n",
      "Collecting google-auth<3,>=2 (from anthropic[bedrock,vertex]>=0.39.0->llama-index-llms-anthropic)\n",
      "  Using cached google_auth-2.36.0-py2.py3-none-any.whl.metadata (4.7 kB)\n",
      "Requirement already satisfied: PyYAML>=6.0.1 in /home/hm3/miniconda3/envs/marker-analysis/lib/python3.12/site-packages (from llama-index-core<0.13.0,>=0.12.0->llama-index-llms-anthropic) (6.0.2)\n",
      "Requirement already satisfied: SQLAlchemy>=1.4.49 in /home/hm3/miniconda3/envs/marker-analysis/lib/python3.12/site-packages (from SQLAlchemy[asyncio]>=1.4.49->llama-index-core<0.13.0,>=0.12.0->llama-index-llms-anthropic) (2.0.36)\n",
      "Requirement already satisfied: aiohttp<4.0.0,>=3.8.6 in /home/hm3/miniconda3/envs/marker-analysis/lib/python3.12/site-packages (from llama-index-core<0.13.0,>=0.12.0->llama-index-llms-anthropic) (3.11.10)\n",
      "Requirement already satisfied: dataclasses-json in /home/hm3/miniconda3/envs/marker-analysis/lib/python3.12/site-packages (from llama-index-core<0.13.0,>=0.12.0->llama-index-llms-anthropic) (0.6.7)\n",
      "Requirement already satisfied: deprecated>=1.2.9.3 in /home/hm3/miniconda3/envs/marker-analysis/lib/python3.12/site-packages (from llama-index-core<0.13.0,>=0.12.0->llama-index-llms-anthropic) (1.2.15)\n",
      "Requirement already satisfied: dirtyjson<2.0.0,>=1.0.8 in /home/hm3/miniconda3/envs/marker-analysis/lib/python3.12/site-packages (from llama-index-core<0.13.0,>=0.12.0->llama-index-llms-anthropic) (1.0.8)\n",
      "Requirement already satisfied: fsspec>=2023.5.0 in /home/hm3/miniconda3/envs/marker-analysis/lib/python3.12/site-packages (from llama-index-core<0.13.0,>=0.12.0->llama-index-llms-anthropic) (2024.10.0)\n",
      "Requirement already satisfied: nest-asyncio<2.0.0,>=1.5.8 in /home/hm3/miniconda3/envs/marker-analysis/lib/python3.12/site-packages (from llama-index-core<0.13.0,>=0.12.0->llama-index-llms-anthropic) (1.6.0)\n",
      "Requirement already satisfied: networkx>=3.0 in /home/hm3/miniconda3/envs/marker-analysis/lib/python3.12/site-packages (from llama-index-core<0.13.0,>=0.12.0->llama-index-llms-anthropic) (3.4.2)\n",
      "Requirement already satisfied: nltk>3.8.1 in /home/hm3/miniconda3/envs/marker-analysis/lib/python3.12/site-packages (from llama-index-core<0.13.0,>=0.12.0->llama-index-llms-anthropic) (3.9.1)\n",
      "Requirement already satisfied: numpy in /home/hm3/miniconda3/envs/marker-analysis/lib/python3.12/site-packages (from llama-index-core<0.13.0,>=0.12.0->llama-index-llms-anthropic) (2.1.3)\n",
      "Requirement already satisfied: pillow>=9.0.0 in /home/hm3/miniconda3/envs/marker-analysis/lib/python3.12/site-packages (from llama-index-core<0.13.0,>=0.12.0->llama-index-llms-anthropic) (10.4.0)\n",
      "Requirement already satisfied: requests>=2.31.0 in /home/hm3/miniconda3/envs/marker-analysis/lib/python3.12/site-packages (from llama-index-core<0.13.0,>=0.12.0->llama-index-llms-anthropic) (2.32.3)\n",
      "Requirement already satisfied: tenacity!=8.4.0,<9.0.0,>=8.2.0 in /home/hm3/miniconda3/envs/marker-analysis/lib/python3.12/site-packages (from llama-index-core<0.13.0,>=0.12.0->llama-index-llms-anthropic) (8.5.0)\n",
      "Requirement already satisfied: tiktoken>=0.3.3 in /home/hm3/miniconda3/envs/marker-analysis/lib/python3.12/site-packages (from llama-index-core<0.13.0,>=0.12.0->llama-index-llms-anthropic) (0.8.0)\n",
      "Requirement already satisfied: tqdm<5.0.0,>=4.66.1 in /home/hm3/miniconda3/envs/marker-analysis/lib/python3.12/site-packages (from llama-index-core<0.13.0,>=0.12.0->llama-index-llms-anthropic) (4.67.1)\n",
      "Requirement already satisfied: typing-inspect>=0.8.0 in /home/hm3/miniconda3/envs/marker-analysis/lib/python3.12/site-packages (from llama-index-core<0.13.0,>=0.12.0->llama-index-llms-anthropic) (0.9.0)\n",
      "Requirement already satisfied: wrapt in /home/hm3/miniconda3/envs/marker-analysis/lib/python3.12/site-packages (from llama-index-core<0.13.0,>=0.12.0->llama-index-llms-anthropic) (1.17.0)\n",
      "Requirement already satisfied: aiohappyeyeballs>=2.3.0 in /home/hm3/miniconda3/envs/marker-analysis/lib/python3.12/site-packages (from aiohttp<4.0.0,>=3.8.6->llama-index-core<0.13.0,>=0.12.0->llama-index-llms-anthropic) (2.4.4)\n",
      "Requirement already satisfied: aiosignal>=1.1.2 in /home/hm3/miniconda3/envs/marker-analysis/lib/python3.12/site-packages (from aiohttp<4.0.0,>=3.8.6->llama-index-core<0.13.0,>=0.12.0->llama-index-llms-anthropic) (1.3.1)\n",
      "Requirement already satisfied: attrs>=17.3.0 in /home/hm3/miniconda3/envs/marker-analysis/lib/python3.12/site-packages (from aiohttp<4.0.0,>=3.8.6->llama-index-core<0.13.0,>=0.12.0->llama-index-llms-anthropic) (24.2.0)\n",
      "Requirement already satisfied: frozenlist>=1.1.1 in /home/hm3/miniconda3/envs/marker-analysis/lib/python3.12/site-packages (from aiohttp<4.0.0,>=3.8.6->llama-index-core<0.13.0,>=0.12.0->llama-index-llms-anthropic) (1.5.0)\n",
      "Requirement already satisfied: multidict<7.0,>=4.5 in /home/hm3/miniconda3/envs/marker-analysis/lib/python3.12/site-packages (from aiohttp<4.0.0,>=3.8.6->llama-index-core<0.13.0,>=0.12.0->llama-index-llms-anthropic) (6.1.0)\n",
      "Requirement already satisfied: propcache>=0.2.0 in /home/hm3/miniconda3/envs/marker-analysis/lib/python3.12/site-packages (from aiohttp<4.0.0,>=3.8.6->llama-index-core<0.13.0,>=0.12.0->llama-index-llms-anthropic) (0.2.1)\n",
      "Requirement already satisfied: yarl<2.0,>=1.17.0 in /home/hm3/miniconda3/envs/marker-analysis/lib/python3.12/site-packages (from aiohttp<4.0.0,>=3.8.6->llama-index-core<0.13.0,>=0.12.0->llama-index-llms-anthropic) (1.18.3)\n",
      "Requirement already satisfied: idna>=2.8 in /home/hm3/miniconda3/envs/marker-analysis/lib/python3.12/site-packages (from anyio<5,>=3.5.0->anthropic>=0.39.0->anthropic[bedrock,vertex]>=0.39.0->llama-index-llms-anthropic) (3.10)\n",
      "Collecting jmespath<2.0.0,>=0.7.1 (from boto3>=1.28.57->anthropic[bedrock,vertex]>=0.39.0->llama-index-llms-anthropic)\n",
      "  Using cached jmespath-1.0.1-py3-none-any.whl.metadata (7.6 kB)\n",
      "Collecting s3transfer<0.11.0,>=0.10.0 (from boto3>=1.28.57->anthropic[bedrock,vertex]>=0.39.0->llama-index-llms-anthropic)\n",
      "  Using cached s3transfer-0.10.4-py3-none-any.whl.metadata (1.7 kB)\n",
      "Requirement already satisfied: python-dateutil<3.0.0,>=2.1 in /home/hm3/miniconda3/envs/marker-analysis/lib/python3.12/site-packages (from botocore>=1.31.57->anthropic[bedrock,vertex]>=0.39.0->llama-index-llms-anthropic) (2.9.0.post0)\n",
      "Requirement already satisfied: urllib3!=2.2.0,<3,>=1.25.4 in /home/hm3/miniconda3/envs/marker-analysis/lib/python3.12/site-packages (from botocore>=1.31.57->anthropic[bedrock,vertex]>=0.39.0->llama-index-llms-anthropic) (2.2.3)\n",
      "Collecting cachetools<6.0,>=2.0.0 (from google-auth<3,>=2->anthropic[bedrock,vertex]>=0.39.0->llama-index-llms-anthropic)\n",
      "  Using cached cachetools-5.5.0-py3-none-any.whl.metadata (5.3 kB)\n",
      "Collecting pyasn1-modules>=0.2.1 (from google-auth<3,>=2->anthropic[bedrock,vertex]>=0.39.0->llama-index-llms-anthropic)\n",
      "  Using cached pyasn1_modules-0.4.1-py3-none-any.whl.metadata (3.5 kB)\n",
      "Collecting rsa<5,>=3.1.4 (from google-auth<3,>=2->anthropic[bedrock,vertex]>=0.39.0->llama-index-llms-anthropic)\n",
      "  Using cached rsa-4.9-py3-none-any.whl.metadata (4.2 kB)\n",
      "Requirement already satisfied: certifi in /home/hm3/miniconda3/envs/marker-analysis/lib/python3.12/site-packages (from httpx<1,>=0.23.0->anthropic>=0.39.0->anthropic[bedrock,vertex]>=0.39.0->llama-index-llms-anthropic) (2024.8.30)\n",
      "Requirement already satisfied: httpcore==1.* in /home/hm3/miniconda3/envs/marker-analysis/lib/python3.12/site-packages (from httpx<1,>=0.23.0->anthropic>=0.39.0->anthropic[bedrock,vertex]>=0.39.0->llama-index-llms-anthropic) (1.0.7)\n",
      "Requirement already satisfied: h11<0.15,>=0.13 in /home/hm3/miniconda3/envs/marker-analysis/lib/python3.12/site-packages (from httpcore==1.*->httpx<1,>=0.23.0->anthropic>=0.39.0->anthropic[bedrock,vertex]>=0.39.0->llama-index-llms-anthropic) (0.14.0)\n",
      "Requirement already satisfied: click in /home/hm3/miniconda3/envs/marker-analysis/lib/python3.12/site-packages (from nltk>3.8.1->llama-index-core<0.13.0,>=0.12.0->llama-index-llms-anthropic) (8.1.7)\n",
      "Requirement already satisfied: joblib in /home/hm3/miniconda3/envs/marker-analysis/lib/python3.12/site-packages (from nltk>3.8.1->llama-index-core<0.13.0,>=0.12.0->llama-index-llms-anthropic) (1.4.2)\n",
      "Requirement already satisfied: regex>=2021.8.3 in /home/hm3/miniconda3/envs/marker-analysis/lib/python3.12/site-packages (from nltk>3.8.1->llama-index-core<0.13.0,>=0.12.0->llama-index-llms-anthropic) (2024.11.6)\n",
      "Requirement already satisfied: annotated-types>=0.6.0 in /home/hm3/miniconda3/envs/marker-analysis/lib/python3.12/site-packages (from pydantic<3,>=1.9.0->anthropic>=0.39.0->anthropic[bedrock,vertex]>=0.39.0->llama-index-llms-anthropic) (0.7.0)\n",
      "Requirement already satisfied: pydantic-core==2.23.4 in /home/hm3/miniconda3/envs/marker-analysis/lib/python3.12/site-packages (from pydantic<3,>=1.9.0->anthropic>=0.39.0->anthropic[bedrock,vertex]>=0.39.0->llama-index-llms-anthropic) (2.23.4)\n",
      "Requirement already satisfied: charset-normalizer<4,>=2 in /home/hm3/miniconda3/envs/marker-analysis/lib/python3.12/site-packages (from requests>=2.31.0->llama-index-core<0.13.0,>=0.12.0->llama-index-llms-anthropic) (3.4.0)\n",
      "Requirement already satisfied: greenlet!=0.4.17 in /home/hm3/miniconda3/envs/marker-analysis/lib/python3.12/site-packages (from SQLAlchemy>=1.4.49->SQLAlchemy[asyncio]>=1.4.49->llama-index-core<0.13.0,>=0.12.0->llama-index-llms-anthropic) (3.1.1)\n",
      "Requirement already satisfied: mypy-extensions>=0.3.0 in /home/hm3/miniconda3/envs/marker-analysis/lib/python3.12/site-packages (from typing-inspect>=0.8.0->llama-index-core<0.13.0,>=0.12.0->llama-index-llms-anthropic) (1.0.0)\n",
      "Requirement already satisfied: marshmallow<4.0.0,>=3.18.0 in /home/hm3/miniconda3/envs/marker-analysis/lib/python3.12/site-packages (from dataclasses-json->llama-index-core<0.13.0,>=0.12.0->llama-index-llms-anthropic) (3.23.1)\n",
      "Requirement already satisfied: packaging>=17.0 in /home/hm3/miniconda3/envs/marker-analysis/lib/python3.12/site-packages (from marshmallow<4.0.0,>=3.18.0->dataclasses-json->llama-index-core<0.13.0,>=0.12.0->llama-index-llms-anthropic) (24.2)\n",
      "Collecting pyasn1<0.7.0,>=0.4.6 (from pyasn1-modules>=0.2.1->google-auth<3,>=2->anthropic[bedrock,vertex]>=0.39.0->llama-index-llms-anthropic)\n",
      "  Using cached pyasn1-0.6.1-py3-none-any.whl.metadata (8.4 kB)\n",
      "Requirement already satisfied: six>=1.5 in /home/hm3/miniconda3/envs/marker-analysis/lib/python3.12/site-packages (from python-dateutil<3.0.0,>=2.1->botocore>=1.31.57->anthropic[bedrock,vertex]>=0.39.0->llama-index-llms-anthropic) (1.16.0)\n",
      "Using cached llama_index_llms_anthropic-0.5.0-py3-none-any.whl (9.2 kB)\n",
      "Using cached llama_index_multi_modal_llms_anthropic-0.3.0-py3-none-any.whl (6.0 kB)\n",
      "Using cached anthropic-0.40.0-py3-none-any.whl (199 kB)\n",
      "Downloading boto3-1.35.76-py3-none-any.whl (139 kB)\n",
      "Downloading botocore-1.35.76-py3-none-any.whl (13.2 MB)\n",
      "\u001b[2K   \u001b[38;2;114;156;31m━━━━━━━━━━━━━━━━━━━━━━━━━━━━━━━━━━━━━━━━\u001b[0m \u001b[32m13.2/13.2 MB\u001b[0m \u001b[31m87.4 MB/s\u001b[0m eta \u001b[36m0:00:00\u001b[0m\n",
      "\u001b[?25hUsing cached google_auth-2.36.0-py2.py3-none-any.whl (209 kB)\n",
      "Using cached cachetools-5.5.0-py3-none-any.whl (9.5 kB)\n",
      "Using cached jmespath-1.0.1-py3-none-any.whl (20 kB)\n",
      "Using cached pyasn1_modules-0.4.1-py3-none-any.whl (181 kB)\n",
      "Using cached rsa-4.9-py3-none-any.whl (34 kB)\n",
      "Using cached s3transfer-0.10.4-py3-none-any.whl (83 kB)\n",
      "Using cached pyasn1-0.6.1-py3-none-any.whl (83 kB)\n",
      "Installing collected packages: pyasn1, jmespath, cachetools, rsa, pyasn1-modules, botocore, s3transfer, google-auth, anthropic, llama-index-multi-modal-llms-anthropic, boto3, llama-index-llms-anthropic\n",
      "Successfully installed anthropic-0.40.0 boto3-1.35.76 botocore-1.35.76 cachetools-5.5.0 google-auth-2.36.0 jmespath-1.0.1 llama-index-llms-anthropic-0.5.0 llama-index-multi-modal-llms-anthropic-0.3.0 pyasn1-0.6.1 pyasn1-modules-0.4.1 rsa-4.9 s3transfer-0.10.4\n",
      "Collecting llama-index-embeddings-huggingface\n",
      "  Using cached llama_index_embeddings_huggingface-0.4.0-py3-none-any.whl.metadata (767 bytes)\n",
      "Requirement already satisfied: huggingface-hub>=0.19.0 in /home/hm3/miniconda3/envs/marker-analysis/lib/python3.12/site-packages (from huggingface-hub[inference]>=0.19.0->llama-index-embeddings-huggingface) (0.26.3)\n",
      "Requirement already satisfied: llama-index-core<0.13.0,>=0.12.0 in /home/hm3/miniconda3/envs/marker-analysis/lib/python3.12/site-packages (from llama-index-embeddings-huggingface) (0.12.3)\n",
      "Collecting sentence-transformers>=2.6.1 (from llama-index-embeddings-huggingface)\n",
      "  Using cached sentence_transformers-3.3.1-py3-none-any.whl.metadata (10 kB)\n",
      "Requirement already satisfied: filelock in /home/hm3/miniconda3/envs/marker-analysis/lib/python3.12/site-packages (from huggingface-hub>=0.19.0->huggingface-hub[inference]>=0.19.0->llama-index-embeddings-huggingface) (3.16.1)\n",
      "Requirement already satisfied: fsspec>=2023.5.0 in /home/hm3/miniconda3/envs/marker-analysis/lib/python3.12/site-packages (from huggingface-hub>=0.19.0->huggingface-hub[inference]>=0.19.0->llama-index-embeddings-huggingface) (2024.10.0)\n",
      "Requirement already satisfied: packaging>=20.9 in /home/hm3/miniconda3/envs/marker-analysis/lib/python3.12/site-packages (from huggingface-hub>=0.19.0->huggingface-hub[inference]>=0.19.0->llama-index-embeddings-huggingface) (24.2)\n",
      "Requirement already satisfied: pyyaml>=5.1 in /home/hm3/miniconda3/envs/marker-analysis/lib/python3.12/site-packages (from huggingface-hub>=0.19.0->huggingface-hub[inference]>=0.19.0->llama-index-embeddings-huggingface) (6.0.2)\n",
      "Requirement already satisfied: requests in /home/hm3/miniconda3/envs/marker-analysis/lib/python3.12/site-packages (from huggingface-hub>=0.19.0->huggingface-hub[inference]>=0.19.0->llama-index-embeddings-huggingface) (2.32.3)\n",
      "Requirement already satisfied: tqdm>=4.42.1 in /home/hm3/miniconda3/envs/marker-analysis/lib/python3.12/site-packages (from huggingface-hub>=0.19.0->huggingface-hub[inference]>=0.19.0->llama-index-embeddings-huggingface) (4.67.1)\n",
      "Requirement already satisfied: typing-extensions>=3.7.4.3 in /home/hm3/miniconda3/envs/marker-analysis/lib/python3.12/site-packages (from huggingface-hub>=0.19.0->huggingface-hub[inference]>=0.19.0->llama-index-embeddings-huggingface) (4.12.2)\n",
      "Requirement already satisfied: aiohttp in /home/hm3/miniconda3/envs/marker-analysis/lib/python3.12/site-packages (from huggingface-hub[inference]>=0.19.0->llama-index-embeddings-huggingface) (3.11.10)\n",
      "Requirement already satisfied: SQLAlchemy>=1.4.49 in /home/hm3/miniconda3/envs/marker-analysis/lib/python3.12/site-packages (from SQLAlchemy[asyncio]>=1.4.49->llama-index-core<0.13.0,>=0.12.0->llama-index-embeddings-huggingface) (2.0.36)\n",
      "Requirement already satisfied: dataclasses-json in /home/hm3/miniconda3/envs/marker-analysis/lib/python3.12/site-packages (from llama-index-core<0.13.0,>=0.12.0->llama-index-embeddings-huggingface) (0.6.7)\n",
      "Requirement already satisfied: deprecated>=1.2.9.3 in /home/hm3/miniconda3/envs/marker-analysis/lib/python3.12/site-packages (from llama-index-core<0.13.0,>=0.12.0->llama-index-embeddings-huggingface) (1.2.15)\n",
      "Requirement already satisfied: dirtyjson<2.0.0,>=1.0.8 in /home/hm3/miniconda3/envs/marker-analysis/lib/python3.12/site-packages (from llama-index-core<0.13.0,>=0.12.0->llama-index-embeddings-huggingface) (1.0.8)\n",
      "Requirement already satisfied: filetype<2.0.0,>=1.2.0 in /home/hm3/miniconda3/envs/marker-analysis/lib/python3.12/site-packages (from llama-index-core<0.13.0,>=0.12.0->llama-index-embeddings-huggingface) (1.2.0)\n",
      "Requirement already satisfied: httpx in /home/hm3/miniconda3/envs/marker-analysis/lib/python3.12/site-packages (from llama-index-core<0.13.0,>=0.12.0->llama-index-embeddings-huggingface) (0.28.0)\n",
      "Requirement already satisfied: nest-asyncio<2.0.0,>=1.5.8 in /home/hm3/miniconda3/envs/marker-analysis/lib/python3.12/site-packages (from llama-index-core<0.13.0,>=0.12.0->llama-index-embeddings-huggingface) (1.6.0)\n",
      "Requirement already satisfied: networkx>=3.0 in /home/hm3/miniconda3/envs/marker-analysis/lib/python3.12/site-packages (from llama-index-core<0.13.0,>=0.12.0->llama-index-embeddings-huggingface) (3.4.2)\n",
      "Requirement already satisfied: nltk>3.8.1 in /home/hm3/miniconda3/envs/marker-analysis/lib/python3.12/site-packages (from llama-index-core<0.13.0,>=0.12.0->llama-index-embeddings-huggingface) (3.9.1)\n",
      "Requirement already satisfied: numpy in /home/hm3/miniconda3/envs/marker-analysis/lib/python3.12/site-packages (from llama-index-core<0.13.0,>=0.12.0->llama-index-embeddings-huggingface) (2.1.3)\n",
      "Requirement already satisfied: pillow>=9.0.0 in /home/hm3/miniconda3/envs/marker-analysis/lib/python3.12/site-packages (from llama-index-core<0.13.0,>=0.12.0->llama-index-embeddings-huggingface) (10.4.0)\n",
      "Requirement already satisfied: pydantic<2.10.0,>=2.7.0 in /home/hm3/miniconda3/envs/marker-analysis/lib/python3.12/site-packages (from llama-index-core<0.13.0,>=0.12.0->llama-index-embeddings-huggingface) (2.9.2)\n",
      "Requirement already satisfied: tenacity!=8.4.0,<9.0.0,>=8.2.0 in /home/hm3/miniconda3/envs/marker-analysis/lib/python3.12/site-packages (from llama-index-core<0.13.0,>=0.12.0->llama-index-embeddings-huggingface) (8.5.0)\n",
      "Requirement already satisfied: tiktoken>=0.3.3 in /home/hm3/miniconda3/envs/marker-analysis/lib/python3.12/site-packages (from llama-index-core<0.13.0,>=0.12.0->llama-index-embeddings-huggingface) (0.8.0)\n",
      "Requirement already satisfied: typing-inspect>=0.8.0 in /home/hm3/miniconda3/envs/marker-analysis/lib/python3.12/site-packages (from llama-index-core<0.13.0,>=0.12.0->llama-index-embeddings-huggingface) (0.9.0)\n",
      "Requirement already satisfied: wrapt in /home/hm3/miniconda3/envs/marker-analysis/lib/python3.12/site-packages (from llama-index-core<0.13.0,>=0.12.0->llama-index-embeddings-huggingface) (1.17.0)\n",
      "Requirement already satisfied: transformers<5.0.0,>=4.41.0 in /home/hm3/miniconda3/envs/marker-analysis/lib/python3.12/site-packages (from sentence-transformers>=2.6.1->llama-index-embeddings-huggingface) (4.46.3)\n",
      "Requirement already satisfied: torch>=1.11.0 in /home/hm3/miniconda3/envs/marker-analysis/lib/python3.12/site-packages (from sentence-transformers>=2.6.1->llama-index-embeddings-huggingface) (2.5.1)\n",
      "Requirement already satisfied: scikit-learn in /home/hm3/miniconda3/envs/marker-analysis/lib/python3.12/site-packages (from sentence-transformers>=2.6.1->llama-index-embeddings-huggingface) (1.5.2)\n",
      "Requirement already satisfied: scipy in /home/hm3/miniconda3/envs/marker-analysis/lib/python3.12/site-packages (from sentence-transformers>=2.6.1->llama-index-embeddings-huggingface) (1.14.1)\n",
      "Requirement already satisfied: aiohappyeyeballs>=2.3.0 in /home/hm3/miniconda3/envs/marker-analysis/lib/python3.12/site-packages (from aiohttp->huggingface-hub[inference]>=0.19.0->llama-index-embeddings-huggingface) (2.4.4)\n",
      "Requirement already satisfied: aiosignal>=1.1.2 in /home/hm3/miniconda3/envs/marker-analysis/lib/python3.12/site-packages (from aiohttp->huggingface-hub[inference]>=0.19.0->llama-index-embeddings-huggingface) (1.3.1)\n",
      "Requirement already satisfied: attrs>=17.3.0 in /home/hm3/miniconda3/envs/marker-analysis/lib/python3.12/site-packages (from aiohttp->huggingface-hub[inference]>=0.19.0->llama-index-embeddings-huggingface) (24.2.0)\n",
      "Requirement already satisfied: frozenlist>=1.1.1 in /home/hm3/miniconda3/envs/marker-analysis/lib/python3.12/site-packages (from aiohttp->huggingface-hub[inference]>=0.19.0->llama-index-embeddings-huggingface) (1.5.0)\n",
      "Requirement already satisfied: multidict<7.0,>=4.5 in /home/hm3/miniconda3/envs/marker-analysis/lib/python3.12/site-packages (from aiohttp->huggingface-hub[inference]>=0.19.0->llama-index-embeddings-huggingface) (6.1.0)\n",
      "Requirement already satisfied: propcache>=0.2.0 in /home/hm3/miniconda3/envs/marker-analysis/lib/python3.12/site-packages (from aiohttp->huggingface-hub[inference]>=0.19.0->llama-index-embeddings-huggingface) (0.2.1)\n",
      "Requirement already satisfied: yarl<2.0,>=1.17.0 in /home/hm3/miniconda3/envs/marker-analysis/lib/python3.12/site-packages (from aiohttp->huggingface-hub[inference]>=0.19.0->llama-index-embeddings-huggingface) (1.18.3)\n",
      "Requirement already satisfied: click in /home/hm3/miniconda3/envs/marker-analysis/lib/python3.12/site-packages (from nltk>3.8.1->llama-index-core<0.13.0,>=0.12.0->llama-index-embeddings-huggingface) (8.1.7)\n",
      "Requirement already satisfied: joblib in /home/hm3/miniconda3/envs/marker-analysis/lib/python3.12/site-packages (from nltk>3.8.1->llama-index-core<0.13.0,>=0.12.0->llama-index-embeddings-huggingface) (1.4.2)\n",
      "Requirement already satisfied: regex>=2021.8.3 in /home/hm3/miniconda3/envs/marker-analysis/lib/python3.12/site-packages (from nltk>3.8.1->llama-index-core<0.13.0,>=0.12.0->llama-index-embeddings-huggingface) (2024.11.6)\n",
      "Requirement already satisfied: annotated-types>=0.6.0 in /home/hm3/miniconda3/envs/marker-analysis/lib/python3.12/site-packages (from pydantic<2.10.0,>=2.7.0->llama-index-core<0.13.0,>=0.12.0->llama-index-embeddings-huggingface) (0.7.0)\n",
      "Requirement already satisfied: pydantic-core==2.23.4 in /home/hm3/miniconda3/envs/marker-analysis/lib/python3.12/site-packages (from pydantic<2.10.0,>=2.7.0->llama-index-core<0.13.0,>=0.12.0->llama-index-embeddings-huggingface) (2.23.4)\n",
      "Requirement already satisfied: charset-normalizer<4,>=2 in /home/hm3/miniconda3/envs/marker-analysis/lib/python3.12/site-packages (from requests->huggingface-hub>=0.19.0->huggingface-hub[inference]>=0.19.0->llama-index-embeddings-huggingface) (3.4.0)\n",
      "Requirement already satisfied: idna<4,>=2.5 in /home/hm3/miniconda3/envs/marker-analysis/lib/python3.12/site-packages (from requests->huggingface-hub>=0.19.0->huggingface-hub[inference]>=0.19.0->llama-index-embeddings-huggingface) (3.10)\n",
      "Requirement already satisfied: urllib3<3,>=1.21.1 in /home/hm3/miniconda3/envs/marker-analysis/lib/python3.12/site-packages (from requests->huggingface-hub>=0.19.0->huggingface-hub[inference]>=0.19.0->llama-index-embeddings-huggingface) (2.2.3)\n",
      "Requirement already satisfied: certifi>=2017.4.17 in /home/hm3/miniconda3/envs/marker-analysis/lib/python3.12/site-packages (from requests->huggingface-hub>=0.19.0->huggingface-hub[inference]>=0.19.0->llama-index-embeddings-huggingface) (2024.8.30)\n",
      "Requirement already satisfied: greenlet!=0.4.17 in /home/hm3/miniconda3/envs/marker-analysis/lib/python3.12/site-packages (from SQLAlchemy>=1.4.49->SQLAlchemy[asyncio]>=1.4.49->llama-index-core<0.13.0,>=0.12.0->llama-index-embeddings-huggingface) (3.1.1)\n",
      "Requirement already satisfied: jinja2 in /home/hm3/miniconda3/envs/marker-analysis/lib/python3.12/site-packages (from torch>=1.11.0->sentence-transformers>=2.6.1->llama-index-embeddings-huggingface) (3.1.4)\n",
      "Requirement already satisfied: nvidia-cuda-nvrtc-cu12==12.4.127 in /home/hm3/miniconda3/envs/marker-analysis/lib/python3.12/site-packages (from torch>=1.11.0->sentence-transformers>=2.6.1->llama-index-embeddings-huggingface) (12.4.127)\n",
      "Requirement already satisfied: nvidia-cuda-runtime-cu12==12.4.127 in /home/hm3/miniconda3/envs/marker-analysis/lib/python3.12/site-packages (from torch>=1.11.0->sentence-transformers>=2.6.1->llama-index-embeddings-huggingface) (12.4.127)\n",
      "Requirement already satisfied: nvidia-cuda-cupti-cu12==12.4.127 in /home/hm3/miniconda3/envs/marker-analysis/lib/python3.12/site-packages (from torch>=1.11.0->sentence-transformers>=2.6.1->llama-index-embeddings-huggingface) (12.4.127)\n",
      "Requirement already satisfied: nvidia-cudnn-cu12==9.1.0.70 in /home/hm3/miniconda3/envs/marker-analysis/lib/python3.12/site-packages (from torch>=1.11.0->sentence-transformers>=2.6.1->llama-index-embeddings-huggingface) (9.1.0.70)\n",
      "Requirement already satisfied: nvidia-cublas-cu12==12.4.5.8 in /home/hm3/miniconda3/envs/marker-analysis/lib/python3.12/site-packages (from torch>=1.11.0->sentence-transformers>=2.6.1->llama-index-embeddings-huggingface) (12.4.5.8)\n",
      "Requirement already satisfied: nvidia-cufft-cu12==11.2.1.3 in /home/hm3/miniconda3/envs/marker-analysis/lib/python3.12/site-packages (from torch>=1.11.0->sentence-transformers>=2.6.1->llama-index-embeddings-huggingface) (11.2.1.3)\n",
      "Requirement already satisfied: nvidia-curand-cu12==10.3.5.147 in /home/hm3/miniconda3/envs/marker-analysis/lib/python3.12/site-packages (from torch>=1.11.0->sentence-transformers>=2.6.1->llama-index-embeddings-huggingface) (10.3.5.147)\n",
      "Requirement already satisfied: nvidia-cusolver-cu12==11.6.1.9 in /home/hm3/miniconda3/envs/marker-analysis/lib/python3.12/site-packages (from torch>=1.11.0->sentence-transformers>=2.6.1->llama-index-embeddings-huggingface) (11.6.1.9)\n",
      "Requirement already satisfied: nvidia-cusparse-cu12==12.3.1.170 in /home/hm3/miniconda3/envs/marker-analysis/lib/python3.12/site-packages (from torch>=1.11.0->sentence-transformers>=2.6.1->llama-index-embeddings-huggingface) (12.3.1.170)\n",
      "Requirement already satisfied: nvidia-nccl-cu12==2.21.5 in /home/hm3/miniconda3/envs/marker-analysis/lib/python3.12/site-packages (from torch>=1.11.0->sentence-transformers>=2.6.1->llama-index-embeddings-huggingface) (2.21.5)\n",
      "Requirement already satisfied: nvidia-nvtx-cu12==12.4.127 in /home/hm3/miniconda3/envs/marker-analysis/lib/python3.12/site-packages (from torch>=1.11.0->sentence-transformers>=2.6.1->llama-index-embeddings-huggingface) (12.4.127)\n",
      "Requirement already satisfied: nvidia-nvjitlink-cu12==12.4.127 in /home/hm3/miniconda3/envs/marker-analysis/lib/python3.12/site-packages (from torch>=1.11.0->sentence-transformers>=2.6.1->llama-index-embeddings-huggingface) (12.4.127)\n",
      "Requirement already satisfied: triton==3.1.0 in /home/hm3/miniconda3/envs/marker-analysis/lib/python3.12/site-packages (from torch>=1.11.0->sentence-transformers>=2.6.1->llama-index-embeddings-huggingface) (3.1.0)\n",
      "Requirement already satisfied: setuptools in /home/hm3/miniconda3/envs/marker-analysis/lib/python3.12/site-packages (from torch>=1.11.0->sentence-transformers>=2.6.1->llama-index-embeddings-huggingface) (75.1.0)\n",
      "Requirement already satisfied: sympy==1.13.1 in /home/hm3/miniconda3/envs/marker-analysis/lib/python3.12/site-packages (from torch>=1.11.0->sentence-transformers>=2.6.1->llama-index-embeddings-huggingface) (1.13.1)\n",
      "Requirement already satisfied: mpmath<1.4,>=1.1.0 in /home/hm3/miniconda3/envs/marker-analysis/lib/python3.12/site-packages (from sympy==1.13.1->torch>=1.11.0->sentence-transformers>=2.6.1->llama-index-embeddings-huggingface) (1.3.0)\n",
      "Requirement already satisfied: tokenizers<0.21,>=0.20 in /home/hm3/miniconda3/envs/marker-analysis/lib/python3.12/site-packages (from transformers<5.0.0,>=4.41.0->sentence-transformers>=2.6.1->llama-index-embeddings-huggingface) (0.20.3)\n",
      "Requirement already satisfied: safetensors>=0.4.1 in /home/hm3/miniconda3/envs/marker-analysis/lib/python3.12/site-packages (from transformers<5.0.0,>=4.41.0->sentence-transformers>=2.6.1->llama-index-embeddings-huggingface) (0.4.5)\n",
      "Requirement already satisfied: mypy-extensions>=0.3.0 in /home/hm3/miniconda3/envs/marker-analysis/lib/python3.12/site-packages (from typing-inspect>=0.8.0->llama-index-core<0.13.0,>=0.12.0->llama-index-embeddings-huggingface) (1.0.0)\n",
      "Requirement already satisfied: marshmallow<4.0.0,>=3.18.0 in /home/hm3/miniconda3/envs/marker-analysis/lib/python3.12/site-packages (from dataclasses-json->llama-index-core<0.13.0,>=0.12.0->llama-index-embeddings-huggingface) (3.23.1)\n",
      "Requirement already satisfied: anyio in /home/hm3/miniconda3/envs/marker-analysis/lib/python3.12/site-packages (from httpx->llama-index-core<0.13.0,>=0.12.0->llama-index-embeddings-huggingface) (4.6.2.post1)\n",
      "Requirement already satisfied: httpcore==1.* in /home/hm3/miniconda3/envs/marker-analysis/lib/python3.12/site-packages (from httpx->llama-index-core<0.13.0,>=0.12.0->llama-index-embeddings-huggingface) (1.0.7)\n",
      "Requirement already satisfied: h11<0.15,>=0.13 in /home/hm3/miniconda3/envs/marker-analysis/lib/python3.12/site-packages (from httpcore==1.*->httpx->llama-index-core<0.13.0,>=0.12.0->llama-index-embeddings-huggingface) (0.14.0)\n",
      "Requirement already satisfied: threadpoolctl>=3.1.0 in /home/hm3/miniconda3/envs/marker-analysis/lib/python3.12/site-packages (from scikit-learn->sentence-transformers>=2.6.1->llama-index-embeddings-huggingface) (3.5.0)\n",
      "Requirement already satisfied: sniffio>=1.1 in /home/hm3/miniconda3/envs/marker-analysis/lib/python3.12/site-packages (from anyio->httpx->llama-index-core<0.13.0,>=0.12.0->llama-index-embeddings-huggingface) (1.3.1)\n",
      "Requirement already satisfied: MarkupSafe>=2.0 in /home/hm3/miniconda3/envs/marker-analysis/lib/python3.12/site-packages (from jinja2->torch>=1.11.0->sentence-transformers>=2.6.1->llama-index-embeddings-huggingface) (3.0.2)\n",
      "Using cached llama_index_embeddings_huggingface-0.4.0-py3-none-any.whl (8.6 kB)\n",
      "Using cached sentence_transformers-3.3.1-py3-none-any.whl (268 kB)\n",
      "Installing collected packages: sentence-transformers, llama-index-embeddings-huggingface\n",
      "Successfully installed llama-index-embeddings-huggingface-0.4.0 sentence-transformers-3.3.1\n",
      "Requirement already satisfied: llama-parse in /home/hm3/miniconda3/envs/marker-analysis/lib/python3.12/site-packages (0.5.17)\n",
      "Requirement already satisfied: click<9.0.0,>=8.1.7 in /home/hm3/miniconda3/envs/marker-analysis/lib/python3.12/site-packages (from llama-parse) (8.1.7)\n",
      "Requirement already satisfied: llama-index-core>=0.11.0 in /home/hm3/miniconda3/envs/marker-analysis/lib/python3.12/site-packages (from llama-parse) (0.12.3)\n",
      "Requirement already satisfied: pydantic!=2.10 in /home/hm3/miniconda3/envs/marker-analysis/lib/python3.12/site-packages (from llama-parse) (2.9.2)\n",
      "Requirement already satisfied: PyYAML>=6.0.1 in /home/hm3/miniconda3/envs/marker-analysis/lib/python3.12/site-packages (from llama-index-core>=0.11.0->llama-parse) (6.0.2)\n",
      "Requirement already satisfied: SQLAlchemy>=1.4.49 in /home/hm3/miniconda3/envs/marker-analysis/lib/python3.12/site-packages (from SQLAlchemy[asyncio]>=1.4.49->llama-index-core>=0.11.0->llama-parse) (2.0.36)\n",
      "Requirement already satisfied: aiohttp<4.0.0,>=3.8.6 in /home/hm3/miniconda3/envs/marker-analysis/lib/python3.12/site-packages (from llama-index-core>=0.11.0->llama-parse) (3.11.10)\n",
      "Requirement already satisfied: dataclasses-json in /home/hm3/miniconda3/envs/marker-analysis/lib/python3.12/site-packages (from llama-index-core>=0.11.0->llama-parse) (0.6.7)\n",
      "Requirement already satisfied: deprecated>=1.2.9.3 in /home/hm3/miniconda3/envs/marker-analysis/lib/python3.12/site-packages (from llama-index-core>=0.11.0->llama-parse) (1.2.15)\n",
      "Requirement already satisfied: dirtyjson<2.0.0,>=1.0.8 in /home/hm3/miniconda3/envs/marker-analysis/lib/python3.12/site-packages (from llama-index-core>=0.11.0->llama-parse) (1.0.8)\n",
      "Requirement already satisfied: filetype<2.0.0,>=1.2.0 in /home/hm3/miniconda3/envs/marker-analysis/lib/python3.12/site-packages (from llama-index-core>=0.11.0->llama-parse) (1.2.0)\n",
      "Requirement already satisfied: fsspec>=2023.5.0 in /home/hm3/miniconda3/envs/marker-analysis/lib/python3.12/site-packages (from llama-index-core>=0.11.0->llama-parse) (2024.10.0)\n",
      "Requirement already satisfied: httpx in /home/hm3/miniconda3/envs/marker-analysis/lib/python3.12/site-packages (from llama-index-core>=0.11.0->llama-parse) (0.28.0)\n",
      "Requirement already satisfied: nest-asyncio<2.0.0,>=1.5.8 in /home/hm3/miniconda3/envs/marker-analysis/lib/python3.12/site-packages (from llama-index-core>=0.11.0->llama-parse) (1.6.0)\n",
      "Requirement already satisfied: networkx>=3.0 in /home/hm3/miniconda3/envs/marker-analysis/lib/python3.12/site-packages (from llama-index-core>=0.11.0->llama-parse) (3.4.2)\n",
      "Requirement already satisfied: nltk>3.8.1 in /home/hm3/miniconda3/envs/marker-analysis/lib/python3.12/site-packages (from llama-index-core>=0.11.0->llama-parse) (3.9.1)\n",
      "Requirement already satisfied: numpy in /home/hm3/miniconda3/envs/marker-analysis/lib/python3.12/site-packages (from llama-index-core>=0.11.0->llama-parse) (2.1.3)\n",
      "Requirement already satisfied: pillow>=9.0.0 in /home/hm3/miniconda3/envs/marker-analysis/lib/python3.12/site-packages (from llama-index-core>=0.11.0->llama-parse) (10.4.0)\n",
      "Requirement already satisfied: requests>=2.31.0 in /home/hm3/miniconda3/envs/marker-analysis/lib/python3.12/site-packages (from llama-index-core>=0.11.0->llama-parse) (2.32.3)\n",
      "Requirement already satisfied: tenacity!=8.4.0,<9.0.0,>=8.2.0 in /home/hm3/miniconda3/envs/marker-analysis/lib/python3.12/site-packages (from llama-index-core>=0.11.0->llama-parse) (8.5.0)\n",
      "Requirement already satisfied: tiktoken>=0.3.3 in /home/hm3/miniconda3/envs/marker-analysis/lib/python3.12/site-packages (from llama-index-core>=0.11.0->llama-parse) (0.8.0)\n",
      "Requirement already satisfied: tqdm<5.0.0,>=4.66.1 in /home/hm3/miniconda3/envs/marker-analysis/lib/python3.12/site-packages (from llama-index-core>=0.11.0->llama-parse) (4.67.1)\n",
      "Requirement already satisfied: typing-extensions>=4.5.0 in /home/hm3/miniconda3/envs/marker-analysis/lib/python3.12/site-packages (from llama-index-core>=0.11.0->llama-parse) (4.12.2)\n",
      "Requirement already satisfied: typing-inspect>=0.8.0 in /home/hm3/miniconda3/envs/marker-analysis/lib/python3.12/site-packages (from llama-index-core>=0.11.0->llama-parse) (0.9.0)\n",
      "Requirement already satisfied: wrapt in /home/hm3/miniconda3/envs/marker-analysis/lib/python3.12/site-packages (from llama-index-core>=0.11.0->llama-parse) (1.17.0)\n",
      "Requirement already satisfied: annotated-types>=0.6.0 in /home/hm3/miniconda3/envs/marker-analysis/lib/python3.12/site-packages (from pydantic!=2.10->llama-parse) (0.7.0)\n",
      "Requirement already satisfied: pydantic-core==2.23.4 in /home/hm3/miniconda3/envs/marker-analysis/lib/python3.12/site-packages (from pydantic!=2.10->llama-parse) (2.23.4)\n",
      "Requirement already satisfied: aiohappyeyeballs>=2.3.0 in /home/hm3/miniconda3/envs/marker-analysis/lib/python3.12/site-packages (from aiohttp<4.0.0,>=3.8.6->llama-index-core>=0.11.0->llama-parse) (2.4.4)\n",
      "Requirement already satisfied: aiosignal>=1.1.2 in /home/hm3/miniconda3/envs/marker-analysis/lib/python3.12/site-packages (from aiohttp<4.0.0,>=3.8.6->llama-index-core>=0.11.0->llama-parse) (1.3.1)\n",
      "Requirement already satisfied: attrs>=17.3.0 in /home/hm3/miniconda3/envs/marker-analysis/lib/python3.12/site-packages (from aiohttp<4.0.0,>=3.8.6->llama-index-core>=0.11.0->llama-parse) (24.2.0)\n",
      "Requirement already satisfied: frozenlist>=1.1.1 in /home/hm3/miniconda3/envs/marker-analysis/lib/python3.12/site-packages (from aiohttp<4.0.0,>=3.8.6->llama-index-core>=0.11.0->llama-parse) (1.5.0)\n",
      "Requirement already satisfied: multidict<7.0,>=4.5 in /home/hm3/miniconda3/envs/marker-analysis/lib/python3.12/site-packages (from aiohttp<4.0.0,>=3.8.6->llama-index-core>=0.11.0->llama-parse) (6.1.0)\n",
      "Requirement already satisfied: propcache>=0.2.0 in /home/hm3/miniconda3/envs/marker-analysis/lib/python3.12/site-packages (from aiohttp<4.0.0,>=3.8.6->llama-index-core>=0.11.0->llama-parse) (0.2.1)\n",
      "Requirement already satisfied: yarl<2.0,>=1.17.0 in /home/hm3/miniconda3/envs/marker-analysis/lib/python3.12/site-packages (from aiohttp<4.0.0,>=3.8.6->llama-index-core>=0.11.0->llama-parse) (1.18.3)\n",
      "Requirement already satisfied: joblib in /home/hm3/miniconda3/envs/marker-analysis/lib/python3.12/site-packages (from nltk>3.8.1->llama-index-core>=0.11.0->llama-parse) (1.4.2)\n",
      "Requirement already satisfied: regex>=2021.8.3 in /home/hm3/miniconda3/envs/marker-analysis/lib/python3.12/site-packages (from nltk>3.8.1->llama-index-core>=0.11.0->llama-parse) (2024.11.6)\n",
      "Requirement already satisfied: charset-normalizer<4,>=2 in /home/hm3/miniconda3/envs/marker-analysis/lib/python3.12/site-packages (from requests>=2.31.0->llama-index-core>=0.11.0->llama-parse) (3.4.0)\n",
      "Requirement already satisfied: idna<4,>=2.5 in /home/hm3/miniconda3/envs/marker-analysis/lib/python3.12/site-packages (from requests>=2.31.0->llama-index-core>=0.11.0->llama-parse) (3.10)\n",
      "Requirement already satisfied: urllib3<3,>=1.21.1 in /home/hm3/miniconda3/envs/marker-analysis/lib/python3.12/site-packages (from requests>=2.31.0->llama-index-core>=0.11.0->llama-parse) (2.2.3)\n",
      "Requirement already satisfied: certifi>=2017.4.17 in /home/hm3/miniconda3/envs/marker-analysis/lib/python3.12/site-packages (from requests>=2.31.0->llama-index-core>=0.11.0->llama-parse) (2024.8.30)\n",
      "Requirement already satisfied: greenlet!=0.4.17 in /home/hm3/miniconda3/envs/marker-analysis/lib/python3.12/site-packages (from SQLAlchemy>=1.4.49->SQLAlchemy[asyncio]>=1.4.49->llama-index-core>=0.11.0->llama-parse) (3.1.1)\n",
      "Requirement already satisfied: mypy-extensions>=0.3.0 in /home/hm3/miniconda3/envs/marker-analysis/lib/python3.12/site-packages (from typing-inspect>=0.8.0->llama-index-core>=0.11.0->llama-parse) (1.0.0)\n",
      "Requirement already satisfied: marshmallow<4.0.0,>=3.18.0 in /home/hm3/miniconda3/envs/marker-analysis/lib/python3.12/site-packages (from dataclasses-json->llama-index-core>=0.11.0->llama-parse) (3.23.1)\n",
      "Requirement already satisfied: anyio in /home/hm3/miniconda3/envs/marker-analysis/lib/python3.12/site-packages (from httpx->llama-index-core>=0.11.0->llama-parse) (4.6.2.post1)\n",
      "Requirement already satisfied: httpcore==1.* in /home/hm3/miniconda3/envs/marker-analysis/lib/python3.12/site-packages (from httpx->llama-index-core>=0.11.0->llama-parse) (1.0.7)\n",
      "Requirement already satisfied: h11<0.15,>=0.13 in /home/hm3/miniconda3/envs/marker-analysis/lib/python3.12/site-packages (from httpcore==1.*->httpx->llama-index-core>=0.11.0->llama-parse) (0.14.0)\n",
      "Requirement already satisfied: packaging>=17.0 in /home/hm3/miniconda3/envs/marker-analysis/lib/python3.12/site-packages (from marshmallow<4.0.0,>=3.18.0->dataclasses-json->llama-index-core>=0.11.0->llama-parse) (24.2)\n",
      "Requirement already satisfied: sniffio>=1.1 in /home/hm3/miniconda3/envs/marker-analysis/lib/python3.12/site-packages (from anyio->httpx->llama-index-core>=0.11.0->llama-parse) (1.3.1)\n"
     ]
    }
   ],
   "source": [
    "!pip install llama-index\n",
    "!pip install llama-index-core\n",
    "!pip install llama-index-llms-anthropic llama-index-multi-modal-llms-anthropic\n",
    "!pip install llama-index-embeddings-huggingface\n",
    "!pip install llama-parse"
   ]
  },
  {
   "cell_type": "code",
   "execution_count": 1,
   "id": "0879301c-ff91-4431-941a-6c0ef7cd8fe2",
   "metadata": {},
   "outputs": [],
   "source": [
    "# llama-parse is async-first, running the async code in a notebook requires the use of nest_asyncio\n",
    "import nest_asyncio\n",
    "\n",
    "nest_asyncio.apply()\n",
    "\n",
    "import os\n",
    "\n",
    "# API access to llama-cloud\n",
    "os.environ[\"LLAMA_CLOUD_API_KEY\"] = \"llx-lXGlozhsbbGgYEFXAUnWHoftBtoNRJj2BHdAvYOcKpTwj8bL\"\n",
    "\n",
    "# Using Anthropic API for embeddings/LLMs\n",
    "# os.environ[\"ANTHROPIC_API_KEY\"] = \"sk-\""
   ]
  },
  {
   "cell_type": "code",
   "execution_count": 2,
   "id": "391e2d95-5569-4d73-9f16-5b59d7326f8d",
   "metadata": {},
   "outputs": [],
   "source": [
    "from llama_index.llms.anthropic import Anthropic\n",
    "\n",
    "llm = Anthropic(model=\"claude-3-opus-20240229\", temperature=0.0)"
   ]
  },
  {
   "cell_type": "code",
   "execution_count": 3,
   "id": "700f48e8-8b52-41f3-90f9-144d5fdd5c52",
   "metadata": {},
   "outputs": [
    {
     "data": {
      "application/vnd.jupyter.widget-view+json": {
       "model_id": "5a96413162a341878e170a75d0247d43",
       "version_major": 2,
       "version_minor": 0
      },
      "text/plain": [
       "modules.json:   0%|          | 0.00/349 [00:00<?, ?B/s]"
      ]
     },
     "metadata": {},
     "output_type": "display_data"
    },
    {
     "data": {
      "application/vnd.jupyter.widget-view+json": {
       "model_id": "ff49ccd216784b98bf01ac4a29f2bbb6",
       "version_major": 2,
       "version_minor": 0
      },
      "text/plain": [
       "config_sentence_transformers.json:   0%|          | 0.00/124 [00:00<?, ?B/s]"
      ]
     },
     "metadata": {},
     "output_type": "display_data"
    },
    {
     "data": {
      "application/vnd.jupyter.widget-view+json": {
       "model_id": "62836183e62b4093835ba71af3899c97",
       "version_major": 2,
       "version_minor": 0
      },
      "text/plain": [
       "README.md:   0%|          | 0.00/94.8k [00:00<?, ?B/s]"
      ]
     },
     "metadata": {},
     "output_type": "display_data"
    },
    {
     "data": {
      "application/vnd.jupyter.widget-view+json": {
       "model_id": "0728d8ce0d09448b8f5646efe0f355f0",
       "version_major": 2,
       "version_minor": 0
      },
      "text/plain": [
       "sentence_bert_config.json:   0%|          | 0.00/52.0 [00:00<?, ?B/s]"
      ]
     },
     "metadata": {},
     "output_type": "display_data"
    },
    {
     "data": {
      "application/vnd.jupyter.widget-view+json": {
       "model_id": "7fc4cede32eb4d65aec19d4111ba91b0",
       "version_major": 2,
       "version_minor": 0
      },
      "text/plain": [
       "config.json:   0%|          | 0.00/743 [00:00<?, ?B/s]"
      ]
     },
     "metadata": {},
     "output_type": "display_data"
    },
    {
     "data": {
      "application/vnd.jupyter.widget-view+json": {
       "model_id": "b2a751a057ea4071af3e7d7f734449aa",
       "version_major": 2,
       "version_minor": 0
      },
      "text/plain": [
       "model.safetensors:   0%|          | 0.00/133M [00:00<?, ?B/s]"
      ]
     },
     "metadata": {},
     "output_type": "display_data"
    },
    {
     "data": {
      "application/vnd.jupyter.widget-view+json": {
       "model_id": "2baab640dcd049eb84494e9f5b760c3e",
       "version_major": 2,
       "version_minor": 0
      },
      "text/plain": [
       "tokenizer_config.json:   0%|          | 0.00/366 [00:00<?, ?B/s]"
      ]
     },
     "metadata": {},
     "output_type": "display_data"
    },
    {
     "data": {
      "application/vnd.jupyter.widget-view+json": {
       "model_id": "d8d6e78570134a2caa2033102ac6009c",
       "version_major": 2,
       "version_minor": 0
      },
      "text/plain": [
       "vocab.txt:   0%|          | 0.00/232k [00:00<?, ?B/s]"
      ]
     },
     "metadata": {},
     "output_type": "display_data"
    },
    {
     "data": {
      "application/vnd.jupyter.widget-view+json": {
       "model_id": "4b50c8e05ae64c4f8f7392e0c19d91ce",
       "version_major": 2,
       "version_minor": 0
      },
      "text/plain": [
       "tokenizer.json:   0%|          | 0.00/711k [00:00<?, ?B/s]"
      ]
     },
     "metadata": {},
     "output_type": "display_data"
    },
    {
     "data": {
      "application/vnd.jupyter.widget-view+json": {
       "model_id": "82bf837957f749e5b24cf1ec5ceaaa5c",
       "version_major": 2,
       "version_minor": 0
      },
      "text/plain": [
       "special_tokens_map.json:   0%|          | 0.00/125 [00:00<?, ?B/s]"
      ]
     },
     "metadata": {},
     "output_type": "display_data"
    },
    {
     "data": {
      "application/vnd.jupyter.widget-view+json": {
       "model_id": "1ca313767d204bd9aee8fd2191746362",
       "version_major": 2,
       "version_minor": 0
      },
      "text/plain": [
       "1_Pooling/config.json:   0%|          | 0.00/190 [00:00<?, ?B/s]"
      ]
     },
     "metadata": {},
     "output_type": "display_data"
    }
   ],
   "source": [
    "from llama_index.core import Settings\n",
    "\n",
    "Settings.llm = llm\n",
    "Settings.embed_model = \"local:BAAI/bge-small-en-v1.5\""
   ]
  },
  {
   "cell_type": "markdown",
   "id": "b411d2ee-3e6b-45b0-b532-4a8e3abcdea0",
   "metadata": {},
   "source": [
    "## Load Data\n",
    "\n",
    "Let's load in the Uber 10Q report."
   ]
  },
  {
   "cell_type": "code",
   "execution_count": null,
   "id": "c39d408f-e885-4940-85c7-b09ca3bc7cb7",
   "metadata": {},
   "outputs": [],
   "source": [
    "!wget 'https://raw.githubusercontent.com/run-llama/llama_index/main/docs/docs/examples/data/10q/uber_10q_march_2022.pdf' -O './uber_10q_march_2022.pdf'"
   ]
  },
  {
   "cell_type": "markdown",
   "id": "c2f42af8-afb3-4b3b-82d3-6b332fb38aa4",
   "metadata": {},
   "source": [
    "## Using LlamaParse in JSON Mode for PDF Reading\n",
    "\n",
    "We show you how to run LlamaParse in JSON mode for PDF reading."
   ]
  },
  {
   "cell_type": "code",
   "execution_count": 4,
   "id": "9c9cd670-8229-4ad6-99a9-845bd82b7ec1",
   "metadata": {},
   "outputs": [
    {
     "name": "stdout",
     "output_type": "stream",
     "text": [
      "Started parsing the file under job_id 80a5a59a-3b11-48a8-a6b8-2cf22b1eb088\n"
     ]
    }
   ],
   "source": [
    "from llama_parse import LlamaParse\n",
    "import json\n",
    "\n",
    "parser = LlamaParse(verbose=True)\n",
    "json_objs = parser.get_json_result(\"./link-file.pdf\")\n",
    "json_list = json_objs[0][\"pages\"]\n",
    "\n",
    "with open(\"./link_json.json\", mode=\"w\") as f:\n",
    "    json.dump(json_list, f, indent=4)"
   ]
  },
  {
   "cell_type": "code",
   "execution_count": null,
   "id": "b26d21d1-05b5-4f49-b937-c13106a84015",
   "metadata": {},
   "outputs": [],
   "source": [
    "from llama_index.core.schema import TextNode\n",
    "from typing import List\n",
    "\n",
    "\n",
    "def get_text_nodes(json_list: List[dict]):\n",
    "    text_nodes = []\n",
    "    for idx, page in enumerate(json_list):\n",
    "        text_node = TextNode(text=page[\"text\"], metadata={\"page\": page[\"page\"]})\n",
    "        text_nodes.append(text_node)\n",
    "    return text_nodes"
   ]
  },
  {
   "cell_type": "code",
   "execution_count": null,
   "id": "364a3276-d2db-4aee-9bc6-617ffd726d25",
   "metadata": {},
   "outputs": [],
   "source": [
    "text_nodes = get_text_nodes(json_list)"
   ]
  },
  {
   "cell_type": "markdown",
   "id": "2fe2e911-0393-42e8-a233-65639cdbebc4",
   "metadata": {},
   "source": [
    "## Extract/Index images from image dicts\n",
    "\n",
    "Here we use a multimodal model to extract and index images from image dictionaries."
   ]
  },
  {
   "cell_type": "code",
   "execution_count": null,
   "id": "36012145-5521-4ddb-a53e-df9ebd1ca8dd",
   "metadata": {},
   "outputs": [
    {
     "name": "stdout",
     "output_type": "stream",
     "text": [
      "mkdir: llama2_images: File exists\n"
     ]
    }
   ],
   "source": [
    "# call get_images on parser, convert to ImageDocuments\n",
    "!mkdir llama2_images\n",
    "\n",
    "from llama_index.core.schema import ImageDocument\n",
    "from llama_index.multi_modal_llms.anthropic import AnthropicMultiModal\n",
    "\n",
    "\n",
    "def get_image_text_nodes(json_objs: List[dict]):\n",
    "    \"\"\"Extract out text from images using a multimodal model.\"\"\"\n",
    "    anthropic_mm_llm = AnthropicMultiModal(max_tokens=300)\n",
    "    image_dicts = parser.get_images(json_objs, download_path=\"llama2_images\")\n",
    "    image_documents = []\n",
    "    img_text_nodes = []\n",
    "    for image_dict in image_dicts:\n",
    "        image_doc = ImageDocument(image_path=image_dict[\"path\"])\n",
    "        response = anthropic_mm_llm.complete(\n",
    "            prompt=\"Describe the images as alt text\",\n",
    "            image_documents=[image_doc],\n",
    "        )\n",
    "        text_node = TextNode(text=str(response), metadata={\"path\": image_dict[\"path\"]})\n",
    "        img_text_nodes.append(text_node)\n",
    "    return img_text_nodes"
   ]
  },
  {
   "cell_type": "code",
   "execution_count": null,
   "id": "38f25045-6102-4920-9cd0-42b0ae6c872f",
   "metadata": {},
   "outputs": [],
   "source": [
    "image_text_nodes = get_image_text_nodes(json_objs)"
   ]
  },
  {
   "cell_type": "code",
   "execution_count": null,
   "id": "4683c97a-da06-408a-9fe9-7e3c0aceb77d",
   "metadata": {},
   "outputs": [
    {
     "data": {
      "text/plain": [
       "'The image shows a bar graph titled \"Monthly Active Platform Consumers (in millions)\". The graph displays data from Q2 2020 to Q1 2022 over 8 quarters. The number of monthly active platform consumers starts at 55 million in Q2 2020 and steadily increases each quarter, reaching 115 million by Q1 2022. The graph illustrates consistent quarter-over-quarter growth in this metric over the nearly 2 year time period shown.'"
      ]
     },
     "execution_count": null,
     "metadata": {},
     "output_type": "execute_result"
    }
   ],
   "source": [
    "image_text_nodes[0].get_content()"
   ]
  },
  {
   "cell_type": "markdown",
   "id": "3cfdf6db-381c-4e53-a0fb-e7670f75e0d5",
   "metadata": {},
   "source": [
    "## Build Index across image and text nodes\n",
    "\n",
    "Here we build a vector index across both text nodes and text nodes extracted from images."
   ]
  },
  {
   "cell_type": "code",
   "execution_count": null,
   "id": "939aec6c-064a-4319-b2dc-70cc4a304c06",
   "metadata": {},
   "outputs": [],
   "source": [
    "from llama_index.core import VectorStoreIndex\n",
    "\n",
    "index = VectorStoreIndex(text_nodes + image_text_nodes)"
   ]
  },
  {
   "cell_type": "code",
   "execution_count": null,
   "id": "529340d5-9319-4cdf-8ee1-bbd01ed00226",
   "metadata": {},
   "outputs": [],
   "source": [
    "query_engine = index.as_query_engine()"
   ]
  },
  {
   "cell_type": "code",
   "execution_count": null,
   "id": "81d7ff30-5a87-44da-880d-4b1f41434d90",
   "metadata": {},
   "outputs": [
    {
     "name": "stdout",
     "output_type": "stream",
     "text": [
      "The bar graph titled \"Monthly Active Platform Consumers (in millions)\" shows the number of monthly active consumers on Uber's platform over a period of 8 quarters from Q2 2020 to Q1 2022. \n",
      "\n",
      "The graph indicates steady quarter-over-quarter growth in this metric, starting at 55 million monthly active platform consumers in Q2 2020 and increasing each quarter to reach 115 million by Q1 2022. This represents consistent growth in Uber's user base on their platform over the nearly 2 year period shown in the graph.\n"
     ]
    }
   ],
   "source": [
    "# ask question over image!\n",
    "response = query_engine.query(\n",
    "    \"What does the bar graph titled 'Monthly Active Platform Consumers' show?\"\n",
    ")\n",
    "print(str(response))"
   ]
  },
  {
   "cell_type": "code",
   "execution_count": null,
   "id": "c4f14ad8-6bfd-49d9-b3d5-7215cf0e4ac1",
   "metadata": {},
   "outputs": [
    {
     "name": "stdout",
     "output_type": "stream",
     "text": [
      "Based on the context provided, some of the main risk factors for Uber include:\n",
      "\n",
      "- A significant percentage of Uber's bookings come from large metropolitan areas, which could be negatively impacted by various economic, social, weather, regulatory and other conditions, including COVID-19.\n",
      "\n",
      "- Uber may fail to successfully offer autonomous vehicle technologies on its platform or these technologies may not perform as expected. \n",
      "\n",
      "- Retaining and attracting high-quality personnel is important for Uber's business and continued attrition could adversely impact the company.\n",
      "\n",
      "- Security breaches, data privacy issues, cyberattacks and unauthorized access to Uber's proprietary data and systems pose risks.\n",
      "\n",
      "- Uber is subject to climate change risks, both physical and transitional, that could adversely impact its business if not managed properly. \n",
      "\n",
      "- Uber relies on third parties for open marketplaces to distribute its platform and software, and interference from these third parties could harm its business.\n",
      "\n",
      "- Uber will require additional capital to support its growth and this capital may not be available on reasonable terms.\n",
      "\n",
      "- Acquisitions and integrations carry risks if Uber is unable to successfully identify and integrate suitable businesses.\n",
      "\n",
      "- Extensive government regulations around payments, financial services, data privacy and other areas pose compliance risks and challenges for Uber's business model in certain jurisdictions.\n"
     ]
    }
   ],
   "source": [
    "# ask question over text!\n",
    "response = query_engine.query(\"What are the main risk factors for Uber?\")\n",
    "print(str(response))"
   ]
  }
 ],
 "metadata": {
  "kernelspec": {
   "display_name": "marker-analysis",
   "language": "python",
   "name": "python3"
  },
  "language_info": {
   "codemirror_mode": {
    "name": "ipython",
    "version": 3
   },
   "file_extension": ".py",
   "mimetype": "text/x-python",
   "name": "python",
   "nbconvert_exporter": "python",
   "pygments_lexer": "ipython3",
   "version": "3.12.7"
  }
 },
 "nbformat": 4,
 "nbformat_minor": 5
}
