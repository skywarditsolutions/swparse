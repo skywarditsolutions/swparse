{
 "cells": [
  {
   "cell_type": "code",
   "execution_count": 2,
   "metadata": {},
   "outputs": [
    {
     "name": "stdout",
     "output_type": "stream",
     "text": [
      "Loading Models\n",
      "Loaded layout model datalab-to/surya_layout on device cuda with dtype torch.float16\n",
      "Loaded texify model to cuda with torch.float16 dtype\n",
      "Loaded recognition model vikp/surya_rec2 on device cuda with dtype torch.float16\n",
      "Loaded table recognition model vikp/surya_tablerec on device cuda with dtype torch.float16\n",
      "Loaded detection model vikp/surya_det3 on device cuda with dtype torch.float16\n",
      "['layout_model', 'texify_model', 'recognition_model', 'table_rec_model', 'detection_model', 'ocr_error_model']\n"
     ]
    }
   ],
   "source": [
    "from marker.models import create_model_dict\n",
    "from typing import Any\n",
    "\n",
    "model_dict: dict[str,Any] | None = None\n",
    "\n",
    "if model_dict is None:\n",
    "    print(\"Loading Models\")\n",
    "    model_dict = create_model_dict()\n",
    "    print(list(model_dict.keys()))"
   ]
  },
  {
   "cell_type": "code",
   "execution_count": 3,
   "metadata": {},
   "outputs": [],
   "source": [
    "# utilities \n",
    "import json\n",
    "from typing import Any\n",
    "\n",
    "def save_md_file(file_name:str, content:str):\n",
    "     with open(f\"./output/{file_name}.md\", mode=\"w\") as f:\n",
    "        f.write(content)\n",
    " \n",
    "def save_str_file(file_name:str, content:str):\n",
    "     with open(f\"./output/{file_name}\", mode=\"w\") as f:\n",
    "        f.write(content)\n",
    "\n",
    "def save_json_file(file_name:str, content:Any):\n",
    "     \n",
    "    with open(f\"./output/{file_name}.json\", \"w\") as f:\n",
    "        f.write(json.dumps(content, indent=4)) \n",
    "\n",
    "\n",
    "def save_html_file(file_name:str, content:Any):\n",
    "     \n",
    "    with open(f\"./output/{file_name}.html\", \"w\") as f:\n",
    "        f.write(json.dumps(content, indent=4)) \n",
    "\n"
   ]
  },
  {
   "cell_type": "code",
   "execution_count": 4,
   "metadata": {},
   "outputs": [
    {
     "name": "stderr",
     "output_type": "stream",
     "text": [
      "Recognizing layout: 100%|██████████| 11/11 [00:12<00:00,  1.18s/it]\n",
      "100%|██████████| 6/6 [00:00<00:00, 44.70it/s]\n",
      "Detecting bboxes: 100%|██████████| 8/8 [00:13<00:00,  1.69s/it]\n",
      "Recognizing Text: 100%|██████████| 27/27 [03:08<00:00,  6.96s/it]\n",
      "Recognizing equations: 0it [00:00, ?it/s]\n",
      "Detecting bboxes: 100%|██████████| 6/6 [00:09<00:00,  1.60s/it]\n",
      "Recognizing Text: 100%|██████████| 21/21 [02:20<00:00,  6.71s/it]\n",
      "Recognizing tables: 100%|██████████| 4/4 [00:08<00:00,  2.09s/it]\n"
     ]
    }
   ],
   "source": [
    "# Document object creation \n",
    "\n",
    "import os\n",
    "import tempfile\n",
    "import warnings\n",
    " \n",
    "# New changes\n",
    "from marker.models import create_model_dict\n",
    "from marker.builders.document import DocumentBuilder\n",
    "from marker.builders.layout import LayoutBuilder\n",
    "from marker.builders.ocr import OcrBuilder\n",
    "from marker.providers.pdf import PdfProvider\n",
    "from marker.schema.document import Document\n",
    "from marker.converters.pdf import PdfConverter\n",
    "from marker.output import save_output\n",
    "\n",
    "os.environ[\"PYTORCH_ENABLE_MPS_FALLBACK\"] = (\"1\")\n",
    " \n",
    "warnings.filterwarnings(\"ignore\", category=UserWarning) \n",
    " \n",
    "# tuple[str, dict[str, Image.Image], dict, list]:\n",
    "if model_dict is None:\n",
    "    print(\"Loading Models\")\n",
    "    model_dict = create_model_dict()\n",
    " \n",
    "\n",
    "\n",
    "with open(\"./pdf/2024 Sales Presentation C6501-PPOs-1.pdf\", mode=\"rb\") as f:\n",
    "    content = f.read()\n",
    "with tempfile.NamedTemporaryFile(suffix=\".pdf\") as temp_pdf:\n",
    "    temp_pdf.write(content)\n",
    "    temp_pdf.seek(0)\n",
    "    filename = temp_pdf.name  \n",
    "    \n",
    "   \n",
    "    pdf_converter = PdfConverter(\n",
    "                config=None,\n",
    "                artifact_dict=model_dict,\n",
    "                processor_list=None,\n",
    "                renderer=None\n",
    "            )\n",
    "    rendered = pdf_converter(filename)\n",
    "    # print(\"images\")\n",
    "    # print(rendered.images)\n",
    "    save_output(rendered, \"native_output\",\"test\")\n",
    "\n",
    " \n"
   ]
  },
  {
   "cell_type": "code",
   "execution_count": 9,
   "metadata": {},
   "outputs": [],
   "source": [
    "save_output(rendered, \"chart\",\"new\")"
   ]
  },
  {
   "cell_type": "code",
   "execution_count": null,
   "metadata": {},
   "outputs": [],
   "source": [
    "# Creating a document\n",
    "\n",
    "pdf_provider = PdfProvider(filepath=filename, config=None) \n",
    "layout_builder = LayoutBuilder(model_dict[\"layout_model\"])\n",
    "ocr_builder = OcrBuilder(recognition_model=model_dict[\"recognition_model\"], detection_model=model_dict[\"detection_model\"])\n",
    "document_builder = DocumentBuilder()\n",
    "\n",
    "document:Document = document_builder(pdf_provider, layout_builder, ocr_builder)   "
   ]
  },
  {
   "cell_type": "code",
   "execution_count": 4,
   "metadata": {},
   "outputs": [
    {
     "ename": "FileNotFoundError",
     "evalue": "/tmp/tmp77y0q43o.pdf",
     "output_type": "error",
     "traceback": [
      "\u001b[0;31m---------------------------------------------------------------------------\u001b[0m",
      "\u001b[0;31mFileNotFoundError\u001b[0m                         Traceback (most recent call last)",
      "Cell \u001b[0;32mIn[4], line 8\u001b[0m\n\u001b[1;32m      1\u001b[0m \u001b[38;5;28;01mfrom\u001b[39;00m \u001b[38;5;21;01mmarker\u001b[39;00m\u001b[38;5;21;01m.\u001b[39;00m\u001b[38;5;21;01moutput\u001b[39;00m \u001b[38;5;28;01mimport\u001b[39;00m save_output\n\u001b[1;32m      2\u001b[0m pdf_converter \u001b[38;5;241m=\u001b[39m PdfConverter(\n\u001b[1;32m      3\u001b[0m             config\u001b[38;5;241m=\u001b[39m\u001b[38;5;28;01mNone\u001b[39;00m,\n\u001b[1;32m      4\u001b[0m             artifact_dict\u001b[38;5;241m=\u001b[39mmodel_dict,\n\u001b[1;32m      5\u001b[0m             processor_list\u001b[38;5;241m=\u001b[39m\u001b[38;5;28;01mNone\u001b[39;00m,\n\u001b[1;32m      6\u001b[0m             renderer\u001b[38;5;241m=\u001b[39m\u001b[38;5;28;01mNone\u001b[39;00m\n\u001b[1;32m      7\u001b[0m         )\n\u001b[0;32m----> 8\u001b[0m rendered \u001b[38;5;241m=\u001b[39m \u001b[43mpdf_converter\u001b[49m\u001b[43m(\u001b[49m\u001b[43mfilename\u001b[49m\u001b[43m)\u001b[49m\n\u001b[1;32m      9\u001b[0m \u001b[38;5;66;03m# print(\"images\")\u001b[39;00m\n\u001b[1;32m     10\u001b[0m \u001b[38;5;66;03m# print(rendered.images)\u001b[39;00m\n\u001b[1;32m     11\u001b[0m text, ext, images \u001b[38;5;241m=\u001b[39m save_output(rendered)\n",
      "File \u001b[0;32m~/Desktop/swparse/.venv/lib/python3.12/site-packages/marker/converters/pdf.py:101\u001b[0m, in \u001b[0;36mPdfConverter.__call__\u001b[0;34m(self, filepath)\u001b[0m\n\u001b[1;32m    100\u001b[0m \u001b[38;5;28;01mdef\u001b[39;00m \u001b[38;5;21m__call__\u001b[39m(\u001b[38;5;28mself\u001b[39m, filepath: \u001b[38;5;28mstr\u001b[39m):\n\u001b[0;32m--> 101\u001b[0m     pdf_provider \u001b[38;5;241m=\u001b[39m \u001b[43mPdfProvider\u001b[49m\u001b[43m(\u001b[49m\u001b[43mfilepath\u001b[49m\u001b[43m,\u001b[49m\u001b[43m \u001b[49m\u001b[38;5;28;43mself\u001b[39;49m\u001b[38;5;241;43m.\u001b[39;49m\u001b[43mconfig\u001b[49m\u001b[43m)\u001b[49m\n\u001b[1;32m    102\u001b[0m     layout_builder \u001b[38;5;241m=\u001b[39m \u001b[38;5;28mself\u001b[39m\u001b[38;5;241m.\u001b[39mresolve_dependencies(LayoutBuilder)\n\u001b[1;32m    103\u001b[0m     ocr_builder \u001b[38;5;241m=\u001b[39m \u001b[38;5;28mself\u001b[39m\u001b[38;5;241m.\u001b[39mresolve_dependencies(OcrBuilder)\n",
      "File \u001b[0;32m~/Desktop/swparse/.venv/lib/python3.12/site-packages/marker/providers/pdf.py:32\u001b[0m, in \u001b[0;36mPdfProvider.__init__\u001b[0;34m(self, filepath, config)\u001b[0m\n\u001b[1;32m     29\u001b[0m \u001b[38;5;28;01mdef\u001b[39;00m \u001b[38;5;21m__init__\u001b[39m(\u001b[38;5;28mself\u001b[39m, filepath: \u001b[38;5;28mstr\u001b[39m, config\u001b[38;5;241m=\u001b[39m\u001b[38;5;28;01mNone\u001b[39;00m):\n\u001b[1;32m     30\u001b[0m     \u001b[38;5;28msuper\u001b[39m()\u001b[38;5;241m.\u001b[39m\u001b[38;5;21m__init__\u001b[39m(filepath, config)\n\u001b[0;32m---> 32\u001b[0m     \u001b[38;5;28mself\u001b[39m\u001b[38;5;241m.\u001b[39mdoc: pdfium\u001b[38;5;241m.\u001b[39mPdfDocument \u001b[38;5;241m=\u001b[39m \u001b[43mpdfium\u001b[49m\u001b[38;5;241;43m.\u001b[39;49m\u001b[43mPdfDocument\u001b[49m\u001b[43m(\u001b[49m\u001b[38;5;28;43mself\u001b[39;49m\u001b[38;5;241;43m.\u001b[39;49m\u001b[43mfilepath\u001b[49m\u001b[43m)\u001b[49m\n\u001b[1;32m     33\u001b[0m     \u001b[38;5;28mself\u001b[39m\u001b[38;5;241m.\u001b[39mpage_lines: ProviderPageLines \u001b[38;5;241m=\u001b[39m {i: [] \u001b[38;5;28;01mfor\u001b[39;00m i \u001b[38;5;129;01min\u001b[39;00m \u001b[38;5;28mrange\u001b[39m(\u001b[38;5;28mlen\u001b[39m(\u001b[38;5;28mself\u001b[39m\u001b[38;5;241m.\u001b[39mdoc))}\n\u001b[1;32m     35\u001b[0m     \u001b[38;5;28;01mif\u001b[39;00m \u001b[38;5;28mself\u001b[39m\u001b[38;5;241m.\u001b[39mpage_range \u001b[38;5;129;01mis\u001b[39;00m \u001b[38;5;28;01mNone\u001b[39;00m:\n",
      "File \u001b[0;32m~/Desktop/swparse/.venv/lib/python3.12/site-packages/pypdfium2/_helpers/document.py:64\u001b[0m, in \u001b[0;36mPdfDocument.__init__\u001b[0;34m(self, input, password, autoclose)\u001b[0m\n\u001b[1;32m     62\u001b[0m     \u001b[38;5;28minput\u001b[39m \u001b[38;5;241m=\u001b[39m \u001b[38;5;28minput\u001b[39m\u001b[38;5;241m.\u001b[39mexpanduser()\u001b[38;5;241m.\u001b[39mresolve()\n\u001b[1;32m     63\u001b[0m     \u001b[38;5;28;01mif\u001b[39;00m \u001b[38;5;129;01mnot\u001b[39;00m \u001b[38;5;28minput\u001b[39m\u001b[38;5;241m.\u001b[39mis_file():\n\u001b[0;32m---> 64\u001b[0m         \u001b[38;5;28;01mraise\u001b[39;00m \u001b[38;5;167;01mFileNotFoundError\u001b[39;00m(\u001b[38;5;28minput\u001b[39m)\n\u001b[1;32m     66\u001b[0m \u001b[38;5;28mself\u001b[39m\u001b[38;5;241m.\u001b[39m_input \u001b[38;5;241m=\u001b[39m \u001b[38;5;28minput\u001b[39m\n\u001b[1;32m     67\u001b[0m \u001b[38;5;28mself\u001b[39m\u001b[38;5;241m.\u001b[39m_password \u001b[38;5;241m=\u001b[39m password\n",
      "\u001b[0;31mFileNotFoundError\u001b[0m: /tmp/tmp77y0q43o.pdf"
     ]
    }
   ],
   "source": [
    "from marker.output import save_output\n",
    "pdf_converter = PdfConverter(\n",
    "            config=None,\n",
    "            artifact_dict=model_dict,\n",
    "            processor_list=None,\n",
    "            renderer=None\n",
    "        )\n",
    "rendered = pdf_converter(filename)\n",
    "# print(\"images\")\n",
    "# print(rendered.images)\n",
    "text, ext, images = save_output(rendered)\n",
    "save_output(rendered, \"chart\",\"new\")"
   ]
  },
  {
   "cell_type": "code",
   "execution_count": 8,
   "metadata": {},
   "outputs": [
    {
     "ename": "TypeError",
     "evalue": "'NoneType' object is not iterable",
     "output_type": "error",
     "traceback": [
      "\u001b[0;31m---------------------------------------------------------------------------\u001b[0m",
      "\u001b[0;31mTypeError\u001b[0m                                 Traceback (most recent call last)",
      "Cell \u001b[0;32mIn[8], line 4\u001b[0m\n\u001b[1;32m      1\u001b[0m \u001b[38;5;28;01mfrom\u001b[39;00m \u001b[38;5;21;01mmarker\u001b[39;00m\u001b[38;5;21;01m.\u001b[39;00m\u001b[38;5;21;01mrenderers\u001b[39;00m\u001b[38;5;21;01m.\u001b[39;00m\u001b[38;5;21;01mjson\u001b[39;00m \u001b[38;5;28;01mimport\u001b[39;00m JSONRenderer\n\u001b[1;32m      3\u001b[0m renderer \u001b[38;5;241m=\u001b[39m JSONRenderer()\n\u001b[0;32m----> 4\u001b[0m md \u001b[38;5;241m=\u001b[39m \u001b[43mrenderer\u001b[49m\u001b[43m(\u001b[49m\u001b[43mdocument\u001b[49m\u001b[43m)\u001b[49m\u001b[38;5;241m.\u001b[39mhtml\n\u001b[1;32m      6\u001b[0m save_md_file(\u001b[38;5;124m\"\u001b[39m\u001b[38;5;124mtest\u001b[39m\u001b[38;5;124m\"\u001b[39m, md)\n",
      "File \u001b[0;32m~/miniconda3/envs/marker-analysis/lib/python3.12/site-packages/marker/renderers/json.py:69\u001b[0m, in \u001b[0;36mJSONRenderer.__call__\u001b[0;34m(self, document)\u001b[0m\n\u001b[1;32m     68\u001b[0m \u001b[38;5;28;01mdef\u001b[39;00m \u001b[38;5;21m__call__\u001b[39m(\u001b[38;5;28mself\u001b[39m, document: Document) \u001b[38;5;241m-\u001b[39m\u001b[38;5;241m>\u001b[39m JSONOutput:\n\u001b[0;32m---> 69\u001b[0m     document_output \u001b[38;5;241m=\u001b[39m \u001b[43mdocument\u001b[49m\u001b[38;5;241;43m.\u001b[39;49m\u001b[43mrender\u001b[49m\u001b[43m(\u001b[49m\u001b[43m)\u001b[49m\n\u001b[1;32m     70\u001b[0m     json_output \u001b[38;5;241m=\u001b[39m []\n\u001b[1;32m     71\u001b[0m     \u001b[38;5;28;01mfor\u001b[39;00m page_output \u001b[38;5;129;01min\u001b[39;00m document_output\u001b[38;5;241m.\u001b[39mchildren:\n",
      "File \u001b[0;32m~/miniconda3/envs/marker-analysis/lib/python3.12/site-packages/marker/schema/document.py:95\u001b[0m, in \u001b[0;36mDocument.render\u001b[0;34m(self)\u001b[0m\n\u001b[1;32m     93\u001b[0m section_hierarchy \u001b[38;5;241m=\u001b[39m \u001b[38;5;28;01mNone\u001b[39;00m\n\u001b[1;32m     94\u001b[0m \u001b[38;5;28;01mfor\u001b[39;00m page \u001b[38;5;129;01min\u001b[39;00m \u001b[38;5;28mself\u001b[39m\u001b[38;5;241m.\u001b[39mpages:\n\u001b[0;32m---> 95\u001b[0m     rendered \u001b[38;5;241m=\u001b[39m \u001b[43mpage\u001b[49m\u001b[38;5;241;43m.\u001b[39;49m\u001b[43mrender\u001b[49m\u001b[43m(\u001b[49m\u001b[38;5;28;43mself\u001b[39;49m\u001b[43m,\u001b[49m\u001b[43m \u001b[49m\u001b[38;5;28;43;01mNone\u001b[39;49;00m\u001b[43m,\u001b[49m\u001b[43m \u001b[49m\u001b[43msection_hierarchy\u001b[49m\u001b[43m)\u001b[49m\n\u001b[1;32m     96\u001b[0m     section_hierarchy \u001b[38;5;241m=\u001b[39m rendered\u001b[38;5;241m.\u001b[39msection_hierarchy\u001b[38;5;241m.\u001b[39mcopy()\n\u001b[1;32m     97\u001b[0m     child_content\u001b[38;5;241m.\u001b[39mappend(rendered)\n",
      "File \u001b[0;32m~/miniconda3/envs/marker-analysis/lib/python3.12/site-packages/marker/schema/blocks/base.py:198\u001b[0m, in \u001b[0;36mBlock.render\u001b[0;34m(self, document, parent_structure, section_hierarchy)\u001b[0m\n\u001b[1;32m    196\u001b[0m \u001b[38;5;28;01mfor\u001b[39;00m block_id \u001b[38;5;129;01min\u001b[39;00m \u001b[38;5;28mself\u001b[39m\u001b[38;5;241m.\u001b[39mstructure:\n\u001b[1;32m    197\u001b[0m     block \u001b[38;5;241m=\u001b[39m document\u001b[38;5;241m.\u001b[39mget_block(block_id)\n\u001b[0;32m--> 198\u001b[0m     rendered \u001b[38;5;241m=\u001b[39m \u001b[43mblock\u001b[49m\u001b[38;5;241;43m.\u001b[39;49m\u001b[43mrender\u001b[49m\u001b[43m(\u001b[49m\u001b[43mdocument\u001b[49m\u001b[43m,\u001b[49m\u001b[43m \u001b[49m\u001b[38;5;28;43mself\u001b[39;49m\u001b[38;5;241;43m.\u001b[39;49m\u001b[43mstructure\u001b[49m\u001b[43m,\u001b[49m\u001b[43m \u001b[49m\u001b[43msection_hierarchy\u001b[49m\u001b[43m)\u001b[49m\n\u001b[1;32m    199\u001b[0m     section_hierarchy \u001b[38;5;241m=\u001b[39m rendered\u001b[38;5;241m.\u001b[39msection_hierarchy\u001b[38;5;241m.\u001b[39mcopy()  \u001b[38;5;66;03m# Update the section hierarchy from the peer blocks\u001b[39;00m\n\u001b[1;32m    200\u001b[0m     child_content\u001b[38;5;241m.\u001b[39mappend(rendered)\n",
      "File \u001b[0;32m~/miniconda3/envs/marker-analysis/lib/python3.12/site-packages/marker/schema/blocks/base.py:203\u001b[0m, in \u001b[0;36mBlock.render\u001b[0;34m(self, document, parent_structure, section_hierarchy)\u001b[0m\n\u001b[1;32m    199\u001b[0m         section_hierarchy \u001b[38;5;241m=\u001b[39m rendered\u001b[38;5;241m.\u001b[39msection_hierarchy\u001b[38;5;241m.\u001b[39mcopy()  \u001b[38;5;66;03m# Update the section hierarchy from the peer blocks\u001b[39;00m\n\u001b[1;32m    200\u001b[0m         child_content\u001b[38;5;241m.\u001b[39mappend(rendered)\n\u001b[1;32m    202\u001b[0m \u001b[38;5;28;01mreturn\u001b[39;00m BlockOutput(\n\u001b[0;32m--> 203\u001b[0m     html\u001b[38;5;241m=\u001b[39m\u001b[38;5;28;43mself\u001b[39;49m\u001b[38;5;241;43m.\u001b[39;49m\u001b[43massemble_html\u001b[49m\u001b[43m(\u001b[49m\u001b[43mchild_content\u001b[49m\u001b[43m,\u001b[49m\u001b[43m \u001b[49m\u001b[43mparent_structure\u001b[49m\u001b[43m)\u001b[49m,\n\u001b[1;32m    204\u001b[0m     polygon\u001b[38;5;241m=\u001b[39m\u001b[38;5;28mself\u001b[39m\u001b[38;5;241m.\u001b[39mpolygon,\n\u001b[1;32m    205\u001b[0m     \u001b[38;5;28mid\u001b[39m\u001b[38;5;241m=\u001b[39m\u001b[38;5;28mself\u001b[39m\u001b[38;5;241m.\u001b[39mid,\n\u001b[1;32m    206\u001b[0m     children\u001b[38;5;241m=\u001b[39mchild_content,\n\u001b[1;32m    207\u001b[0m     section_hierarchy\u001b[38;5;241m=\u001b[39msection_hierarchy\n\u001b[1;32m    208\u001b[0m )\n",
      "File \u001b[0;32m~/miniconda3/envs/marker-analysis/lib/python3.12/site-packages/marker/schema/blocks/form.py:15\u001b[0m, in \u001b[0;36mForm.assemble_html\u001b[0;34m(self, child_blocks, parent_structure)\u001b[0m\n\u001b[1;32m     14\u001b[0m \u001b[38;5;28;01mdef\u001b[39;00m \u001b[38;5;21massemble_html\u001b[39m(\u001b[38;5;28mself\u001b[39m, child_blocks, parent_structure\u001b[38;5;241m=\u001b[39m\u001b[38;5;28;01mNone\u001b[39;00m):\n\u001b[0;32m---> 15\u001b[0m     \u001b[38;5;28;01mreturn\u001b[39;00m \u001b[38;5;28mstr\u001b[39m(\u001b[43mhtml_format\u001b[49m\u001b[43m(\u001b[49m\u001b[38;5;28;43mself\u001b[39;49m\u001b[38;5;241;43m.\u001b[39;49m\u001b[43mcells\u001b[49m\u001b[43m)\u001b[49m)\n",
      "File \u001b[0;32m~/miniconda3/envs/marker-analysis/lib/python3.12/site-packages/tabled/formats/html.py:15\u001b[0m, in \u001b[0;36mhtml_format\u001b[0;34m(cells)\u001b[0m\n\u001b[1;32m     13\u001b[0m \u001b[38;5;28;01mdef\u001b[39;00m \u001b[38;5;21mhtml_format\u001b[39m(cells: List[SpanTableCell]):\n\u001b[1;32m     14\u001b[0m     md_rows \u001b[38;5;241m=\u001b[39m []\n\u001b[0;32m---> 15\u001b[0m     cells \u001b[38;5;241m=\u001b[39m \u001b[43msort_cells\u001b[49m\u001b[43m(\u001b[49m\u001b[43mcells\u001b[49m\u001b[43m)\u001b[49m\n\u001b[1;32m     16\u001b[0m     unique_rows \u001b[38;5;241m=\u001b[39m \u001b[38;5;28mset\u001b[39m([cell\u001b[38;5;241m.\u001b[39mrow_ids[\u001b[38;5;241m0\u001b[39m] \u001b[38;5;28;01mfor\u001b[39;00m cell \u001b[38;5;129;01min\u001b[39;00m cells])\n\u001b[1;32m     17\u001b[0m     unique_cols \u001b[38;5;241m=\u001b[39m \u001b[38;5;28mset\u001b[39m([cell\u001b[38;5;241m.\u001b[39mcol_ids[\u001b[38;5;241m0\u001b[39m] \u001b[38;5;28;01mfor\u001b[39;00m cell \u001b[38;5;129;01min\u001b[39;00m cells])\n",
      "File \u001b[0;32m~/miniconda3/envs/marker-analysis/lib/python3.12/site-packages/tabled/formats/common.py:26\u001b[0m, in \u001b[0;36msort_cells\u001b[0;34m(cells)\u001b[0m\n\u001b[1;32m     25\u001b[0m \u001b[38;5;28;01mdef\u001b[39;00m \u001b[38;5;21msort_cells\u001b[39m(cells: List[SpanTableCell]):\n\u001b[0;32m---> 26\u001b[0m     cell_order \u001b[38;5;241m=\u001b[39m \u001b[43msort_within_cell\u001b[49m\u001b[43m(\u001b[49m\u001b[43mcells\u001b[49m\u001b[43m)\u001b[49m\n\u001b[1;32m     27\u001b[0m     \u001b[38;5;28;01mfor\u001b[39;00m i, cell \u001b[38;5;129;01min\u001b[39;00m \u001b[38;5;28menumerate\u001b[39m(cells):\n\u001b[1;32m     28\u001b[0m         cell\u001b[38;5;241m.\u001b[39morder \u001b[38;5;241m=\u001b[39m cell_order[i]\n",
      "File \u001b[0;32m~/miniconda3/envs/marker-analysis/lib/python3.12/site-packages/tabled/formats/common.py:9\u001b[0m, in \u001b[0;36msort_within_cell\u001b[0;34m(cells, tolerance)\u001b[0m\n\u001b[1;32m      7\u001b[0m \u001b[38;5;28;01mdef\u001b[39;00m \u001b[38;5;21msort_within_cell\u001b[39m(cells, tolerance\u001b[38;5;241m=\u001b[39m\u001b[38;5;241m5\u001b[39m):\n\u001b[1;32m      8\u001b[0m     vertical_groups \u001b[38;5;241m=\u001b[39m {}\n\u001b[0;32m----> 9\u001b[0m     \u001b[38;5;28;01mfor\u001b[39;00m i, cell \u001b[38;5;129;01min\u001b[39;00m \u001b[38;5;28;43menumerate\u001b[39;49m\u001b[43m(\u001b[49m\u001b[43mcells\u001b[49m\u001b[43m)\u001b[49m:\n\u001b[1;32m     10\u001b[0m         group_key \u001b[38;5;241m=\u001b[39m \u001b[38;5;28mround\u001b[39m((cell\u001b[38;5;241m.\u001b[39mbbox[\u001b[38;5;241m1\u001b[39m] \u001b[38;5;241m+\u001b[39m cell\u001b[38;5;241m.\u001b[39mbbox[\u001b[38;5;241m3\u001b[39m]) \u001b[38;5;241m/\u001b[39m \u001b[38;5;241m2\u001b[39m \u001b[38;5;241m/\u001b[39m tolerance)\n\u001b[1;32m     11\u001b[0m         \u001b[38;5;28;01mif\u001b[39;00m group_key \u001b[38;5;129;01mnot\u001b[39;00m \u001b[38;5;129;01min\u001b[39;00m vertical_groups:\n",
      "\u001b[0;31mTypeError\u001b[0m: 'NoneType' object is not iterable"
     ]
    }
   ],
   "source": [
    "from marker.renderers.json import JSONRenderer\n",
    "\n",
    "renderer = JSONRenderer()\n",
    "md = renderer(document).html\n",
    "\n",
    "save_md_file(\"test\", md)"
   ]
  },
  {
   "cell_type": "code",
   "execution_count": null,
   "metadata": {},
   "outputs": [
    {
     "name": "stdout",
     "output_type": "stream",
     "text": [
      "{'page-0': {'_page_0_Picture_1.png': <PIL.Image.Image image mode=RGB size=208x87 at 0x764F3C1374A0>}, 'page-1': {'_page_1_Picture_1.png': <PIL.Image.Image image mode=RGB size=401x94 at 0x764F3C713C80>}, 'page-2': {'_page_2_Picture_1.png': <PIL.Image.Image image mode=RGB size=208x87 at 0x764F3C7121B0>}, 'page-3': {'_page_3_Picture_1.png': <PIL.Image.Image image mode=RGB size=401x90 at 0x764F3F406810>}, 'page-4': {'_page_4_Picture_1.png': <PIL.Image.Image image mode=RGB size=345x90 at 0x764F3F405160>}, 'page-5': {'_page_5_Picture_1.png': <PIL.Image.Image image mode=RGB size=398x93 at 0x764F3C7128D0>}, 'page-6': {'_page_6_Picture_1.png': <PIL.Image.Image image mode=RGB size=376x89 at 0x764F3C713440>}, 'page-7': {'_page_7_Picture_1.png': <PIL.Image.Image image mode=RGB size=340x91 at 0x764F3C42CC50>}, 'page-8': {'_page_8_Picture_1.png': <PIL.Image.Image image mode=RGB size=403x94 at 0x764F3C42F260>}, 'page-9': {'_page_9_Picture_1.png': <PIL.Image.Image image mode=RGB size=385x90 at 0x764F3C42ED80>}, 'page-10': {'_page_10_Picture_0.png': <PIL.Image.Image image mode=RGB size=1203x1026 at 0x764F3C42DA60>}}\n"
     ]
    }
   ],
   "source": [
    "# from marker.renderers.html import HTMLRenderer\n",
    "\n",
    "# renderer = HTMLRenderer({\"paginate_output\": True})\n",
    "# full_html = renderer(document).html\n",
    "\n",
    "# save_html_file(\"test\", full_html)\n",
    "\n",
    "from html_renderer import LLAMAHTMLRenderer\n",
    "\n",
    "renderer = LLAMAHTMLRenderer({\"paginate_output\": True})\n",
    "full_html = renderer(document).paginated_images\n",
    "print(full_html)\n",
    "\n",
    "# save_str_file(\"test.txt\", full_html)"
   ]
  },
  {
   "cell_type": "code",
   "execution_count": 4,
   "metadata": {},
   "outputs": [
    {
     "name": "stderr",
     "output_type": "stream",
     "text": [
      "Recognizing layout: 100%|██████████| 2/2 [00:44<00:00, 22.22s/it]\n",
      "Detecting bboxes: 0it [00:00, ?it/s]\n",
      "Recognizing equations: 0it [00:00, ?it/s]\n",
      "Recognizing tables: 100%|██████████| 1/1 [00:02<00:00,  2.96s/it]\n"
     ]
    }
   ],
   "source": [
    "# PDF to LLAMA conversion \n",
    "\n",
    "import os\n",
    "import tempfile\n",
    "import warnings\n",
    " \n",
    "from marker.converters.pdf import PdfConverter\n",
    "from marker.models import create_model_dict\n",
    "\n",
    "\n",
    "\n",
    "os.environ[\"PYTORCH_ENABLE_MPS_FALLBACK\"] = (\n",
    "    \"1\"  # For some reason, transformers decided to use .isin for a simple op, which is not supported on MPS\n",
    ")\n",
    " \n",
    "warnings.filterwarnings(\"ignore\", category=UserWarning)  # Filter torch pytree user warnings\n",
    "\n",
    "\n",
    " \n",
    "# tuple[str, dict[str, Image.Image], dict, list]:\n",
    "if model_dict is None:\n",
    "    print(\"Loading Models\")\n",
    "    model_dict = create_model_dict()\n",
    "    print(list(model_dict.keys()))\n",
    "\n",
    "\n",
    "with open(\"./test1.pdf\", mode=\"rb\") as f:\n",
    "    content = f.read()\n",
    "with tempfile.NamedTemporaryFile(suffix=\".pdf\") as temp_pdf:\n",
    "    temp_pdf.write(content)\n",
    "    temp_pdf.seek(0)\n",
    "    filename = temp_pdf.name\n",
    "    config = {\n",
    "       \"paginate_output\": True,       \n",
    "    }\n",
    "    processors = [\n",
    "        \"marker.processors.blockquote.BlockquoteProcessor\",\n",
    "        \"marker.processors.code.CodeProcessor\",\n",
    "        \"marker.processors.debug.DebugProcessor\",\n",
    "        \"marker.processors.document_toc.DocumentTOCProcessor\",\n",
    "        \"marker.processors.equation.EquationProcessor\",\n",
    "        \"marker.processors.footnote.FootnoteProcessor\",\n",
    "        \"marker.processors.ignoretext.IgnoreTextProcessor\",\n",
    "        \"marker.processors.line_numbers.LineNumbersProcessor\",\n",
    "        \"marker.processors.list.ListProcessor\",\n",
    "        \"marker.processors.page_header.PageHeaderProcessor\",\n",
    "        \"marker.processors.sectionheader.SectionHeaderProcessor\",\n",
    "        \"marker.processors.table.TableProcessor\",\n",
    "        \"marker.processors.text.TextProcessor\",\n",
    "    ]\n",
    "\n",
    "    pdf_converter = PdfConverter(\n",
    "            config=config,\n",
    "            artifact_dict=model_dict,\n",
    "            processor_list=processors,\n",
    "            renderer= \"llama_json.LLAMAJSONRenderer\"\n",
    "    )\n",
    "    rendered = pdf_converter(filename)\n",
    "    pages = rendered.pages\n",
    "\n",
    "    save_json_file(\"special\", pages)\n",
    "    # save_json_file(\"hm3_pages\", pages)\n",
    "    # print(\"images\")\n",
    "    # print(rendered.images)\n",
    "    # text, ext, images = text_from_rendered(rendered)\n",
    "    \n"
   ]
  }
 ],
 "metadata": {
  "kernelspec": {
   "display_name": ".venv",
   "language": "python",
   "name": "python3"
  },
  "language_info": {
   "codemirror_mode": {
    "name": "ipython",
    "version": 3
   },
   "file_extension": ".py",
   "mimetype": "text/x-python",
   "name": "python",
   "nbconvert_exporter": "python",
   "pygments_lexer": "ipython3",
   "version": "3.12.2"
  }
 },
 "nbformat": 4,
 "nbformat_minor": 2
}
