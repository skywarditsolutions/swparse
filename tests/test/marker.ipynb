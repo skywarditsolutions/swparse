{
 "cells": [
  {
   "cell_type": "code",
   "execution_count": 1,
   "metadata": {},
   "outputs": [
    {
     "name": "stdout",
     "output_type": "stream",
     "text": [
      "Loading Models\n",
      "Loaded layout model datalab-to/surya_layout0 on device cpu with dtype torch.float32\n",
      "Loaded texify model to cpu with torch.float32 dtype\n",
      "Loaded recognition model vikp/surya_rec2 on device cpu with dtype torch.float32\n",
      "Loaded table recognition model vikp/surya_tablerec on device cpu with dtype torch.float32\n",
      "Loaded detection model vikp/surya_det3 on device cpu with dtype torch.float32\n",
      "['layout_model', 'texify_model', 'recognition_model', 'table_rec_model', 'detection_model']\n"
     ]
    }
   ],
   "source": [
    "from marker.models import create_model_dict\n",
    "from typing import Any\n",
    "\n",
    "model_dict: dict[str,Any] | None = None\n",
    "\n",
    "if model_dict is None:\n",
    "    print(\"Loading Models\")\n",
    "    model_dict = create_model_dict()\n",
    "    print(list(model_dict.keys()))"
   ]
  },
  {
   "cell_type": "code",
   "execution_count": 3,
   "metadata": {},
   "outputs": [],
   "source": [
    "# utilities \n",
    "from typing import Any\n",
    "import json\n",
    "import os \n",
    "\n",
    "def save_md_file(file_name:str, content:str):\n",
    "     with open(f\"./md/{file_name}.md\", mode=\"w\") as f:\n",
    "        f.write(content)\n",
    " \n",
    "def save_str_file(file_name:str, content:str):\n",
    "     with open(f\"./txt/{file_name}\", mode=\"w\") as f:\n",
    "        f.write(content)\n",
    "\n",
    "def save_json_file(file_name:str, content:Any):\n",
    "     \n",
    "    with open(f\"./json/{file_name}.json\", \"w\") as f:\n",
    "        f.write(json.dumps(content, indent=4)) \n",
    "\n",
    "\n",
    "def save_html_file(file_name:str, content:Any):\n",
    "     \n",
    "    with open(f\"./html/{file_name}.html\", \"w\") as f:\n",
    "        f.write(json.dumps(content, indent=4)) \n",
    "\n"
   ]
  },
  {
   "cell_type": "code",
   "execution_count": null,
   "metadata": {},
   "outputs": [
    {
     "ename": "SyntaxError",
     "evalue": "invalid syntax (3897320086.py, line 18)",
     "output_type": "error",
     "traceback": [
      "\u001b[0;36m  Cell \u001b[0;32mIn[2], line 18\u001b[0;36m\u001b[0m\n\u001b[0;31m    from marker.output improt save_output\u001b[0m\n\u001b[0m                       ^\u001b[0m\n\u001b[0;31mSyntaxError\u001b[0m\u001b[0;31m:\u001b[0m invalid syntax\n"
     ]
    }
   ],
   "source": [
    "# Document object creation \n",
    "\n",
    "import os\n",
    "import tempfile\n",
    "import warnings\n",
    " \n",
    "# New changes\n",
    "from marker.models import create_model_dict\n",
    "from marker.renderers.json import JSONRenderer\n",
    "\n",
    "from marker.builders.document import DocumentBuilder\n",
    "from marker.builders.layout import LayoutBuilder\n",
    "from marker.builders.ocr import OcrBuilder\n",
    "from marker.providers.pdf import PdfProvider\n",
    "from marker.schema.document import Document\n",
    "from marker.renderers.json import JSONBlockOutput\n",
    "from marker.renderers.json import JSONOutput\n",
    "from marker.output import save_output\n",
    "\n",
    "\n",
    "os.environ[\"PYTORCH_ENABLE_MPS_FALLBACK\"] = (\"1\")\n",
    " \n",
    "warnings.filterwarnings(\"ignore\", category=UserWarning) \n",
    " \n",
    "# tuple[str, dict[str, Image.Image], dict, list]:\n",
    "if model_dict is None:\n",
    "    print(\"Loading Models\")\n",
    "    model_dict = create_model_dict()\n",
    " \n",
    "\n",
    "\n",
    "with open(\"./test1.pdf\", mode=\"rb\") as f:\n",
    "    content = f.read()\n",
    "with tempfile.NamedTemporaryFile(suffix=\".pdf\") as temp_pdf:\n",
    "    temp_pdf.write(content)\n",
    "    temp_pdf.seek(0)\n",
    "    filename = temp_pdf.name\n",
    "\n",
    "\n",
    "    pdf_provider = PdfProvider(filepath=filename, config=None) \n",
    "    layout_builder = LayoutBuilder(model_dict[\"layout_model\"])\n",
    "    ocr_builder = OcrBuilder(recognition_model=model_dict[\"recognition_model\"], detection_model=model_dict[\"detection_model\"])\n",
    "    document_builder = DocumentBuilder()\n",
    "\n",
    "    document:Document = document_builder(pdf_provider, layout_builder, ocr_builder)   \n",
    "\n",
    "\n",
    "    # Whole page markdown conversion\n",
    "    # pdf_converter = PdfConverter(\n",
    "    #             config=None,\n",
    "    #             artifact_dict=model_dict,\n",
    "    #             processor_list=None,\n",
    "    #             renderer=None\n",
    "    #         )\n",
    "    # rendered:MarkdownOutput = pdf_converter(filename)\n",
    "    # # print(\"images\")\n",
    "    # # print(rendered.images)\n",
    "    # # text, ext, images = text_from_rendered(rendered)\n",
    " \n",
    "    # with open(\"./pdf/markdown.md\", mode=\"w\") as f:\n",
    "    #     f.write(rendered.markdown)\n",
    "  \n"
   ]
  },
  {
   "cell_type": "code",
   "execution_count": 2,
   "metadata": {},
   "outputs": [
    {
     "ename": "NameError",
     "evalue": "name 'JSONRenderer' is not defined",
     "output_type": "error",
     "traceback": [
      "\u001b[0;31m---------------------------------------------------------------------------\u001b[0m",
      "\u001b[0;31mNameError\u001b[0m                                 Traceback (most recent call last)",
      "Cell \u001b[0;32mIn[2], line 6\u001b[0m\n\u001b[1;32m      4\u001b[0m \u001b[38;5;28;01mfrom\u001b[39;00m \u001b[38;5;21;01mmarkdownify\u001b[39;00m \u001b[38;5;28;01mimport\u001b[39;00m markdownify \u001b[38;5;28;01mas\u001b[39;00m md\n\u001b[1;32m      5\u001b[0m \u001b[38;5;66;03m# JSON data rendering\u001b[39;00m\n\u001b[0;32m----> 6\u001b[0m renderer \u001b[38;5;241m=\u001b[39m \u001b[43mJSONRenderer\u001b[49m()\n\u001b[1;32m      7\u001b[0m json_result: JSONOutput \u001b[38;5;241m=\u001b[39mrenderer(document)\n\u001b[1;32m      8\u001b[0m pages:\u001b[38;5;28mlist\u001b[39m[JSONBlockOutput] \u001b[38;5;241m=\u001b[39m json_result\u001b[38;5;241m.\u001b[39mchildren\n",
      "\u001b[0;31mNameError\u001b[0m: name 'JSONRenderer' is not defined"
     ]
    }
   ],
   "source": [
    "# JSON conversion\n",
    "\n",
    "import html_text\n",
    "from markdownify import markdownify as md\n",
    "# JSON data rendering\n",
    "renderer = JSONRenderer()\n",
    "json_result: JSONOutput =renderer(document)\n",
    "pages:list[JSONBlockOutput] = json_result.children\n",
    "metadata:dict = json_result.metadata\n",
    "\n",
    "json_llama_data = []\n",
    "\n",
    "for page in pages:\n",
    "    html, images = extract_block_html()\n",
    "    per_page_json = {\n",
    "        \"page\": page.id,\n",
    "        \"block_type\": page.block_type,\n",
    "        \"html\": page.html,\n",
    "        \"text\":html_text.extract_text(page.html),\n",
    "        \"md\": markdown_content,\n",
    "        \"polygon\": page.polygon,\n",
    "        \"nested\": None\n",
    "    }\n",
    "    if page.children:\n",
    "        nested_json_list = []\n",
    "        for nested_json_page in page.children:\n",
    "            nested_json = {\n",
    "                \"page\": nested_json_page.id,\n",
    "                \"block_type\": nested_json_page.block_type,\n",
    "                \"html\": nested_json_page.html,\n",
    "                \"text\": html_text.extract_text(page.html),\n",
    "                \"md\": md(page.html),\n",
    "                \"polygon\": nested_json_page.polygon,\n",
    "                \"nested\": None\n",
    "            }\n",
    "            nested_json_list.append(nested_json)\n",
    "        per_page_json[\"nested\"] = nested_json_list   \n",
    "\n",
    "    json_llama_data.append(per_page_json)\n",
    "\n",
    "save_json_file(\"text\", json_llama_data)\n"
   ]
  },
  {
   "cell_type": "code",
   "execution_count": null,
   "metadata": {},
   "outputs": [],
   "source": [
    "from marker.renderers.markdown import MarkdownRenderer\n",
    "\n",
    "renderer = MarkdownRenderer({\"paginate_output\": True})\n",
    "md = renderer(document).markdown\n",
    "\n",
    "save_md_file(\"test\", md)"
   ]
  },
  {
   "cell_type": "code",
   "execution_count": null,
   "metadata": {},
   "outputs": [
    {
     "name": "stdout",
     "output_type": "stream",
     "text": [
      "{'page-0': {'_page_0_Picture_1.png': <PIL.Image.Image image mode=RGB size=208x87 at 0x764F3C1374A0>}, 'page-1': {'_page_1_Picture_1.png': <PIL.Image.Image image mode=RGB size=401x94 at 0x764F3C713C80>}, 'page-2': {'_page_2_Picture_1.png': <PIL.Image.Image image mode=RGB size=208x87 at 0x764F3C7121B0>}, 'page-3': {'_page_3_Picture_1.png': <PIL.Image.Image image mode=RGB size=401x90 at 0x764F3F406810>}, 'page-4': {'_page_4_Picture_1.png': <PIL.Image.Image image mode=RGB size=345x90 at 0x764F3F405160>}, 'page-5': {'_page_5_Picture_1.png': <PIL.Image.Image image mode=RGB size=398x93 at 0x764F3C7128D0>}, 'page-6': {'_page_6_Picture_1.png': <PIL.Image.Image image mode=RGB size=376x89 at 0x764F3C713440>}, 'page-7': {'_page_7_Picture_1.png': <PIL.Image.Image image mode=RGB size=340x91 at 0x764F3C42CC50>}, 'page-8': {'_page_8_Picture_1.png': <PIL.Image.Image image mode=RGB size=403x94 at 0x764F3C42F260>}, 'page-9': {'_page_9_Picture_1.png': <PIL.Image.Image image mode=RGB size=385x90 at 0x764F3C42ED80>}, 'page-10': {'_page_10_Picture_0.png': <PIL.Image.Image image mode=RGB size=1203x1026 at 0x764F3C42DA60>}}\n"
     ]
    }
   ],
   "source": [
    "# from marker.renderers.html import HTMLRenderer\n",
    "\n",
    "# renderer = HTMLRenderer({\"paginate_output\": True})\n",
    "# full_html = renderer(document).html\n",
    "\n",
    "# save_html_file(\"test\", full_html)\n",
    "\n",
    "from html_renderer import LLAMAHTMLRenderer\n",
    "\n",
    "renderer = LLAMAHTMLRenderer({\"paginate_output\": True})\n",
    "full_html = renderer(document).paginated_images\n",
    "print(full_html)\n",
    "\n",
    "# save_str_file(\"test.txt\", full_html)"
   ]
  },
  {
   "cell_type": "code",
   "execution_count": 4,
   "metadata": {},
   "outputs": [
    {
     "name": "stderr",
     "output_type": "stream",
     "text": [
      "Recognizing layout: 100%|██████████| 2/2 [00:44<00:00, 22.22s/it]\n",
      "Detecting bboxes: 0it [00:00, ?it/s]\n",
      "Recognizing equations: 0it [00:00, ?it/s]\n",
      "Recognizing tables: 100%|██████████| 1/1 [00:02<00:00,  2.96s/it]\n"
     ]
    }
   ],
   "source": [
    "# PDF to LLAMA conversion \n",
    "\n",
    "import os\n",
    "import tempfile\n",
    "import warnings\n",
    " \n",
    "from marker.converters.pdf import PdfConverter\n",
    "from marker.models import create_model_dict\n",
    "\n",
    "\n",
    "\n",
    "os.environ[\"PYTORCH_ENABLE_MPS_FALLBACK\"] = (\n",
    "    \"1\"  # For some reason, transformers decided to use .isin for a simple op, which is not supported on MPS\n",
    ")\n",
    " \n",
    "warnings.filterwarnings(\"ignore\", category=UserWarning)  # Filter torch pytree user warnings\n",
    "\n",
    "\n",
    " \n",
    "# tuple[str, dict[str, Image.Image], dict, list]:\n",
    "if model_dict is None:\n",
    "    print(\"Loading Models\")\n",
    "    model_dict = create_model_dict()\n",
    "    print(list(model_dict.keys()))\n",
    "\n",
    "\n",
    "with open(\"./test1.pdf\", mode=\"rb\") as f:\n",
    "    content = f.read()\n",
    "with tempfile.NamedTemporaryFile(suffix=\".pdf\") as temp_pdf:\n",
    "    temp_pdf.write(content)\n",
    "    temp_pdf.seek(0)\n",
    "    filename = temp_pdf.name\n",
    "    config = {\n",
    "       \"paginate_output\": True,       \n",
    "    }\n",
    "    processors = [\n",
    "        \"marker.processors.blockquote.BlockquoteProcessor\",\n",
    "        \"marker.processors.code.CodeProcessor\",\n",
    "        \"marker.processors.debug.DebugProcessor\",\n",
    "        \"marker.processors.document_toc.DocumentTOCProcessor\",\n",
    "        \"marker.processors.equation.EquationProcessor\",\n",
    "        \"marker.processors.footnote.FootnoteProcessor\",\n",
    "        \"marker.processors.ignoretext.IgnoreTextProcessor\",\n",
    "        \"marker.processors.line_numbers.LineNumbersProcessor\",\n",
    "        \"marker.processors.list.ListProcessor\",\n",
    "        \"marker.processors.page_header.PageHeaderProcessor\",\n",
    "        \"marker.processors.sectionheader.SectionHeaderProcessor\",\n",
    "        \"marker.processors.table.TableProcessor\",\n",
    "        \"marker.processors.text.TextProcessor\",\n",
    "    ]\n",
    "\n",
    "    pdf_converter = PdfConverter(\n",
    "            config=config,\n",
    "            artifact_dict=model_dict,\n",
    "            processor_list=processors,\n",
    "            renderer= \"llama_json.LLAMAJSONRenderer\"\n",
    "    )\n",
    "    rendered = pdf_converter(filename)\n",
    "    pages = rendered.pages\n",
    "\n",
    "    save_json_file(\"special\", pages)\n",
    "    # save_json_file(\"hm3_pages\", pages)\n",
    "    # print(\"images\")\n",
    "    # print(rendered.images)\n",
    "    # text, ext, images = text_from_rendered(rendered)\n",
    "    \n"
   ]
  },
  {
   "cell_type": "code",
   "execution_count": null,
   "metadata": {},
   "outputs": [],
   "source": [
    "1m 13.3s\n",
    "1m 14.8s"
   ]
  }
 ],
 "metadata": {
  "kernelspec": {
   "display_name": "marker-analysis",
   "language": "python",
   "name": "python3"
  },
  "language_info": {
   "codemirror_mode": {
    "name": "ipython",
    "version": 3
   },
   "file_extension": ".py",
   "mimetype": "text/x-python",
   "name": "python",
   "nbconvert_exporter": "python",
   "pygments_lexer": "ipython3",
   "version": "3.12.7"
  }
 },
 "nbformat": 4,
 "nbformat_minor": 2
}
