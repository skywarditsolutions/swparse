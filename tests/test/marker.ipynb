{
 "cells": [
  {
   "cell_type": "code",
   "execution_count": 1,
   "metadata": {},
   "outputs": [
    {
     "name": "stderr",
     "output_type": "stream",
     "text": [
      "/home/hm3/Desktop/swparse/.venv/lib/python3.12/site-packages/tqdm/auto.py:21: TqdmWarning: IProgress not found. Please update jupyter and ipywidgets. See https://ipywidgets.readthedocs.io/en/stable/user_install.html\n",
      "  from .autonotebook import tqdm as notebook_tqdm\n"
     ]
    },
    {
     "name": "stdout",
     "output_type": "stream",
     "text": [
      "Loading Models\n",
      "Loaded layout model datalab-to/surya_layout on device cuda with dtype torch.float16\n",
      "Loaded texify model datalab-to/texify on device cuda with dtype torch.float16\n",
      "Loaded recognition model vikp/surya_rec2 on device cuda with dtype torch.float16\n",
      "Loaded table recognition model datalab-to/surya_tablerec on device cuda with dtype torch.float16\n",
      "Loaded detection model vikp/surya_det3 on device cuda with dtype torch.float16\n",
      "['layout_model', 'texify_model', 'recognition_model', 'table_rec_model', 'detection_model', 'ocr_error_model']\n"
     ]
    }
   ],
   "source": [
    "from marker.models import create_model_dict\n",
    "from typing import Any\n",
    "\n",
    "model_dict: dict[str,Any] | None = None\n",
    "\n",
    "if model_dict is None:\n",
    "    print(\"Loading Models\")\n",
    "    model_dict = create_model_dict()\n",
    "    print(list(model_dict.keys()))\n",
    " "
   ]
  },
  {
   "cell_type": "code",
   "execution_count": 2,
   "metadata": {},
   "outputs": [],
   "source": [
    "# utilities \n",
    "import json\n",
    "from typing import Any\n",
    "\n",
    "def save_md_file(file_name:str, content:str):\n",
    "     with open(f\"./output/{file_name}.md\", mode=\"w\") as f:\n",
    "        f.write(content)\n",
    " \n",
    "def save_str_file(file_name:str, content:str):\n",
    "     with open(f\"./output/{file_name}\", mode=\"w\") as f:\n",
    "        f.write(content)\n",
    "\n",
    "def save_json_file(file_name:str, content:Any):\n",
    "     \n",
    "    with open(f\"./output/{file_name}.json\", \"w\") as f:\n",
    "        f.write(json.dumps(content, indent=4)) \n",
    "\n",
    "\n",
    "def save_html_file(file_name:str, content:Any):\n",
    "     \n",
    "    with open(f\"./output/{file_name}.html\", \"w\") as f:\n",
    "        f.write(json.dumps(content, indent=4)) \n",
    "\n"
   ]
  },
  {
   "cell_type": "code",
   "execution_count": 3,
   "metadata": {},
   "outputs": [
    {
     "name": "stderr",
     "output_type": "stream",
     "text": [
      "Recognizing layout: 100%|██████████| 11/11 [00:12<00:00,  1.17s/it]\n",
      "100%|██████████| 6/6 [00:00<00:00, 30.65it/s]\n",
      "Detecting bboxes: 100%|██████████| 8/8 [00:13<00:00,  1.68s/it]\n",
      "Recognizing Text: 100%|██████████| 6/6 [00:57<00:00,  9.57s/it]\n",
      "Recognizing equations: 0it [00:00, ?it/s]\n",
      "Detecting bboxes: 100%|██████████| 6/6 [00:10<00:00,  1.68s/it]\n",
      "Recognizing Text: 100%|██████████| 21/21 [02:18<00:00,  6.60s/it]\n",
      "Recognizing tables: 100%|██████████| 4/4 [00:14<00:00,  3.73s/it]\n"
     ]
    }
   ],
   "source": [
    "# Document object creation \n",
    "\n",
    "import os\n",
    "import tempfile\n",
    "import warnings\n",
    " \n",
    "# New changes\n",
    "from marker.models import create_model_dict\n",
    "from marker.builders.document import DocumentBuilder\n",
    "from marker.builders.layout import LayoutBuilder\n",
    "from marker.builders.ocr import OcrBuilder\n",
    "from marker.schema.document import Document\n",
    "\n",
    "from marker.config.parser import ConfigParser\n",
    "\n",
    "from marker.providers.pdf import PdfProvider\n",
    "from marker.converters.pdf import PdfConverter\n",
    "\n",
    "os.environ[\"PYTORCH_ENABLE_MPS_FALLBACK\"] = (\"1\")\n",
    " \n",
    "warnings.filterwarnings(\"ignore\", category=UserWarning) \n",
    " \n",
    "# tuple[str, dict[str, Image.Image], dict, list]:\n",
    "if model_dict is None:\n",
    "    print(\"Loading Models\")\n",
    "    model_dict = create_model_dict()\n",
    " \n",
    "\n",
    "pdf_filename = \"2024 Sales Presentation C6501-PPOs-1.pdf\"\n",
    "\n",
    "with open(f\"../resources/pdf/{pdf_filename}\", mode=\"rb\") as f:\n",
    "    content = f.read()\n",
    "with tempfile.NamedTemporaryFile(suffix=\".pdf\") as temp_pdf:\n",
    "    temp_pdf.write(content)\n",
    "    temp_pdf.seek(0)\n",
    "    filename = temp_pdf.name  \n",
    "    \n",
    "    config = {\n",
    "       \"paginate_output\": True,\n",
    "       \"force_ocr\": False       \n",
    "    }\n",
    "    processors = [\n",
    "        \"marker.processors.blockquote.BlockquoteProcessor\",\n",
    "        \"marker.processors.code.CodeProcessor\",\n",
    "        \"marker.processors.debug.DebugProcessor\",\n",
    "        \"marker.processors.document_toc.DocumentTOCProcessor\",\n",
    "        \"marker.processors.equation.EquationProcessor\",\n",
    "        \"marker.processors.footnote.FootnoteProcessor\",\n",
    "        \"marker.processors.ignoretext.IgnoreTextProcessor\",\n",
    "        \"marker.processors.line_numbers.LineNumbersProcessor\",\n",
    "        \"marker.processors.list.ListProcessor\",\n",
    "        \"marker.processors.page_header.PageHeaderProcessor\",\n",
    "        \"marker.processors.sectionheader.SectionHeaderProcessor\",\n",
    "        \"marker.processors.table.TableProcessor\",\n",
    "        \"marker.processors.text.TextProcessor\",\n",
    "    ]\n",
    "    config_parser = ConfigParser(config)\n",
    "    \n",
    "    pdf_converter = PdfConverter(\n",
    "                config=config_parser.generate_config_dict(),\n",
    "                artifact_dict=model_dict,\n",
    "                processor_list=None, \n",
    "                renderer=\"llama_json_renderer.LLAMAJSONRenderer\"\n",
    "            )\n",
    "    rendered = pdf_converter(filename)\n",
    "    \n",
    "\n"
   ]
  },
  {
   "cell_type": "code",
   "execution_count": 5,
   "metadata": {},
   "outputs": [],
   "source": [
    "# save_output(rendered, \"output\",\"new\")\n",
    "pages = rendered.pages\n",
    "filename = pdf_filename.replace(\".pdf\",\"\")\n",
    "save_json_file(filename, pages)\n",
    "save_md_file(filename, rendered.markdown)\n",
    " "
   ]
  },
  {
   "cell_type": "code",
   "execution_count": null,
   "metadata": {},
   "outputs": [],
   "source": [
    "# Creating a document\n",
    "pdf_provider = PdfProvider(filepath=filename, config=None) \n",
    "layout_builder = LayoutBuilder(model_dict[\"layout_model\"])\n",
    "ocr_builder = OcrBuilder(recognition_model=model_dict[\"recognition_model\"], detection_model=model_dict[\"detection_model\"])\n",
    "document_builder = DocumentBuilder()\n",
    "\n",
    "document:Document = document_builder(pdf_provider, layout_builder, ocr_builder)   "
   ]
  },
  {
   "cell_type": "code",
   "execution_count": null,
   "metadata": {},
   "outputs": [],
   "source": [
    "from marker.renderers.json import JSONRenderer\n",
    "\n",
    "renderer = JSONRenderer()\n",
    "md = renderer(document).html\n",
    "\n",
    "save_md_file(\"test\", md)"
   ]
  },
  {
   "cell_type": "code",
   "execution_count": null,
   "metadata": {},
   "outputs": [
    {
     "name": "stdout",
     "output_type": "stream",
     "text": [
      "{'page-0': {'_page_0_Picture_1.png': <PIL.Image.Image image mode=RGB size=208x87 at 0x764F3C1374A0>}, 'page-1': {'_page_1_Picture_1.png': <PIL.Image.Image image mode=RGB size=401x94 at 0x764F3C713C80>}, 'page-2': {'_page_2_Picture_1.png': <PIL.Image.Image image mode=RGB size=208x87 at 0x764F3C7121B0>}, 'page-3': {'_page_3_Picture_1.png': <PIL.Image.Image image mode=RGB size=401x90 at 0x764F3F406810>}, 'page-4': {'_page_4_Picture_1.png': <PIL.Image.Image image mode=RGB size=345x90 at 0x764F3F405160>}, 'page-5': {'_page_5_Picture_1.png': <PIL.Image.Image image mode=RGB size=398x93 at 0x764F3C7128D0>}, 'page-6': {'_page_6_Picture_1.png': <PIL.Image.Image image mode=RGB size=376x89 at 0x764F3C713440>}, 'page-7': {'_page_7_Picture_1.png': <PIL.Image.Image image mode=RGB size=340x91 at 0x764F3C42CC50>}, 'page-8': {'_page_8_Picture_1.png': <PIL.Image.Image image mode=RGB size=403x94 at 0x764F3C42F260>}, 'page-9': {'_page_9_Picture_1.png': <PIL.Image.Image image mode=RGB size=385x90 at 0x764F3C42ED80>}, 'page-10': {'_page_10_Picture_0.png': <PIL.Image.Image image mode=RGB size=1203x1026 at 0x764F3C42DA60>}}\n"
     ]
    }
   ],
   "source": [
    "from html_renderer import LLAMAHTMLRenderer\n",
    "\n",
    "renderer = LLAMAHTMLRenderer({\"paginate_output\": True})\n",
    "images = renderer(document).paginated_images\n",
    "print(images)\n"
   ]
  },
  {
   "cell_type": "code",
   "execution_count": null,
   "metadata": {},
   "outputs": [
    {
     "name": "stderr",
     "output_type": "stream",
     "text": [
      "Recognizing layout: 100%|██████████| 11/11 [00:17<00:00,  1.57s/it]\n",
      "100%|██████████| 6/6 [00:00<00:00, 22.52it/s]\n",
      "Detecting bboxes: 100%|██████████| 8/8 [00:16<00:00,  2.07s/it]\n",
      "Recognizing Text: 100%|██████████| 6/6 [00:59<00:00,  9.98s/it]\n",
      "Recognizing equations: 0it [00:00, ?it/s]\n",
      "Detecting bboxes: 100%|██████████| 6/6 [00:12<00:00,  2.02s/it]\n",
      "Recognizing Text: 100%|██████████| 21/21 [02:31<00:00,  7.21s/it]\n",
      "Recognizing tables: 100%|██████████| 4/4 [00:17<00:00,  4.49s/it]\n"
     ]
    },
    {
     "ename": "NameError",
     "evalue": "name 'Document' is not defined",
     "output_type": "error",
     "traceback": [
      "\u001b[0;31m---------------------------------------------------------------------------\u001b[0m",
      "\u001b[0;31mNameError\u001b[0m                                 Traceback (most recent call last)",
      "Cell \u001b[0;32mIn[3], line 45\u001b[0m\n\u001b[1;32m     42\u001b[0m rendered \u001b[38;5;241m=\u001b[39m pdf_converter(filename)\n\u001b[1;32m     44\u001b[0m \u001b[38;5;66;03m# Ensure rendered is a Document object\u001b[39;00m\n\u001b[0;32m---> 45\u001b[0m \u001b[38;5;28;01mif\u001b[39;00m \u001b[38;5;28misinstance\u001b[39m(rendered, \u001b[43mDocument\u001b[49m):\n\u001b[1;32m     46\u001b[0m     renderer \u001b[38;5;241m=\u001b[39m MarkdownRenderer({\u001b[38;5;124m\"\u001b[39m\u001b[38;5;124mpaginate_output\u001b[39m\u001b[38;5;124m\"\u001b[39m: \u001b[38;5;28;01mTrue\u001b[39;00m})\n\u001b[1;32m     47\u001b[0m     md_result \u001b[38;5;241m=\u001b[39m renderer(rendered)\u001b[38;5;241m.\u001b[39mmarkdown\n",
      "\u001b[0;31mNameError\u001b[0m: name 'Document' is not defined"
     ]
    }
   ],
   "source": [
    "# PDF to LLAMA conversion \n",
    "\n",
    "import os\n",
    "import tempfile\n",
    "import warnings\n",
    "from marker.converters.pdf import PdfConverter\n",
    "from marker.renderers.markdown import MarkdownRenderer\n",
    "os.environ[\"PYTORCH_ENABLE_MPS_FALLBACK\"] = (\n",
    "    \"1\"  # For some reason, transformers decided to use .isin for a simple op, which is not supported on MPS\n",
    ")\n",
    " \n",
    "warnings.filterwarnings(\"ignore\", category=UserWarning)  # Filter torch pytree user warnings\n",
    "\n",
    "pdf_filename = \"2024 Sales Presentation C6501-PPOs-1.pdf\"\n",
    "\n",
    "with open(f\"../resources/pdf/{pdf_filename}\", mode=\"rb\") as f:\n",
    "    content = f.read()\n",
    "with tempfile.NamedTemporaryFile(suffix=\".pdf\") as temp_pdf:\n",
    "    temp_pdf.write(content)\n",
    "    temp_pdf.seek(0)\n",
    "    filename = temp_pdf.name\n",
    "    config = {\n",
    "       \"paginate_output\": True,       \n",
    "    }\n",
    "    processors = [\n",
    "        \"marker.processors.blockquote.BlockquoteProcessor\",\n",
    "        \"marker.processors.code.CodeProcessor\",\n",
    "        \"marker.processors.debug.DebugProcessor\",\n",
    "        \"marker.processors.document_toc.DocumentTOCProcessor\",\n",
    "        \"marker.processors.equation.EquationProcessor\",\n",
    "        \"marker.processors.footnote.FootnoteProcessor\",\n",
    "        \"marker.processors.ignoretext.IgnoreTextProcessor\",\n",
    "        \"marker.processors.line_numbers.LineNumbersProcessor\",\n",
    "        \"marker.processors.list.ListProcessor\",\n",
    "        \"marker.processors.page_header.PageHeaderProcessor\",\n",
    "        \"marker.processors.sectionheader.SectionHeaderProcessor\",\n",
    "        \"marker.processors.table.TableProcessor\",\n",
    "        \"marker.processors.text.TextProcessor\",\n",
    "    ]\n",
    "\n",
    "    pdf_converter = PdfConverter(artifact_dict=model_dict, processor_list=processors)\n",
    "    rendered = pdf_converter(filename)\n"
   ]
  },
  {
   "cell_type": "code",
   "execution_count": 6,
   "metadata": {},
   "outputs": [],
   "source": [
    "\n",
    "# from marker.schema.document import Document\n",
    "\n",
    "    \n",
    "#     # Ensure rendered is a Document object\n",
    "# if isinstance(rendered, Document):\n",
    "#     renderer = MarkdownRenderer({\"paginate_output\": True})\n",
    "#     md_result = renderer(rendered).markdown\n",
    "    \n",
    "#     markdown = md_result\n",
    "    \n",
    "#     save_md_file(\"urgent\", markdown)\n",
    "# else:\n",
    "#     print(\"Error: The rendered object is not a Document.\")\n",
    "\n",
    "from marker.output import save_output\n",
    "\n",
    "\n",
    "save_output(rendered,\"output\",\"this_one\")\n",
    "\n"
   ]
  },
  {
   "cell_type": "code",
   "execution_count": null,
   "metadata": {},
   "outputs": [],
   "source": [
    "pages = rendered.pages\n",
    "\n",
    "filename = pdf_filename.replace(\".pdf\", \"\")\n",
    "save_json_file(filename, pages)\n",
    "\n",
    "save_md_file(filename, rendered.markdown)\n",
    " \n",
    "    # print(\"images\")\n",
    "    # print(rendered.images)\n",
    "    # text, ext, images = text_from_rendered(rendered)\n",
    "    "
   ]
  }
 ],
 "metadata": {
  "kernelspec": {
   "display_name": ".venv",
   "language": "python",
   "name": "python3"
  },
  "language_info": {
   "codemirror_mode": {
    "name": "ipython",
    "version": 3
   },
   "file_extension": ".py",
   "mimetype": "text/x-python",
   "name": "python",
   "nbconvert_exporter": "python",
   "pygments_lexer": "ipython3",
   "version": "3.12.2"
  }
 },
 "nbformat": 4,
 "nbformat_minor": 2
}
