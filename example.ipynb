{
 "cells": [
  {
   "cell_type": "code",
   "execution_count": 3,
   "metadata": {},
   "outputs": [],
   "source": [
    "import nest_asyncio\n",
    "\n",
    "nest_asyncio.apply()\n",
    "\n",
    "from llama_parse import LlamaParse\n",
    "\n",
    "parser = LlamaParse(\n",
    "    api_key=\"llx-...\",  # can also be set in your env as LLAMA_CLOUD_API_KEY\n",
    "    result_type=\"markdown\",  # \"markdown\" and \"text\" are available\n",
    "    num_workers=4,  # if multiple files passed, split in `num_workers` API calls\n",
    "    verbose=True,\n",
    "    language=\"en\",  # Optionally you can define a language, default=e\n",
    "    base_url=\"http://52.202.108.42\"\n",
    ")\n",
    "\n",
    "\n",
    "\n",
    "\n",
    "# async\n",
    "# sync\n",
    "\n",
    "# sync batch\n",
    "\n"
   ]
  },
  {
   "cell_type": "code",
   "execution_count": 4,
   "metadata": {},
   "outputs": [
    {
     "name": "stdout",
     "output_type": "stream",
     "text": [
      "Started parsing the file under job_id saq:job:swparse:6ed09532-4f59-11ef-a8bf-0242ac150005\n",
      "...."
     ]
    }
   ],
   "source": [
    "# sync\n",
    "documents = parser.load_data(\"./tests/test.pdf\")\n"
   ]
  },
  {
   "cell_type": "code",
   "execution_count": 5,
   "metadata": {},
   "outputs": [
    {
     "name": "stderr",
     "output_type": "stream",
     "text": [
      "Parsing files: 100%|██████████| 2/2 [00:20<00:00, 10.02s/it]\n"
     ]
    }
   ],
   "source": [
    "# sync \n",
    "documents = parser.load_data([\"./tests/test.pdf\", \"./tests/test.jpg\"])"
   ]
  },
  {
   "cell_type": "code",
   "execution_count": 6,
   "metadata": {},
   "outputs": [
    {
     "name": "stdout",
     "output_type": "stream",
     "text": [
      "Started parsing the file under job_id saq:job:swparse:be07fba4-4f59-11ef-a8bf-0242ac150005\n"
     ]
    }
   ],
   "source": [
    "documents = await parser.aload_data(\"./tests/test.pdf\")"
   ]
  },
  {
   "cell_type": "code",
   "execution_count": 7,
   "metadata": {},
   "outputs": [
    {
     "name": "stderr",
     "output_type": "stream",
     "text": [
      "Parsing files: 100%|██████████| 2/2 [00:19<00:00,  9.73s/it]\n"
     ]
    }
   ],
   "source": [
    "documents = await parser.aload_data([\"./tests/test.pdf\", \"./tests/test.jpg\"])"
   ]
  },
  {
   "cell_type": "code",
   "execution_count": 8,
   "metadata": {},
   "outputs": [
    {
     "data": {
      "text/plain": [
       "[Document(id_='61988417-2878-473d-82e3-b527ed65c0e5', embedding=None, metadata={}, excluded_embed_metadata_keys=[], excluded_llm_metadata_keys=[], relationships={}, text='# Swparse.Dev\\n\\nBacklinks · 1 Updated Jul 25, 2024 Info\\n- /api/parsing/upload o Create a new job to parse a file.\\n\\n- Upload the file to s3 in the queue and return s3url o Detect File type\\n◆ Process the upoaded file in queue o GET /api/parsing/job/{job_id}/result/{result_type}:\\no Retrieve the parsing result for a given job ID and result type (e.g.,\\nMarkdown JSON, text).\\n\\n- GET /api/parsing/job/{job_id}\\nMarkdown from the parsed result.\\n\\n## Image For Testing\\n\\nON OF GAAP TO NON-GAAP FINANCIAL MEASURES\\n(in millions, except per share data) (Unaudited)\\n\\n| Three Months Ended                              |              |          |      |       |    |       |\\n|-------------------------------------------------|--------------|----------|------|-------|----|-------|\\n| March 30,                                       | December 30, | April 1, |      |       |    |       |\\n| 2024                                            | 2023         | 2023     |      |       |    |       |\\n| s                                               | 2,911        | 2,359    |      |       |    |       |\\n| GAAP gross profit                               | $            | 2,560    | s    |       |    |       |\\n| GAAP gross margin                               | 47 %         | 47 %     | 4 %  |       |    |       |\\n| Stock-based compensation                        | 6            | 6        | 8    |       |    |       |\\n| 215                                             |              |          |      |       |    |       |\\n| Amortization of acquisition-related intangibles | 230          | 305      |      |       |    |       |\\n| Acquisition-related and other costs (1)         | l            | 1        | 3    |       |    |       |\\n| Inventory loss at contract manufacturer ( 2 )   | 65           |          |      |       |    |       |\\n| Non-GAAP gross profit                           | $            | 2,861    | s    | 3,133 | s  | 2,675 |\\n| Non-GAAP gross margin                           | 52 %         | 51 %     | 50 % |       |    |       |\\n\\n\\\\#\\n\\n| | Three Months Ended | March 30, 2024 | December 30, 2023 | April 1, 2023 |   |               |             |        |        |\\n|-------------------------------------------------------------------------------|---------------|-------------|--------|--------|\\n| ------------------                                                            | ------------- | ----------- |        |        |\\n| GAAP gross profit                                                             | $2,560        | $2,911      | $2,359 |        |\\n| GAAP gross margin                                                             | .47%          | .47%        | .44%   |        |\\n| Stock-based compensation                                                      | S6            |             |        |        |\\n| $                                                                             | .58           |             |        |        |\\n| Amortization of acquisition-related intangibles |                             | $230          | CONTROL     | $215   | $$$$   |\\n| Acquisition-related and other costs (1)                                       | $             | S1          | S3     |        |\\n|                                                                               |               |             |        |        |\\n| Inventory loss at contract manufacturer(2)                                    | $65           |             | SO     | 20     |\\n| | Non-GAAP gross profit                                                       | $2,861        |             | $3,133 | $2,675 |\\n| Non-GAAP gross margin                                                         | 152%          | 1 51%       | 1.50%  |        |\\n\\n# RECONCILIATION OF GAAP TO NON-GAAP FINANCIAL MEASURES\\n\\n| | March 30, 2024 | December 30, 2023 | April 1, 2023 |   |          |        |        |\\n|----------------------------------------------------------|----------|--------|--------|\\n| ------------------ | ----------                          |          |        |        |\\n| GAAP gross profit                                        | | $2,560 | $2,911 | $2,359 |\\n| GAAP gross margin                                        | | 47%    | 47%    | 4%     |\\n| Stock-based compensation                                 | 6        | 8      |        |\\n| 6                                                        |          |        |        |\\n| | Amortization of acquisition-related intangibles | 230  | 215      | 305    |        |\\n| | Acquisition-related and other costs (1)                | , 3      |        |        |\\n| :                                                        | 1        |        |        |\\n| | Inventory loss at contract manufacturer (2) .          | 1, 65    | --     | -      |\\n| | Non-GAAP gross profit                                  | $3,133   | $2,675 |        |\\n| | $2,861                                                 |          |        |        |\\n| | Non-GAAP gross margin                                  | 1 52%    | 51%    | 50%    |\\n\\n4', mimetype='text/plain', start_char_idx=None, end_char_idx=None, text_template='{metadata_str}\\n\\n{content}', metadata_template='{key}: {value}', metadata_seperator='\\n'),\n",
       " Document(id_='403e7e2f-db1e-4288-8a62-fb40c73141a6', embedding=None, metadata={}, excluded_embed_metadata_keys=[], excluded_llm_metadata_keys=[], relationships={}, text='\\n| Deliverable - Component   | . T Task               | .                          | Partners -             | MTF xREF ~ Work Type/Size   | r                |\\n|---------------------------|------------------------|----------------------------|------------------------|-----------------------------|------------------|\\n| Onboarding                | Account Management     | Form Dispenser Focus Group | Dispensers             | Task 2                      | Solution Cadence |\\n| Onboarding                | Account Management     | AWS Environment Setup      | Task 3                 | Cloud Configuration         |                  |\\n| Onboarding                | Account Management     | Build Test Harness         | Task 3                 | Full-Stack Development      |                  |\\n| Onboarding                | Account Management     | Login Functionality        | Task 3                 | Full-Stack Development      |                  |\\n| Onboarding                | Account Management     | Bank Account Management    | Task 3                 | Full-Stack Development      |                  |\\n| Onboarding                | Account Management     | Documentation Submission   | Task 3                 | Full-Stack Development      |                  |\\n| Onboarding                | Account Management     | Review & Approval Process  | Task 3                 | Full-Stack Development      |                  |\\n| Self-Service              | Manufacturer Dashboard | Stakeholder Engagement     | Manufacturers          | Task 2                      | HCD Analysis     |\\n| Self-Service              | Manufacturer Dashboard | Build Test Harness         | Task 3                 | Full-Stack Development      |                  |\\n| Self-Service              | Manufacturer Dashboard | Remmittance Advice         | Task 3                 | Full-Stack Development      |                  |\\n| Self-Service              | Manufacturer Dashboard | Documentaion Submission    | Task 3                 | Full-Stack Development      |                  |\\n| Self-Service              | Manufacturer Dashboard | Inquiry Management         | Task 5                 | Full-Stack Development      |                  |\\n| Self-Service              | Manufacturer Dashboard | Dispute Submission         | Task 5                 | Full-Stack Development      |                  |\\n| Full-Stack Development    |                        |                            |                        |                             |                  |\\n| Self-Service              | Manufacturer Dashboard | Site Alerts                | Task 4                 |                             |                  |\\n| Self-Service              | Manufacturer Dashboard | Site Notifications         | Task 4                 | Full-Stack Development      |                  |\\n| Self-Service              | Manufacturer Dashboard | 508 Testing                | Task 4                 | Specialized Testing         |                  |\\n| Self-Service              | Manufacturer Dashboard | Penetration Testing        | Task 4                 | Specialized Testing         |                  |\\n| Self-Service              | Manufacturer Dashboard | Load Testing               | Task 4                 | Specialized Testing         |                  |\\n| Self-Service              | Manufacturer Dashboard | User Acceptance Testing    | Task 2                 | Specialized Testing         |                  |\\n| Self-Service              | Dispenser Dashboard    | Stakeholder Engagement     | Dispensers             | Task 2                      | HCD Analysis     |\\n| Self-Service              | Dispenser Dashboard    | Build Test Harness         | Task 3                 | Full-Stack Development      |                  |\\n| Self-Service              | Dispenser Dashboard    | Remmittance Advice         | Task 3                 | Full-Stack Development      |                  |\\n| Dispenser Dashboard       | Dispute Submission     | Task 5                     | Full-Stack Development |                             |                  |\\n| Self-Service              | Task 5                 |                            |                        |                             |                  |\\n| Self-Service              | Dispenser Dashboard    | Inquiry Management         | Full-Stack Development |                             |                  |\\n| Self-Service              | Dispenser Dashboard    | Site Alerts                | Task 4                 | Full-Stack Development      |                  |\\n| Self-Service              | Dispenser Dashboard    | Site Notifications         | Task 4                 | Full-Stack Development      |                  |\\n| Self-Service              | Dispenser Dashboard    | 508 Testing                | Task 4                 | Specialized Testing         |                  |\\n| Self-Service              | Dispenser Dashboard    | Penetration Testing        | Task 4                 | Specialized Testing         |                  |\\n| Self-Service              | Dispenser Dashboard    | Load Testing               | Task 4                 | Specialized Testing         |                  |\\n| Self-Service              | Dispenser Dashboard    | User Acceptance Testing    | Task 2                 | Specialized Testing         |                  |\\n', mimetype='text/plain', start_char_idx=None, end_char_idx=None, text_template='{metadata_str}\\n\\n{content}', metadata_template='{key}: {value}', metadata_seperator='\\n')]"
      ]
     },
     "execution_count": 8,
     "metadata": {},
     "output_type": "execute_result"
    }
   ],
   "source": [
    "documents"
   ]
  },
  {
   "cell_type": "code",
   "execution_count": null,
   "metadata": {},
   "outputs": [],
   "source": []
  }
 ],
 "metadata": {
  "kernelspec": {
   "display_name": ".venv",
   "language": "python",
   "name": "python3"
  },
  "language_info": {
   "codemirror_mode": {
    "name": "ipython",
    "version": 3
   },
   "file_extension": ".py",
   "mimetype": "text/x-python",
   "name": "python",
   "nbconvert_exporter": "python",
   "pygments_lexer": "ipython3",
   "version": "3.12.4"
  }
 },
 "nbformat": 4,
 "nbformat_minor": 2
}
