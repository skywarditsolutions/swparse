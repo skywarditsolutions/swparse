{
 "cells": [
  {
   "cell_type": "code",
   "execution_count": 27,
   "metadata": {},
   "outputs": [],
   "source": [
    "import nest_asyncio\n",
    "\n",
    "nest_asyncio.apply()\n",
    "\n",
    "from llama_parse import LlamaParse\n",
    "\n",
    "parser = LlamaParse(\n",
    "    api_key=\"llx-...\",  # can also be set in your env as LLAMA_CLOUD_API_KEY\n",
    "    result_type=\"markdown\",  # \"markdown\" and \"text\" are available\n",
    "    num_workers=4,  # if multiple files passed, split in `num_workers` API calls\n",
    "    verbose=True,\n",
    "    language=\"en\",  # Optionally you can define a language, default=e\n",
    "    base_url=\"http://localhost:8000\",\n",
    ")\n",
    "\n",
    "\n",
    "# async\n",
    "# sync\n",
    "\n",
    "# sync batch"
   ]
  },
  {
   "cell_type": "code",
   "execution_count": 28,
   "metadata": {},
   "outputs": [
    {
     "name": "stdout",
     "output_type": "stream",
     "text": [
      "Started parsing the file under job_id saq:job:swparse:549fc62a-8a27-11ef-a226-abf6f2fc36cc\n",
      "............."
     ]
    }
   ],
   "source": [
    "# sync\n",
    "documents = parser.load_data(\"./tests/data/test.pdf\")"
   ]
  },
  {
   "cell_type": "code",
   "execution_count": 29,
   "metadata": {},
   "outputs": [
    {
     "name": "stderr",
     "output_type": "stream",
     "text": [
      "Parsing files: 100%|██████████| 2/2 [00:00<00:00, 415.83it/s]"
     ]
    },
    {
     "name": "stdout",
     "output_type": "stream",
     "text": [
      "Error while parsing the file './tests/test.pdf': [Errno 2] No such file or directory: '/run/media/nozander/8775bc56-c0e8-4aa4-bfd7-e7a3de973eb5/skyward-ai/swparse-fullstack/tests/test.pdf'\n",
      "Error while parsing the file './tests/test.jpg': [Errno 2] No such file or directory: '/run/media/nozander/8775bc56-c0e8-4aa4-bfd7-e7a3de973eb5/skyward-ai/swparse-fullstack/tests/test.jpg'\n"
     ]
    },
    {
     "name": "stderr",
     "output_type": "stream",
     "text": [
      "\n"
     ]
    }
   ],
   "source": [
    "# sync\n",
    "documents = parser.load_data([\"./tests/data/test.pdf\", \"./tests/data/test.jpg\"])"
   ]
  },
  {
   "cell_type": "code",
   "execution_count": 30,
   "metadata": {},
   "outputs": [
    {
     "name": "stdout",
     "output_type": "stream",
     "text": [
      "Error while parsing the file './tests/test.pdf': [Errno 2] No such file or directory: '/run/media/nozander/8775bc56-c0e8-4aa4-bfd7-e7a3de973eb5/skyward-ai/swparse-fullstack/tests/test.pdf'\n"
     ]
    }
   ],
   "source": [
    "documents = await parser.aload_data(\"./tests/data/test.pdf\")"
   ]
  },
  {
   "cell_type": "code",
   "execution_count": 31,
   "metadata": {},
   "outputs": [
    {
     "name": "stderr",
     "output_type": "stream",
     "text": [
      "Parsing files: 100%|██████████| 2/2 [00:00<00:00, 88.28it/s]"
     ]
    },
    {
     "name": "stdout",
     "output_type": "stream",
     "text": [
      "Error while parsing the file './tests/test.pdf': [Errno 2] No such file or directory: '/run/media/nozander/8775bc56-c0e8-4aa4-bfd7-e7a3de973eb5/skyward-ai/swparse-fullstack/tests/test.pdf'\n",
      "Error while parsing the file './tests/test.jpg': [Errno 2] No such file or directory: '/run/media/nozander/8775bc56-c0e8-4aa4-bfd7-e7a3de973eb5/skyward-ai/swparse-fullstack/tests/test.jpg'\n"
     ]
    },
    {
     "name": "stderr",
     "output_type": "stream",
     "text": [
      "\n"
     ]
    }
   ],
   "source": [
    "documents = await parser.aload_data([\"./tests/data/test.pdf\", \"./tests/data/test.jpg\"])"
   ]
  },
  {
   "cell_type": "code",
   "execution_count": 32,
   "metadata": {},
   "outputs": [
    {
     "data": {
      "text/plain": [
       "[]"
      ]
     },
     "execution_count": 32,
     "metadata": {},
     "output_type": "execute_result"
    }
   ],
   "source": [
    "documents"
   ]
  },
  {
   "cell_type": "code",
   "execution_count": null,
   "metadata": {},
   "outputs": [],
   "source": []
  }
 ],
 "metadata": {
  "kernelspec": {
   "display_name": ".venv",
   "language": "python",
   "name": "python3"
  },
  "language_info": {
   "codemirror_mode": {
    "name": "ipython",
    "version": 3
   },
   "file_extension": ".py",
   "mimetype": "text/x-python",
   "name": "python",
   "nbconvert_exporter": "python",
   "pygments_lexer": "ipython3",
   "version": "3.12.6"
  }
 },
 "nbformat": 4,
 "nbformat_minor": 2
}
